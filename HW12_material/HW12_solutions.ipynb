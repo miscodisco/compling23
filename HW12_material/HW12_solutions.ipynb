{
 "cells": [
  {
   "cell_type": "markdown",
   "metadata": {
    "id": "FuqT7ofCAEEO"
   },
   "source": [
    "# Assignment 12: Precision and recall, Boolean search, PageRank\n",
    "\n",
    "\n"
   ]
  },
  {
   "cell_type": "markdown",
   "metadata": {
    "id": "wX8nxvOyAEEP"
   },
   "source": [
    "This problem set consists of several different sections. Some of them involve coding, others require you to specify a number or string, and others are free response."
   ]
  },
  {
   "cell_type": "markdown",
   "metadata": {
    "id": "_pTV-uLsAEEQ"
   },
   "source": [
    "At the end of this lesson, you will be able to:\n",
    "\n",
    "\n",
    "- Compute the precision and recall of a simple search or similar process\n",
    "- Construct and execute simple Boolean searches on a given text\n",
    "- Run the PageRank algorithm, modify its input, and evaluate the consequences on its output\n",
    "\n",
    "\n",
    "While you work on the assignment, save early and often. If you get a \"dead kernel\" error, click on \"Kernel\", then \"Restart\"."
   ]
  },
  {
   "cell_type": "code",
   "execution_count": 1,
   "metadata": {
    "execution": {
     "iopub.execute_input": "2023-03-19T12:29:35.866079Z",
     "iopub.status.busy": "2023-03-19T12:29:35.865899Z",
     "iopub.status.idle": "2023-03-19T12:29:44.016175Z",
     "shell.execute_reply": "2023-03-19T12:29:44.014591Z",
     "shell.execute_reply.started": "2023-03-19T12:29:35.866059Z"
    },
    "id": "TG3F3qGId--X",
    "tags": []
   },
   "outputs": [
    {
     "name": "stdout",
     "output_type": "stream",
     "text": [
      "Requirement already satisfied: nltk in /opt/conda/lib/python3.9/site-packages (3.8.1)\n",
      "Requirement already satisfied: click in /opt/conda/lib/python3.9/site-packages (from nltk) (8.1.3)\n",
      "Requirement already satisfied: tqdm in /opt/conda/lib/python3.9/site-packages (from nltk) (4.64.0)\n",
      "Requirement already satisfied: regex>=2021.8.3 in /opt/conda/lib/python3.9/site-packages (from nltk) (2022.10.31)\n",
      "Requirement already satisfied: joblib in /opt/conda/lib/python3.9/site-packages (from nltk) (1.2.0)\n"
     ]
    },
    {
     "name": "stderr",
     "output_type": "stream",
     "text": [
      "[nltk_data] Downloading package punkt to /home/ucloud/nltk_data...\n",
      "[nltk_data]   Package punkt is already up-to-date!\n"
     ]
    },
    {
     "name": "stdout",
     "output_type": "stream",
     "text": [
      "Requirement already satisfied: torch in /opt/conda/lib/python3.9/site-packages (2.0.0)\n",
      "Requirement already satisfied: nvidia-cudnn-cu11==8.5.0.96 in /opt/conda/lib/python3.9/site-packages (from torch) (8.5.0.96)\n",
      "Requirement already satisfied: nvidia-cublas-cu11==11.10.3.66 in /opt/conda/lib/python3.9/site-packages (from torch) (11.10.3.66)\n",
      "Requirement already satisfied: typing-extensions in /opt/conda/lib/python3.9/site-packages (from torch) (4.2.0)\n",
      "Requirement already satisfied: networkx in /opt/conda/lib/python3.9/site-packages (from torch) (3.0)\n",
      "Requirement already satisfied: nvidia-cufft-cu11==10.9.0.58 in /opt/conda/lib/python3.9/site-packages (from torch) (10.9.0.58)\n",
      "Requirement already satisfied: nvidia-nvtx-cu11==11.7.91 in /opt/conda/lib/python3.9/site-packages (from torch) (11.7.91)\n",
      "Requirement already satisfied: triton==2.0.0 in /opt/conda/lib/python3.9/site-packages (from torch) (2.0.0)\n",
      "Requirement already satisfied: nvidia-nccl-cu11==2.14.3 in /opt/conda/lib/python3.9/site-packages (from torch) (2.14.3)\n",
      "Requirement already satisfied: nvidia-cuda-runtime-cu11==11.7.99 in /opt/conda/lib/python3.9/site-packages (from torch) (11.7.99)\n",
      "Requirement already satisfied: nvidia-cusparse-cu11==11.7.4.91 in /opt/conda/lib/python3.9/site-packages (from torch) (11.7.4.91)\n",
      "Requirement already satisfied: filelock in /opt/conda/lib/python3.9/site-packages (from torch) (3.10.0)\n",
      "Requirement already satisfied: nvidia-curand-cu11==10.2.10.91 in /opt/conda/lib/python3.9/site-packages (from torch) (10.2.10.91)\n",
      "Requirement already satisfied: nvidia-cuda-cupti-cu11==11.7.101 in /opt/conda/lib/python3.9/site-packages (from torch) (11.7.101)\n",
      "Requirement already satisfied: jinja2 in /opt/conda/lib/python3.9/site-packages (from torch) (3.1.2)\n",
      "Requirement already satisfied: nvidia-cuda-nvrtc-cu11==11.7.99 in /opt/conda/lib/python3.9/site-packages (from torch) (11.7.99)\n",
      "Requirement already satisfied: nvidia-cusolver-cu11==11.4.0.1 in /opt/conda/lib/python3.9/site-packages (from torch) (11.4.0.1)\n",
      "Requirement already satisfied: sympy in /opt/conda/lib/python3.9/site-packages (from torch) (1.11.1)\n",
      "Requirement already satisfied: wheel in /opt/conda/lib/python3.9/site-packages (from nvidia-cublas-cu11==11.10.3.66->torch) (0.37.1)\n",
      "Requirement already satisfied: setuptools in /opt/conda/lib/python3.9/site-packages (from nvidia-cublas-cu11==11.10.3.66->torch) (62.3.2)\n",
      "Requirement already satisfied: lit in /opt/conda/lib/python3.9/site-packages (from triton==2.0.0->torch) (15.0.7)\n",
      "Requirement already satisfied: cmake in /opt/conda/lib/python3.9/site-packages (from triton==2.0.0->torch) (3.26.0)\n",
      "Requirement already satisfied: MarkupSafe>=2.0 in /opt/conda/lib/python3.9/site-packages (from jinja2->torch) (2.1.1)\n",
      "Requirement already satisfied: mpmath>=0.19 in /opt/conda/lib/python3.9/site-packages (from sympy->torch) (1.3.0)\n"
     ]
    }
   ],
   "source": [
    "#Preliminary: install and load nltk (Natural Language Toolkit)\n",
    "\n",
    "!pip install nltk\n",
    "import nltk \n",
    "\n",
    "nltk.download('punkt')\n"
   ]
  },
  {
   "cell_type": "markdown",
   "metadata": {
    "id": "zpDhS66VAEER"
   },
   "source": [
    "# 1. Precision and recall\n"
   ]
  },
  {
   "cell_type": "markdown",
   "metadata": {
    "id": "ZZbAFwg9AEER"
   },
   "source": [
    "*Look into what precision and recall mean [here](https://en.wikipedia.org/wiki/Precision_and_recall)* \n",
    "\n",
    "**Question 1.1** You have 100 books on your bookshelf, of which 60 are about cats and 40 are about dogs. You build a catalog for your little collection. Your friend uses this catalog to search your collection for books about cats. The catalog returns the titles of 50 of the books on your shelf. Of the 50 titles it returns, 40 are about cats and the rest are about dogs. What is the **precision** of your catalog in the case of this query? Give the result either as a fraction of integers or as a decimal number."
   ]
  },
  {
   "cell_type": "code",
   "execution_count": 2,
   "metadata": {
    "execution": {
     "iopub.execute_input": "2023-03-19T12:29:44.017733Z",
     "iopub.status.busy": "2023-03-19T12:29:44.017375Z",
     "iopub.status.idle": "2023-03-19T12:29:44.029807Z",
     "shell.execute_reply": "2023-03-19T12:29:44.028368Z",
     "shell.execute_reply.started": "2023-03-19T12:29:44.017698Z"
    },
    "id": "4OK_agaDAEER",
    "tags": []
   },
   "outputs": [
    {
     "data": {
      "text/plain": [
       "0.8"
      ]
     },
     "execution_count": 2,
     "metadata": {},
     "output_type": "execute_result"
    }
   ],
   "source": [
    "solution_q1_1 = 40/50\n",
    "solution_q1_1"
   ]
  },
  {
   "cell_type": "markdown",
   "metadata": {
    "id": "TUfuq_c6AEER"
   },
   "source": [
    "**Question 1.2** And what is the **recall** of your catalog in the case of this query? Give the result either as a fraction of integers or as a decimal number."
   ]
  },
  {
   "cell_type": "code",
   "execution_count": 3,
   "metadata": {
    "execution": {
     "iopub.execute_input": "2023-03-19T12:29:44.032578Z",
     "iopub.status.busy": "2023-03-19T12:29:44.031829Z",
     "iopub.status.idle": "2023-03-19T12:29:44.289452Z",
     "shell.execute_reply": "2023-03-19T12:29:44.288103Z",
     "shell.execute_reply.started": "2023-03-19T12:29:44.032522Z"
    },
    "id": "GnpIJxAkAEER",
    "tags": []
   },
   "outputs": [
    {
     "data": {
      "text/plain": [
       "0.6666666666666666"
      ]
     },
     "execution_count": 3,
     "metadata": {},
     "output_type": "execute_result"
    }
   ],
   "source": [
    "solution_q1_2 = 40/60\n",
    "solution_q1_2"
   ]
  },
  {
   "cell_type": "markdown",
   "metadata": {
    "id": "ou81D9CYB598"
   },
   "source": [
    "# 2. Boolean search using five documents on Star Wars\n"
   ]
  },
  {
   "cell_type": "markdown",
   "metadata": {
    "id": "HUiZR5wIB599"
   },
   "source": [
    "### Making the corpus\n",
    "Below you will find five brief \"documents\" (text snippets) on the Star Wars movies, taken from Wikipedia. Don't forget to run the code in each cell!"
   ]
  },
  {
   "cell_type": "code",
   "execution_count": 4,
   "metadata": {
    "colab": {
     "base_uri": "https://localhost:8080/"
    },
    "execution": {
     "iopub.execute_input": "2023-03-19T12:29:44.292416Z",
     "iopub.status.busy": "2023-03-19T12:29:44.291811Z",
     "iopub.status.idle": "2023-03-19T12:29:44.350051Z",
     "shell.execute_reply": "2023-03-19T12:29:44.348808Z",
     "shell.execute_reply.started": "2023-03-19T12:29:44.292357Z"
    },
    "id": "oNMXc31DB59-",
    "outputId": "a0bd7d01-ba3c-4c5c-d439-79cc3e0b85c8",
    "tags": []
   },
   "outputs": [
    {
     "name": "stdout",
     "output_type": "stream",
     "text": [
      "Frank Oz provided Yoda's voice with each film and spent his skills to be a puppeteer in the original trilogy and Star Wars Episode I: The Phantom Menace. For the latter, in some walking scenes, Warwick Davis incarnated Yoda as well. For the radio dramatizations of The Empire Strikes Back and Return of the Jedi, Yoda was voiced by John Lithgow, while Tom Kane voiced him in the Clone Wars animated series, several video games, and the new series Star Wars: The Clone Wars.\n"
     ]
    }
   ],
   "source": [
    "doc1 = \"Frank Oz provided Yoda's voice with each film and spent his skills to be a puppeteer in the original trilogy and Star Wars Episode I: The Phantom Menace. For the latter, in some walking scenes, Warwick Davis incarnated Yoda as well. For the radio dramatizations of The Empire Strikes Back and Return of the Jedi, Yoda was voiced by John Lithgow, while Tom Kane voiced him in the Clone Wars animated series, several video games, and the new series Star Wars: The Clone Wars.\"\n",
    "\n",
    "# We're going to store these documents in a dictionary, which makes them easier to work with:\n",
    "documents = {'doc1':doc1}\n",
    "print(doc1)"
   ]
  },
  {
   "cell_type": "code",
   "execution_count": 42,
   "metadata": {
    "colab": {
     "base_uri": "https://localhost:8080/"
    },
    "execution": {
     "iopub.execute_input": "2023-03-19T12:47:05.988976Z",
     "iopub.status.busy": "2023-03-19T12:47:05.988083Z",
     "iopub.status.idle": "2023-03-19T12:47:05.997483Z",
     "shell.execute_reply": "2023-03-19T12:47:05.996530Z",
     "shell.execute_reply.started": "2023-03-19T12:47:05.988917Z"
    },
    "id": "s56FE-bTB5-G",
    "outputId": "9c43410c-516e-46df-b9d1-2a34b7730251",
    "tags": []
   },
   "outputs": [
    {
     "name": "stdout",
     "output_type": "stream",
     "text": [
      "Luke Skywalker lives a humdrum existence on Tatooine with his Uncle Owen and Aunt Beru that have kept his father's true history a secret from him. He initially wants to join the Imperial Academy to become a pilot with his childhood friend Biggs Darklighter, but is held back by his uncle who ostensibly needs his help on the moisture farm (while it was to hopefully prevent Luke from following his father's path). He takes his first steps toward his destiny when he finds the two droids C-3PO and R2-D2. After delivering R2-D2's message to hermit Ben Kenobi, Ben tells Luke that his father was a Jedi and presents him with his father's lightsaber and then tells him that his father was murdered by a traitorous Jedi. Ben offers to take Luke to the planet Alderaan and train him in the ways of the Force, but Luke rejects his offer.\n"
     ]
    }
   ],
   "source": [
    "doc2 = \"Luke Skywalker lives a humdrum existence on Tatooine with his Uncle Owen and Aunt Beru that have kept his father's true history a secret from him. He initially wants to join the Imperial Academy to become a pilot with his childhood friend Biggs Darklighter, but is held back by his uncle who ostensibly needs his help on the moisture farm (while it was to hopefully prevent Luke from following his father's path). He takes his first steps toward his destiny when he finds the two droids C-3PO and R2-D2. After delivering R2-D2's message to hermit Ben Kenobi, Ben tells Luke that his father was a Jedi and presents him with his father's lightsaber and then tells him that his father was murdered by a traitorous Jedi. Ben offers to take Luke to the planet Alderaan and train him in the ways of the Force, but Luke rejects his offer.\"\n",
    "\n",
    "documents['doc2'] = doc2\n",
    "print(doc2)"
   ]
  },
  {
   "cell_type": "code",
   "execution_count": 6,
   "metadata": {
    "colab": {
     "base_uri": "https://localhost:8080/"
    },
    "execution": {
     "iopub.execute_input": "2023-03-19T12:29:44.500474Z",
     "iopub.status.busy": "2023-03-19T12:29:44.499701Z",
     "iopub.status.idle": "2023-03-19T12:29:44.742566Z",
     "shell.execute_reply": "2023-03-19T12:29:44.741340Z",
     "shell.execute_reply.started": "2023-03-19T12:29:44.500414Z"
    },
    "id": "jT1QGAR2B5-I",
    "outputId": "2f1ec473-9199-466e-a1ee-335a0640fa09",
    "tags": []
   },
   "outputs": [
    {
     "name": "stdout",
     "output_type": "stream",
     "text": [
      "When the Empire attacks the Rebel base, Solo transports Chewbacca, along with Princess Leia and C-3PO to Cloud City where his old friend (and Cloud City administrator) Lando Calrissian operates to hide from Imperial agents. When bounty hunter Boba Fett tracks the Falcon to Cloud City, Darth Vader forces Calrissian to help capture Solo sealed in carbonite for delivery to Jabba the Hutt. But Lando frees Vader's other captives and they may rescue Solo but are too late as Fett escapes with Solo's frozen body.\n"
     ]
    }
   ],
   "source": [
    "doc3 = \"When the Empire attacks the Rebel base, Solo transports Chewbacca, along with Princess Leia and C-3PO to Cloud City where his old friend (and Cloud City administrator) Lando Calrissian operates to hide from Imperial agents. When bounty hunter Boba Fett tracks the Falcon to Cloud City, Darth Vader forces Calrissian to help capture Solo sealed in carbonite for delivery to Jabba the Hutt. But Lando frees Vader's other captives and they may rescue Solo but are too late as Fett escapes with Solo's frozen body.\"\n",
    "\n",
    "documents['doc3'] = doc3\n",
    "print(doc3)"
   ]
  },
  {
   "cell_type": "code",
   "execution_count": 7,
   "metadata": {
    "colab": {
     "base_uri": "https://localhost:8080/"
    },
    "execution": {
     "iopub.execute_input": "2023-03-19T12:29:44.745741Z",
     "iopub.status.busy": "2023-03-19T12:29:44.744962Z",
     "iopub.status.idle": "2023-03-19T12:29:44.768642Z",
     "shell.execute_reply": "2023-03-19T12:29:44.767258Z",
     "shell.execute_reply.started": "2023-03-19T12:29:44.745683Z"
    },
    "id": "BAoLJGeTB5-L",
    "outputId": "0eaadb50-662e-45c3-e402-33e95f5492b7",
    "tags": []
   },
   "outputs": [
    {
     "name": "stdout",
     "output_type": "stream",
     "text": [
      "In her first appearance in Star Wars Episode IV: A New Hope, Princess Leia is introduced as the Princess of Alderaan and a member of the Imperial Senate. Darth Vader captures her on board the ship Tantive IV, where she is acting as a spy for the Rebel Alliance. He accuses her of being a traitor and demands to know the location of the secret technical plans of the Death Star, the Galactic Empire's most powerful weapon. Unknown to Vader, the young Senator has hidden the plans inside the Astromech droid R2-D2 and has sent it to find Jedi Master Obi-Wan Kenobi on the nearby planet of Tatooine.\n"
     ]
    }
   ],
   "source": [
    "doc4 = \"In her first appearance in Star Wars Episode IV: A New Hope, Princess Leia is introduced as the Princess of Alderaan and a member of the Imperial Senate. Darth Vader captures her on board the ship Tantive IV, where she is acting as a spy for the Rebel Alliance. He accuses her of being a traitor and demands to know the location of the secret technical plans of the Death Star, the Galactic Empire's most powerful weapon. Unknown to Vader, the young Senator has hidden the plans inside the Astromech droid R2-D2 and has sent it to find Jedi Master Obi-Wan Kenobi on the nearby planet of Tatooine.\"\n",
    "\n",
    "documents['doc4'] = doc4\n",
    "print(doc4)"
   ]
  },
  {
   "cell_type": "code",
   "execution_count": 8,
   "metadata": {
    "colab": {
     "base_uri": "https://localhost:8080/"
    },
    "execution": {
     "iopub.execute_input": "2023-03-19T12:29:44.771516Z",
     "iopub.status.busy": "2023-03-19T12:29:44.770765Z",
     "iopub.status.idle": "2023-03-19T12:29:44.830397Z",
     "shell.execute_reply": "2023-03-19T12:29:44.829011Z",
     "shell.execute_reply.started": "2023-03-19T12:29:44.771459Z"
    },
    "id": "pMyIV6R-B5-N",
    "outputId": "37c297e2-430f-4717-a1ec-2d1c38ee09a4",
    "tags": []
   },
   "outputs": [
    {
     "name": "stdout",
     "output_type": "stream",
     "text": [
      "Three years later in Star Wars Episode V: The Empire Strikes Back, Lord Vader leads an Imperial starfleet in pursuit of the Rebels. Intent on turning Luke to the dark side, Vader captures Princess Leia, Han Solo, Chewbacca and C-3PO on Cloud City to use them as bait for Luke. During a lightsaber duel, Vader cuts off Luke's right hand and reveals that he is Luke's father\n"
     ]
    }
   ],
   "source": [
    "doc5 = \"Three years later in Star Wars Episode V: The Empire Strikes Back, Lord Vader leads an Imperial starfleet in pursuit of the Rebels. Intent on turning Luke to the dark side, Vader captures Princess Leia, Han Solo, Chewbacca and C-3PO on Cloud City to use them as bait for Luke. During a lightsaber duel, Vader cuts off Luke's right hand and reveals that he is Luke's father\"\n",
    "\n",
    "documents['doc5'] = doc5\n",
    "print(doc5)"
   ]
  },
  {
   "cell_type": "code",
   "execution_count": 9,
   "metadata": {
    "colab": {
     "base_uri": "https://localhost:8080/"
    },
    "execution": {
     "iopub.execute_input": "2023-03-19T12:29:44.833498Z",
     "iopub.status.busy": "2023-03-19T12:29:44.832745Z",
     "iopub.status.idle": "2023-03-19T12:29:44.878438Z",
     "shell.execute_reply": "2023-03-19T12:29:44.877143Z",
     "shell.execute_reply.started": "2023-03-19T12:29:44.833441Z"
    },
    "id": "PW1lxkfdB5-Q",
    "outputId": "58c490b6-dcf4-452d-a13d-6b142da082b1",
    "tags": []
   },
   "outputs": [
    {
     "name": "stdout",
     "output_type": "stream",
     "text": [
      "\n",
      " doc1: \n",
      " Frank Oz provided Yoda's voice with each film and  ...\n",
      "\n",
      " doc2: \n",
      " Luke Skywalker lives a humdrum existence on Tatooi ...\n",
      "\n",
      " doc3: \n",
      " When the Empire attacks the Rebel base, Solo trans ...\n",
      "\n",
      " doc4: \n",
      " In her first appearance in Star Wars Episode IV: A ...\n",
      "\n",
      " doc5: \n",
      " Three years later in Star Wars Episode V: The Empi ...\n"
     ]
    }
   ],
   "source": [
    "# You can print the start of each document to make sure \n",
    "# that all 5 documents have been stored properly:\n",
    "for doc in sorted(documents):\n",
    "    print(f\"\\n {doc}: \\n {documents[doc][0:50]} ...\")"
   ]
  },
  {
   "cell_type": "markdown",
   "metadata": {
    "id": "X7WJT8RqB5-U"
   },
   "source": [
    "### Boolean serach\n",
    "Boolean search looks for documents based on the presence or absence of specific search terms. The following cell defines a limited version of boolean search that you will use in subsequent cells. In those cells, you will call the function defined here by specifying a set of terms and whether the documents found should contain *all* or *any* of the terms, using the \"and\" and \"or\" operators, respectively."
   ]
  },
  {
   "cell_type": "code",
   "execution_count": 10,
   "metadata": {
    "execution": {
     "iopub.execute_input": "2023-03-19T12:29:44.881613Z",
     "iopub.status.busy": "2023-03-19T12:29:44.880856Z",
     "iopub.status.idle": "2023-03-19T12:29:44.902316Z",
     "shell.execute_reply": "2023-03-19T12:29:44.901378Z",
     "shell.execute_reply.started": "2023-03-19T12:29:44.881555Z"
    },
    "id": "DbV-wfDcB5-U",
    "tags": []
   },
   "outputs": [],
   "source": [
    "# Please run the code in this cell without changing it - see code explanation below\n",
    "import re\n",
    "def boolean(comparison,terms,documents): # 1\n",
    "    # invert dictionary\n",
    "    documents_inverse = {value.lower():key for key,value in documents.items()} #2\n",
    "    # if we got just one term (i.e., a string), make it into a list of one\n",
    "    if type(terms)==str: # 3\n",
    "        terms = [terms]\n",
    "        \n",
    "    relevant = []\n",
    "    if comparison == \"or\": # 4\n",
    "        for d in documents: # 5\n",
    "            document = documents[d].lower()\n",
    "            rel = False # 6\n",
    "            for term in terms:\n",
    "                # search using regular expression \\b (word boundary) operator so we only match whole words\n",
    "                if re.search(r\"\\b\" + re.escape(term.lower()) + r\"\\b\", document):\n",
    "                    rel = True\n",
    "            if rel == True:\n",
    "                relevant.append(documents_inverse[document])\n",
    "    if comparison == \"and\":\n",
    "        for d in documents:\n",
    "            document = documents[d].lower()\n",
    "            rel = True\n",
    "            for term in terms:\n",
    "                # search using regular expression \\b (word boundary) operator so we only match whole words\n",
    "                if not re.search(r\"\\b\" + re.escape(term.lower()) + r\"\\b\", document):\n",
    "                    rel = False\n",
    "            if rel == True:\n",
    "                relevant.append(documents_inverse[document])\n",
    "    \n",
    "    return relevant"
   ]
  },
  {
   "cell_type": "markdown",
   "metadata": {
    "id": "Qs17laPHAEES"
   },
   "source": [
    "#### Code Explanation - the in depth version \n",
    "_The following explanation refers to the above code block, referencing parts in parentheses, e.g. `(1)`._\n",
    "\n",
    "(1) This line here, as we have seen before, defines a function called `boolean` that takes three arguments: `comparison`, `terms`, and `documents`. \n",
    "\n",
    "(2) This line goes ahead and inverts the dictionary `documents` that we pass into the function whenever we use it using something called list comprehension. It switches every key, value pair in the dictionary. This means that the text becomes the key, and the document name (doc1, doc2, doc3, doc4) becomes the value. \n",
    "\n",
    "`documents_inverse = {value.lower():key for key,value in documents.items()}` is the same as: <br>\n",
    "        \n",
    "        documents_inverse = {} \n",
    "        for key,value in documents.items():\n",
    "            value = value.lower()\n",
    "            documents_inverse[value] = key\n",
    "            \n",
    "The reason we make the inversed dictionary is so we can check which document name (doc1, doc2, doc3, doc4) that fits the text with the matched term(s). In other words, we go into the regular dictionary and find which texts contain the terms we are interested in and then we go into the inversed dictionary to fin the corresponding document name for that text. \n",
    "\n",
    "(3) As the comment above suggestions, we check to see if the variable `terms` is a string. If it is, we go ahead and convert it to a list. The reason we do this is because the code below acts as though `terms` is always a list. If we didn't change `terms` to a list here, then each loop below would check each _character_ of the string `terms`. A string is just a list of characters! Anyway, the takeaway is that, because the code below uses `terms` as if its a list, we want to make sure it's always a list.\n",
    "\n",
    "(4) Here we have our two checks for `comparison` (well, the second one is below that checks if it equals `\"and\"`, but the blocks are rather similar). \n",
    "\n",
    "(5) The body of our if statement goes ahead and iterates through every document we've assigned above. It then uses regular expressions to find where each term shows up and appends- or adds- the document to a list called `relevant`. Then, when the function returns `relevant` as a list, we get a list of all the documents where our terms show up, depending on whether we use `\"or\"` or `\"and\"`. Nice! \n",
    "\n",
    "(6) Using a boolean statement like this is both useful and highlights how the \"or\" operator works differently from the \"and\" operator. Specifically, if the operator is \"or\", we start the search for any of the terms within a specific document by first setting rel to False. If we then find any of the terms in the document, we set it to True. Once checking for the terms is over, we check whether rel is True and if it is, we append the document name to our list of relevant documents. However, for the \"and\" operator, we kind of do the opposite. We start by assuming that the document will be relevant by setting relevant to True. When we then loop over the terms, if any of the terms is NOT in the document, we set rel to False, and the document will not be appended to our list of relevant terms. This means the document is diqualified from being relevant if it does not contain *all* of the terms we are searching for. \n",
    "\n",
    "\n",
    "#### How the function works in short\n",
    "We give the function an operator (\"and\" or \"or\"), the terms we want to search for, and the dictionary of documents we wish to search in. We then check all the documents in the dictionary based on the operator we specified. If it was the \"or\" operator, we find the documents that contain any of the terms and return a list of those documents. We do this by finding the corresponding document name in our inverted dictionary for each text that was relevant. If it was the \"and\" operator, we find all the documents that contain all the terms we specified by excluding documents that do not have a term, and again make a list of those documents' name. \n",
    "\n",
    "\n",
    "The cell below explains how to particularly use this function."
   ]
  },
  {
   "cell_type": "markdown",
   "metadata": {
    "id": "QTuCX3l2B5-X"
   },
   "source": [
    "You can do Boolean retrieval by calling the above function (called `boolean`). When calling the function, you need to give it three arguments:\n",
    "\n",
    "* the operator (\"and\" or \"or\")\n",
    "* a list of terms to search for (`[\"Term1\",\"Term2\"...\"TermN\"]`)\n",
    "* the document collection to search through (in this case our dictionary called `documents`)\n",
    "\n",
    "When only one term is searched for, it goes into a list by itself. In that case, it doesn't matter whether the operator is \"and\" or \"or\".\n",
    "\n",
    "Try running the following example:"
   ]
  },
  {
   "cell_type": "code",
   "execution_count": 11,
   "metadata": {
    "colab": {
     "base_uri": "https://localhost:8080/"
    },
    "execution": {
     "iopub.execute_input": "2023-03-19T12:29:44.905238Z",
     "iopub.status.busy": "2023-03-19T12:29:44.904362Z",
     "iopub.status.idle": "2023-03-19T12:29:44.943105Z",
     "shell.execute_reply": "2023-03-19T12:29:44.941910Z",
     "shell.execute_reply.started": "2023-03-19T12:29:44.905151Z"
    },
    "id": "qeK0quZlB5-Y",
    "outputId": "0a5b13a7-45ab-4557-f119-3f20a711db63"
   },
   "outputs": [
    {
     "data": {
      "text/plain": [
       "['doc2']"
      ]
     },
     "execution_count": 11,
     "metadata": {},
     "output_type": "execute_result"
    }
   ],
   "source": [
    "boolean(\"and\", [\"the\", \"force\"], documents)"
   ]
  },
  {
   "cell_type": "markdown",
   "metadata": {
    "id": "-jiO4HkCB5-a"
   },
   "source": [
    "Convince yourself that the returned documents indeed contain the right query terms!\n"
   ]
  },
  {
   "cell_type": "markdown",
   "metadata": {
    "id": "q6-Vhg9gAEET"
   },
   "source": [
    "**Question 2.1** Using the Boolean retrieval model as implemented in the function `boolean`, construct a query that returns the set of documents that contain both the word \"Darth\" and the word \"Vader\"."
   ]
  },
  {
   "cell_type": "code",
   "execution_count": 12,
   "metadata": {
    "colab": {
     "base_uri": "https://localhost:8080/"
    },
    "execution": {
     "iopub.execute_input": "2023-03-19T12:29:44.946077Z",
     "iopub.status.busy": "2023-03-19T12:29:44.945333Z",
     "iopub.status.idle": "2023-03-19T12:29:44.977776Z",
     "shell.execute_reply": "2023-03-19T12:29:44.976192Z",
     "shell.execute_reply.started": "2023-03-19T12:29:44.946022Z"
    },
    "id": "_eyWc_LZAEET",
    "outputId": "fe6a6cf0-da33-4623-eaf0-c59dd8612733",
    "tags": []
   },
   "outputs": [
    {
     "name": "stdout",
     "output_type": "stream",
     "text": [
      "['doc3', 'doc4']\n"
     ]
    }
   ],
   "source": [
    "solution_2_1 = boolean(\"and\", [\"Darth\", \"Vader\"], documents)\n",
    "# You can check your results by running this cell\n",
    "print(solution_2_1)"
   ]
  },
  {
   "cell_type": "markdown",
   "metadata": {
    "id": "thSj4vgKAEET"
   },
   "source": [
    "**Question 2.2** Now construct a query that returns the set of documents that contain either the word \"Darth\" or the word \"Vader\" (or both)."
   ]
  },
  {
   "cell_type": "code",
   "execution_count": 13,
   "metadata": {
    "colab": {
     "base_uri": "https://localhost:8080/"
    },
    "execution": {
     "iopub.execute_input": "2023-03-19T12:29:44.981346Z",
     "iopub.status.busy": "2023-03-19T12:29:44.980576Z",
     "iopub.status.idle": "2023-03-19T12:29:45.138163Z",
     "shell.execute_reply": "2023-03-19T12:29:45.136966Z",
     "shell.execute_reply.started": "2023-03-19T12:29:44.981272Z"
    },
    "id": "RYIAYWi7AEET",
    "outputId": "db1322d0-f256-4088-cc9c-05fcf0eb30ef",
    "tags": []
   },
   "outputs": [
    {
     "name": "stdout",
     "output_type": "stream",
     "text": [
      "['doc3', 'doc4', 'doc5']\n"
     ]
    }
   ],
   "source": [
    "solution_2_2 = boolean(\"or\", [\"Darth\", \"Vader\"], documents)\n",
    "# You can check your results by running this cell\n",
    "print(solution_2_2)"
   ]
  },
  {
   "cell_type": "markdown",
   "metadata": {
    "id": "71Hll_w6AEET"
   },
   "source": [
    "**Question 2.3** Now construct a query that returns the set of documents that contain at least one of the following words: \"Darth\", \"Vader\", \"Luke\", \"Skywalker\"."
   ]
  },
  {
   "cell_type": "code",
   "execution_count": 14,
   "metadata": {
    "colab": {
     "base_uri": "https://localhost:8080/"
    },
    "execution": {
     "iopub.execute_input": "2023-03-19T12:29:45.141101Z",
     "iopub.status.busy": "2023-03-19T12:29:45.140363Z",
     "iopub.status.idle": "2023-03-19T12:29:45.272413Z",
     "shell.execute_reply": "2023-03-19T12:29:45.271035Z",
     "shell.execute_reply.started": "2023-03-19T12:29:45.141046Z"
    },
    "id": "9XncHsEwAEET",
    "outputId": "376631cf-ecc6-4c31-85c0-95b7fbae1de1",
    "scrolled": true,
    "tags": []
   },
   "outputs": [
    {
     "name": "stdout",
     "output_type": "stream",
     "text": [
      "['doc2', 'doc3', 'doc4', 'doc5']\n"
     ]
    }
   ],
   "source": [
    "solution_2_3 = boolean(\"or\", [\"Darth\", \"Vader\", \"Luke\", \"Skywalker\"], documents)\n",
    "# You can check your results by running this cell\n",
    "print(solution_2_3)"
   ]
  },
  {
   "cell_type": "markdown",
   "metadata": {
    "id": "P9dyH4-gAEET"
   },
   "source": [
    "# 3. Vectors\n",
    "The  boolean  search  demonstrated  above  requires  exact  matches  and  returns  all  matching  documents.  Vector  space  models  instead  allow  partial  matching  and,  as  implemented  below,  allow  us  to  rank  the  returned  documents.  Informally,  this  model  generates  a  numeric  representation  of  each  document  and  the  query  and  computes  similarity  as  a  number  between  0  and  1.  A  document  with  a  low  score  contains  few  of  the  search  terms,  while  a  document  with  a  higher  score  contains  more  search  terms.  This  measure  of  similarity  also  normalizes  for  document  length  (accounts  for  differing  document  length  when  computing  scores).  Without  this  feature,  longer  documents  would  generally  score  higher  simply  because  they  contain  more  words  in  total.\n",
    "\n",
    "[**You can read a super simple five-minute explanation of measuring text similarity here**](https://towardsdatascience.com/introduction-to-text-representation-and-similarity-b5dd3fd71737)\n",
    "\n",
    "\n",
    "Let's look at an example:\n",
    "\n",
    "**Sentence 1**: “Global warming is increasing”\n",
    "\n",
    "**Sentence 2**: “There is increasing ocean temperature”\n",
    "\n",
    "\n",
    "\n",
    "**STEP 1**: Let's pick only the most *informative* unique words from the two sentences.\n",
    "\n",
    "Unique Words: global, warming, is, increasing, there, ocean, temperature <br>\n",
    "Informative words: global, warming, increasing, ocean, temperature\n",
    "\n",
    "**STEP 2**: Count the number of occurrences of unique words in each of the sentences\n",
    "\n",
    "Analysis of sentence 1\n",
    "```\n",
    "global, 1\n",
    "warming, 1\n",
    "increasing, 1\n",
    "ocean, 0\n",
    "temperature, 0\n",
    "```\n",
    "\n",
    "Analysis of sentence 2\n",
    "```\n",
    "global, 0\n",
    "warming, 0\n",
    "increasing, 1\n",
    "ocean, 1\n",
    "temperature, 1\n",
    "\n",
    "```\n",
    "\n",
    "The easy part is over and before we proceed, you must know that NLP’s text similarity works on the basis of cosine similarity. *Cosine similarity* is basically the cosine of the angle between two vectors. So, we want to convert the sentences into two vectors, which we’ve already done!\n",
    "\n",
    "\n",
    "**Vector of sentence 1:** [1,1,1,0,0]\n",
    "\n",
    "**Vector of sentence 2:** [0,0,1,1,1]\n",
    "\n",
    "Now let’s visualize the vectors.\n",
    "\n",
    "Do note that, in our case we have a **5D** vector and because it’s not possible to visualize a 5D vector, let's just look at a **3D** vector, representing three words in our vector space. \n",
    "\n",
    "So, here we have two 3D vectors [ 1, 1, 1 ] and [ 0, 0, 1 ]. You can imagine these vectors as 2 sentences with 3 unique words in total. Here, [ 1, 1, 1 ] would mean that all 3 unique words occur once in the first sentence while [ 0, 0, 1 ] would mean that only the 3rd unique word occurs once in the second sentence.\n",
    "\n",
    "![](https://miro.medium.com/v2/resize:fit:640/format:webp/1*zXJOIv1Ouxegi-rE30fKLg.png)\n",
    "\n",
    "We’re interested only in the **angle** between these two vectors. The closer the two lines are, the smaller will be the angle and hence, similarity increases. So, If any two sentences are perfectly similar you’d see only one line in the 3D space, as the two lines would overlap each other.\n",
    "\n",
    "![](https://miro.medium.com/v2/resize:fit:638/format:webp/1*ipF4GqzTxDGf1cZqIfglug.png)\n",
    "\n",
    "![](https://miro.medium.com/v2/resize:fit:640/format:webp/1*4slYq804eanHw7pqzHh23w.png)"
   ]
  },
  {
   "cell_type": "markdown",
   "metadata": {
    "id": "sZCNw2Q4AEET"
   },
   "source": [
    "# Calculating cosine similarity \n",
    "Let's look at an example of how to calculate cosine similarity for two sentences given the vectors assigned to their terms. \n",
    "\n",
    "**Sentence 1**: “*Global warming* is *increasing*”\n",
    "\n",
    "**Sentences 2**: “There is *increasing ocean temperature*”\n",
    "\n",
    "\n",
    "**Vector of sentence 1:** [1,1,1,0,0]\n",
    "\n",
    "**Vector of sentence 2:** [0,0,1,1,1]\n",
    "\n",
    "\n",
    "Now we want to measure the angle between these two vectors. Here is the fomula for that: \n",
    "\n",
    "![](https://miro.medium.com/v2/resize:fit:350/format:webp/1*zpM7o4mYqK15J_zH9ifZpA.png)\n",
    "\n",
    "In the numerator, we have the **dot product** of the vectors and in the denominator, we have the product of the lengths of the two vectors.\n",
    "\n",
    "\n",
    "Let’s find out the **dot product** for our case:\n",
    "\n",
    "The Formula -> (u1 * v1) + (u2 * v2) + ….. + (un * vn)\n",
    "\n",
    "That’d be -> (1 * 0) + (1 * 0) + (1 * 1) + (0 * 1) + (0 * 1)\n",
    "\n",
    "Now let's find the lengths: \n",
    "\n",
    "![](https://miro.medium.com/v2/resize:fit:640/format:webp/1*GEMt1G0_blmq-hUTkl-e2Q.png)"
   ]
  },
  {
   "cell_type": "markdown",
   "metadata": {
    "id": "_XfYq3oyAEET"
   },
   "source": [
    "# Now we'll do it manually in Python \n"
   ]
  },
  {
   "cell_type": "code",
   "execution_count": 15,
   "metadata": {
    "execution": {
     "iopub.execute_input": "2023-03-19T12:29:45.275368Z",
     "iopub.status.busy": "2023-03-19T12:29:45.274654Z",
     "iopub.status.idle": "2023-03-19T12:29:45.423198Z",
     "shell.execute_reply": "2023-03-19T12:29:45.421825Z",
     "shell.execute_reply.started": "2023-03-19T12:29:45.275314Z"
    },
    "id": "7UaxaMNZAEET"
   },
   "outputs": [],
   "source": [
    "#  Square  root  and  log  functions  needed  for  calculations:\n",
    "from  math  import  sqrt,  log"
   ]
  },
  {
   "cell_type": "code",
   "execution_count": 16,
   "metadata": {
    "colab": {
     "base_uri": "https://localhost:8080/"
    },
    "execution": {
     "iopub.execute_input": "2023-03-19T12:29:45.426531Z",
     "iopub.status.busy": "2023-03-19T12:29:45.425790Z",
     "iopub.status.idle": "2023-03-19T12:29:45.496024Z",
     "shell.execute_reply": "2023-03-19T12:29:45.494688Z",
     "shell.execute_reply.started": "2023-03-19T12:29:45.426475Z"
    },
    "id": "4vJlJpXKAEET",
    "outputId": "126ebd7e-7674-4e14-cd04-1ac4edc58260"
   },
   "outputs": [
    {
     "data": {
      "text/plain": [
       "1"
      ]
     },
     "execution_count": 16,
     "metadata": {},
     "output_type": "execute_result"
    }
   ],
   "source": [
    "#Get the dot product of the two vectors\n",
    "(1*0) + (1*0) +(1*1) +(0*1) +(0*1) "
   ]
  },
  {
   "cell_type": "code",
   "execution_count": 17,
   "metadata": {
    "colab": {
     "base_uri": "https://localhost:8080/"
    },
    "execution": {
     "iopub.execute_input": "2023-03-19T12:29:45.499306Z",
     "iopub.status.busy": "2023-03-19T12:29:45.498567Z",
     "iopub.status.idle": "2023-03-19T12:29:45.542571Z",
     "shell.execute_reply": "2023-03-19T12:29:45.541371Z",
     "shell.execute_reply.started": "2023-03-19T12:29:45.499250Z"
    },
    "id": "gExt4PnJAEET",
    "outputId": "42c57541-f4d0-4878-8938-a49db140182f"
   },
   "outputs": [
    {
     "data": {
      "text/plain": [
       "2.4494897427831783"
      ]
     },
     "execution_count": 17,
     "metadata": {},
     "output_type": "execute_result"
    }
   ],
   "source": [
    "#Get the length of the two vectors and multiply them\n",
    "sqrt(1**2+1**2+1**2+0**2+0**2)*sqrt(0**2+0**2+0**2+1**2+1**2)"
   ]
  },
  {
   "cell_type": "code",
   "execution_count": 18,
   "metadata": {
    "colab": {
     "base_uri": "https://localhost:8080/"
    },
    "execution": {
     "iopub.execute_input": "2023-03-19T12:29:45.545469Z",
     "iopub.status.busy": "2023-03-19T12:29:45.544818Z",
     "iopub.status.idle": "2023-03-19T12:29:45.692110Z",
     "shell.execute_reply": "2023-03-19T12:29:45.690587Z",
     "shell.execute_reply.started": "2023-03-19T12:29:45.545429Z"
    },
    "id": "rGV-du4BAEET",
    "outputId": "3450cf50-a3ef-47a4-8e4d-5ffb28f33ab3"
   },
   "outputs": [
    {
     "data": {
      "text/plain": [
       "0.40824829046386296"
      ]
     },
     "execution_count": 18,
     "metadata": {},
     "output_type": "execute_result"
    }
   ],
   "source": [
    "# Divide the dot product by the length of the two vectors\n",
    "1/2.4494897427831783"
   ]
  },
  {
   "cell_type": "markdown",
   "metadata": {
    "id": "GokMA8KGAEET"
   },
   "source": [
    "Now let's build a function to calculate cosine similarity for us without having to go through all these steps!"
   ]
  },
  {
   "cell_type": "code",
   "execution_count": 19,
   "metadata": {
    "execution": {
     "iopub.execute_input": "2023-03-19T12:29:45.699993Z",
     "iopub.status.busy": "2023-03-19T12:29:45.699484Z",
     "iopub.status.idle": "2023-03-19T12:29:45.736461Z",
     "shell.execute_reply": "2023-03-19T12:29:45.735186Z",
     "shell.execute_reply.started": "2023-03-19T12:29:45.699959Z"
    },
    "id": "znu8c4cLAEEU",
    "tags": []
   },
   "outputs": [],
   "source": [
    "#  Dot  product  makes  things  a  lot  simpler  - rather than calculate this manually, we can load the dot package from numpy\n",
    "from  numpy  import  dot\n",
    "\n",
    "#We're going to treat the query itself as a vector to compute the dot product. Most terms from the docs aren't in the query, so we'll treat those as 0s!\n",
    "#  cosine  similiarity:\n",
    "def  cosine_sim(d,q):\n",
    "    sim_un  =  dot(d,q)    \n",
    "    norm  =  sqrt(dot(d,d))*sqrt(dot(q,q))+1e-16 # we need to add 0.0000000000000001 bc you can't divide by 0 (which we might get if none of the query words are in the doc)\n",
    "    return round(sim_un/norm,3) #rounds the number within 3 decimal places\n"
   ]
  },
  {
   "cell_type": "markdown",
   "metadata": {},
   "source": [
    "##### Brief code explanation\n",
    "this function takes a document vector (d) and a query vector (q). it then calculates the cosine similarity between the two using the equation from earlier. "
   ]
  },
  {
   "cell_type": "markdown",
   "metadata": {
    "id": "SpzGn55fAEEU"
   },
   "source": [
    "Now what we want to do is define a function <code>doc_vectors</code> that will take a query (<code>terms</code>) and a set of documents (<code>docs</code>) as input and generate weight vectors for each document based on the frequency of the terms in those documents. **Don't worry about understanding everything here but give it a try. In depth explanation can be found in the solutions notebook.**"
   ]
  },
  {
   "cell_type": "code",
   "execution_count": 20,
   "metadata": {
    "execution": {
     "iopub.execute_input": "2023-03-19T12:29:45.739471Z",
     "iopub.status.busy": "2023-03-19T12:29:45.738733Z",
     "iopub.status.idle": "2023-03-19T12:29:46.132912Z",
     "shell.execute_reply": "2023-03-19T12:29:46.131012Z",
     "shell.execute_reply.started": "2023-03-19T12:29:45.739416Z"
    },
    "id": "yliBGV8ZAEEU",
    "tags": []
   },
   "outputs": [],
   "source": [
    "#  Generate  weight  vectors  for  each  document:\n",
    "def  document_vectors(terms,docs):  \n",
    "    terms  = [term.lower() for  term  in  terms] # 1 \n",
    "    \n",
    "    #  define  some  useful  values  used  repeatedly  in  calculations  (N  and  n  from  above):        \n",
    "    N  =  len(docs) #number of documents       \n",
    "    counts  =  [sum([1.0 for  d  in  docs  if  term  in docs[d]])  for  term  in  terms] # 2\n",
    "    \n",
    "    #  pre-calculate  the  scaling  term  for  each  weight:        \n",
    "    scaling  =  [log(N/(n+1e-16),2)  for  n  in  counts] # 3\n",
    "    #  instructions for calculating weight  vectors  for  each  document in sci. notation \n",
    "    # i.e., setting up the dictionary we will use for saving the weights \n",
    "    weights  =  {d:[1e-16]*len(terms)  for  d  in  docs} # 4\n",
    "    \n",
    "    #  actual  calculations - 5\n",
    "    for  j  in  docs:                \n",
    "        document  =  docs[j].lower().split()    \n",
    "        for  i  in range(len(terms)):                       \n",
    "            frequency  = document.count(terms[i])/float(len(terms))          \n",
    "            weights[j][i]  =  frequency*scaling[i]\n",
    "            \n",
    "    #  return  weight  vectors:\n",
    "    return  weights"
   ]
  },
  {
   "cell_type": "markdown",
   "metadata": {},
   "source": [
    "##### Brief code explanation\n",
    "this function takes a list of terms and a dictionary of documents and returns a dictionary that for every document gives the weighted frequency for every term (i.e., how many times is the term in the document scaled by how many times each term was in any of the docs). \n",
    "\n",
    "##### More specific\n",
    "(1) makes every term lowercase by using a list comprehension. This is the same as:\n",
    "            \n",
    "            lower_terms = []\n",
    "            for term in terms:\n",
    "                lower_terms.append(term.lower())\n",
    "                \n",
    "notice I have to call my new list something else, bc otherwise I would have overwritten terms before I started looping. This is not necessary when using list comprehension - you can loop and overwrite at the same time. \n",
    "\n",
    "(2) this makes a list of how many times each term was in a document. The same as:\n",
    "\n",
    "        counts = []\n",
    "        \n",
    "        for term in terms:\n",
    "            term_count = [] # notice I make a new list for every term\n",
    "            for d in docs: # for every document key (e.g, doc1) \n",
    "                if term in docs[d]: # if the term is in the text for that doc key\n",
    "                    term_count.append(1.0) # term_count becomes a list of 1's (a 1 for every time the term was in a doc) \n",
    "                    \n",
    "            counts.append(sum(term_count)) # Sum the list of numbers and add that sum to the counts list \n",
    "            \n",
    "notice that counts will then comprise the sum of how many times each term was in a document which term_count saved. \n",
    "\n",
    "(3) this scaling term will be needed later. you don't need to understand the math, just the intuition. Basically, we take the total number of documents (N) and divide that by how many times a given term was in a document which we log scale. We then make a list where we save this scaling number for every term, which we will use later for finding the scaled frequency for that term. This list comprehension is the same as: \n",
    "\n",
    "    scaling = []\n",
    "    \n",
    "    for n in counts: # remember counts is a list of how many times each term was in a document\n",
    "        term_scale = log(N/n+1e-16, 2) # we add 1e-16 bc you can't divide by zero, and 2 defines which log it should be\n",
    "        \n",
    "        scaling.append(term_scale)\n",
    "\n",
    "\n",
    "(4) here, we get ready to save the weights for every document. We make a dictionary where the key is the document name (e.g., doc1), and the values is a list of 1e-16 that's the same length as the number of terms we have. why this is useful will become clear in the next section. For good measure, this list comprehension is the same as:\n",
    "\n",
    "    weights = {}\n",
    "    \n",
    "    for d in docs:\n",
    "        weights[d] = [1e-16] * len(terms)\n",
    "\n",
    "if terms is 3 long for example, the value for every key would be [1e-16, 1e-16, 1e-16]\n",
    "\n",
    "(5) now this loop is a fun one, this is what the rest of the function has been building up to. \n",
    "\n",
    "First, we loop over all the documents. For every document j (this is e.g., doc1), we first make the text for that doc lower case and split it, so it becomes a list of words (saved in document). We then loop over a range the same length as the number of terms (so for e.g., ['jedi, 'master'] the range would be from 0 up to but not including 2, i.e., 0 and 1).\n",
    "So for the e.g., 0th term in the list of terms, we count how many times that term is in the list of words for this document, and divide this by the total number of terms, to get the frequency of that term in the document. We then scale this using the scaling factor we calculated in 3, and save this in our weights dictionary. The weights dictionary will then end up consisting of a key for every document, where the value for each key is a list where the scaled frequency of every term is saved in. \n",
    "It is totally okay if this does not make sense, let me know and I'll happily try to explain it differently. "
   ]
  },
  {
   "cell_type": "markdown",
   "metadata": {
    "id": "R-S_3ez0AEEU"
   },
   "source": [
    "Now we need some code to return the results! We define another function <code>vector_query</code> which takes the same arguments (<code>terms, docs</code>) and uses <code>document_vectors</code> to return a single float between 0-1 representing the relevance of that doc given the query "
   ]
  },
  {
   "cell_type": "code",
   "execution_count": 21,
   "metadata": {
    "execution": {
     "iopub.execute_input": "2023-03-19T12:29:46.135404Z",
     "iopub.status.busy": "2023-03-19T12:29:46.135004Z",
     "iopub.status.idle": "2023-03-19T12:29:46.249539Z",
     "shell.execute_reply": "2023-03-19T12:29:46.248139Z",
     "shell.execute_reply.started": "2023-03-19T12:29:46.135353Z"
    },
    "id": "BqnDPD6rAEEU",
    "tags": []
   },
   "outputs": [],
   "source": [
    "#  function  that  will  take  a  list  of  terms  and  documents  and return their cosine_sim score\n",
    "def  vector_query(terms,docs):        \n",
    "    vectors  =  document_vectors(terms,docs)\n",
    "    similarities  =  {} # we're going to store our similarity scores here\n",
    "    q  =  [1]*len(terms) #this is just returning a list of items (1s) equal to the number of terms in our query\n",
    "    for  d  in  docs:\n",
    "        similarities[d]  =  cosine_sim(vectors[d],q) #return similarity vectors for each term for each doc\n",
    "    return  similarities"
   ]
  },
  {
   "cell_type": "markdown",
   "metadata": {},
   "source": [
    "##### Brief code explanation\n",
    "this function takes out list of terms and our dictionary of documents. it turns our documents into vectors using the functino above, and then finds the cosine similarity between each document vector (the scaled frequency for each term in the doc) and the vector our terms (which is just a list of 1's the same length as our list of terms). \n",
    "It then returns a dictionary with keys being the document names and the values being their cosine similarity to the query (list of terms). "
   ]
  },
  {
   "cell_type": "markdown",
   "metadata": {
    "id": "d-LI4N4pAEEU"
   },
   "source": [
    "You  can  do  Vector  Space  retrieval  by  calling  the  above  function  (called  vector_query).  When  calling  the  function,  you  need  to  give  it  two  arguments:\n",
    "\n",
    "-- a  list  of  search  terms  ([\"Term1\",\"Term2\"...\"TermN\"])\n",
    "\n",
    "-- the  document  collection  to  search  through  (in  this  case  our  dictionary  called  documents)\n",
    "\n",
    "You  can  either  type  the  seach  term  list  by  hand,  or  use  use  nltk's  \n",
    "word_tokenize  method (which maps a string to a list of words). \n",
    "\n",
    "In  the  latter  case,  you  will  need  to  provide  the  query  as  a  single  string,  and  it  will  return  the  query  as  a  tokenized  list.\n",
    "\n",
    "We'll try  running  the  following  example: \"Jedi  master\""
   ]
  },
  {
   "cell_type": "code",
   "execution_count": 22,
   "metadata": {
    "colab": {
     "base_uri": "https://localhost:8080/"
    },
    "execution": {
     "iopub.execute_input": "2023-03-19T12:29:46.252597Z",
     "iopub.status.busy": "2023-03-19T12:29:46.251559Z",
     "iopub.status.idle": "2023-03-19T12:29:46.330922Z",
     "shell.execute_reply": "2023-03-19T12:29:46.329990Z",
     "shell.execute_reply.started": "2023-03-19T12:29:46.252545Z"
    },
    "id": "G216FF7hAEEU",
    "outputId": "75175d8a-b3c7-4553-ba52-1e29f4e4b7f1",
    "tags": []
   },
   "outputs": [
    {
     "name": "stdout",
     "output_type": "stream",
     "text": [
      "doc4 1.0\n",
      "doc2 0.707\n",
      "doc1 0.0\n",
      "doc3 0.0\n",
      "doc5 0.0\n"
     ]
    }
   ],
   "source": [
    "#  Import  the  \"word_tokenize\"  method:\n",
    "from  nltk  import  word_tokenize\n",
    "\n",
    "#  Specify  the  query  as  a  list  of  search  terms:\n",
    "terms  =  word_tokenize(\"jedi master\")\n",
    "\n",
    "#  Do  vector  space  retrieval  on  the  search  query:\n",
    "results  =  vector_query(terms,documents)\n",
    "\n",
    "#  Print  a  ranked  list  of  results:\n",
    "for  doc  in sorted(results, key=results.get, reverse=True):\n",
    "    print(doc,  results[doc])"
   ]
  },
  {
   "cell_type": "markdown",
   "metadata": {
    "id": "UX-SsluVAEEU"
   },
   "source": [
    "### Question 4\n",
    "\n",
    "What just happened here?  What do these numbers represent?  Why does Doc4 get the highest number?"
   ]
  },
  {
   "cell_type": "markdown",
   "metadata": {
    "id": "_NVMngxUiAi2"
   },
   "source": [
    "We got the cosine similarity between each document and the terms \"jedi master\". The numbers are how similar the vector containing the scaled frequency for each document is to the query vector. In human words, since doc4 has both jedi and master it gets the highest similarity of 1 because the doc contains every word of the query. Doc1 gets a pretty high score as well in spite of not conatining 'master' because it contains the word 'jedi'. Doc3 and doc5 do not contain any query words and therefore get 0. \n",
    "\n",
    "We can also see room for improvement in our function because doc1 gets 0 in spite of having the word 'jedi' because the comma makes it 'jedi,'. In the future we should therefore rrmember to remove punctuation. "
   ]
  },
  {
   "cell_type": "markdown",
   "metadata": {
    "id": "UD6klUmcAEEU"
   },
   "source": [
    "### Question 5\n",
    "\n",
    "\n",
    "Consider  the  following  queries:\n",
    "\n",
    "1.\"Luke,  I  am  your  father\"\n",
    "\n",
    "2.\"May  the  force  be  with  you\"\n",
    "\n",
    "Write  down  for  each  query  which  document  you  think  is  most  relevant for eahc query.  Simply  use  your  own  intuitions.\n"
   ]
  },
  {
   "cell_type": "markdown",
   "metadata": {
    "id": "qJ7VkGkliB9u"
   },
   "source": [
    "1) doc2 and doc5 since they both contain 'Luke' 'father'. \n",
    "\n",
    "2) they'll all be pretty equal"
   ]
  },
  {
   "cell_type": "markdown",
   "metadata": {
    "id": "b7AAm3uIAEEU"
   },
   "source": [
    "### Question 6\n",
    "\n",
    "Use  the  Vector  Space  retrieval  model  to  determine  which  documents  are  relevant  for  each  query.  \n",
    "\n",
    "Does  the  ranked  list  match  your  intuitions?  Why or why not?"
   ]
  },
  {
   "cell_type": "code",
   "execution_count": 24,
   "metadata": {
    "execution": {
     "iopub.execute_input": "2023-03-19T12:37:02.357799Z",
     "iopub.status.busy": "2023-03-19T12:37:02.356904Z",
     "iopub.status.idle": "2023-03-19T12:37:02.374382Z",
     "shell.execute_reply": "2023-03-19T12:37:02.373597Z",
     "shell.execute_reply.started": "2023-03-19T12:37:02.357740Z"
    },
    "tags": []
   },
   "outputs": [
    {
     "name": "stdout",
     "output_type": "stream",
     "text": [
      "['luke', 'i', 'am', 'your', 'father']\n",
      "doc5 0.458\n",
      "doc2 0.451\n",
      "doc1 0.0\n",
      "doc3 0.0\n",
      "doc4 0.0\n",
      "['luke', ',', 'i', 'am', 'your', 'father']\n",
      "doc5 0.418\n",
      "doc2 0.412\n",
      "doc1 0.0\n",
      "doc3 0.0\n",
      "doc4 0.0\n",
      "['may', 'the', 'force', 'be', 'with', 'you']\n",
      "doc3 0.563\n",
      "doc1 0.408\n",
      "doc2 0.408\n",
      "doc4 0.0\n",
      "doc5 0.0\n"
     ]
    }
   ],
   "source": [
    "# 1 \n",
    "terms  =  word_tokenize(\"luke i am your father\")\n",
    "\n",
    "#  Do  vector  space  retrieval  on  the  search  query:\n",
    "results  =  vector_query(terms,documents)\n",
    "print(terms)\n",
    "\n",
    "#  Print  a  ranked  list  of  results:\n",
    "for  doc  in sorted(results, key=results.get, reverse=True):\n",
    "    print(doc,  results[doc])\n",
    "    \n",
    "# 1.2 - adding the comma\n",
    "terms  =  word_tokenize(\"luke, i am your father\")\n",
    "\n",
    "#  Do  vector  space  retrieval  on  the  search  query:\n",
    "results  =  vector_query(terms,documents)\n",
    "print(terms)\n",
    "\n",
    "#  Print  a  ranked  list  of  results:\n",
    "for  doc  in sorted(results, key=results.get, reverse=True):\n",
    "    print(doc,  results[doc])\n",
    "    \n",
    "# 2\n",
    "terms  =  word_tokenize(\"may the force be with you\")\n",
    "\n",
    "#  Do  vector  space  retrieval  on  the  search  query:\n",
    "results  =  vector_query(terms,documents)\n",
    "\n",
    "#  Print  a  ranked  list  of  results:\n",
    "print(terms)\n",
    "for  doc  in sorted(results, key=results.get, reverse=True):\n",
    "    print(doc,  results[doc])"
   ]
  },
  {
   "cell_type": "markdown",
   "metadata": {
    "id": "N4Rs5KfZiC5X"
   },
   "source": [
    "for query 1 my intution was right. However, I'm surprised by query 2, but I guess 4 and 5 do not contain a whole lot of 'the' 'be' and 'with'"
   ]
  },
  {
   "cell_type": "markdown",
   "metadata": {
    "id": "2krnQGDnAEEU"
   },
   "source": [
    "### Question 7\n",
    "\n",
    "Would  the  removal  of  stop  words  in  the  query  improve  the  retrieval  results?  Come  up  with  a  list  of  words  to  remove  and  show  the  results  when  you  leave  out  these  words  from  the  query.\n",
    "\n",
    "You can read more about stop-words on Wikipedia: https://en.wikipedia.org/wiki/Stop_words\n"
   ]
  },
  {
   "cell_type": "code",
   "execution_count": 32,
   "metadata": {
    "execution": {
     "iopub.execute_input": "2023-03-19T12:43:31.833138Z",
     "iopub.status.busy": "2023-03-19T12:43:31.832235Z",
     "iopub.status.idle": "2023-03-19T12:43:31.841924Z",
     "shell.execute_reply": "2023-03-19T12:43:31.840537Z",
     "shell.execute_reply.started": "2023-03-19T12:43:31.833079Z"
    },
    "tags": []
   },
   "outputs": [],
   "source": [
    "# stop words\n",
    "stop_words = ['the', 'is', 'be', 'i', 'your', 'will', 'am']\n",
    "\n",
    "# function for removing them\n",
    "def remove_stopwords(terms):\n",
    "    terms = [term for term in terms if term not in stop_words]\n",
    "    \n",
    "    return terms"
   ]
  },
  {
   "cell_type": "code",
   "execution_count": 33,
   "metadata": {
    "execution": {
     "iopub.execute_input": "2023-03-19T12:43:41.480793Z",
     "iopub.status.busy": "2023-03-19T12:43:41.479894Z",
     "iopub.status.idle": "2023-03-19T12:43:41.497154Z",
     "shell.execute_reply": "2023-03-19T12:43:41.496322Z",
     "shell.execute_reply.started": "2023-03-19T12:43:41.480731Z"
    },
    "tags": []
   },
   "outputs": [
    {
     "name": "stdout",
     "output_type": "stream",
     "text": [
      "['luke', 'father']\n",
      "doc5 0.724\n",
      "doc2 0.714\n",
      "doc1 0.0\n",
      "doc3 0.0\n",
      "doc4 0.0\n",
      "['luke', ',', 'father']\n",
      "doc5 0.591\n",
      "doc2 0.583\n",
      "doc1 0.0\n",
      "doc3 0.0\n",
      "doc4 0.0\n",
      "['may', 'force', 'with', 'you']\n",
      "doc3 0.69\n",
      "doc1 0.5\n",
      "doc2 0.5\n",
      "doc4 0.0\n",
      "doc5 0.0\n"
     ]
    }
   ],
   "source": [
    "# same code but with added stop wrod removal\n",
    "terms  =  word_tokenize(\"luke i am your father\")\n",
    "terms = remove_stopwords(terms)\n",
    "#  Do  vector  space  retrieval  on  the  search  query:\n",
    "results  =  vector_query(terms,documents)\n",
    "print(terms)\n",
    "\n",
    "#  Print  a  ranked  list  of  results:\n",
    "for  doc  in sorted(results, key=results.get, reverse=True):\n",
    "    print(doc,  results[doc])\n",
    "    \n",
    "# 1.2 - adding the comma\n",
    "terms  =  word_tokenize(\"luke, i am your father\")\n",
    "terms = remove_stopwords(terms)\n",
    "\n",
    "#  Do  vector  space  retrieval  on  the  search  query:\n",
    "results  =  vector_query(terms,documents)\n",
    "print(terms)\n",
    "\n",
    "#  Print  a  ranked  list  of  results:\n",
    "for  doc  in sorted(results, key=results.get, reverse=True):\n",
    "    print(doc,  results[doc])\n",
    "    \n",
    "# 2\n",
    "terms  =  word_tokenize(\"may the force be with you\")\n",
    "terms = remove_stopwords(terms)\n",
    "\n",
    "#  Do  vector  space  retrieval  on  the  search  query:\n",
    "results  =  vector_query(terms,documents)\n",
    "\n",
    "#  Print  a  ranked  list  of  results:\n",
    "print(terms)\n",
    "for  doc  in sorted(results, key=results.get, reverse=True):\n",
    "    print(doc,  results[doc])"
   ]
  },
  {
   "cell_type": "markdown",
   "metadata": {
    "id": "sXFJGBkLiDrX"
   },
   "source": [
    "_Type your answer here, replacing this text._"
   ]
  },
  {
   "cell_type": "markdown",
   "metadata": {
    "id": "T4DPdKgkAEEU"
   },
   "source": [
    "### Question 8\n",
    "\n",
    "Which  terms  would  you  need  to  add  to  doc2  to  make  it  the  highest  ranked  document  for  the  query  \"May  the  force  be  with  you\"?  Insert  terms  in  the  document  text  (you  should  re-define  it  in  the  cell  below  rather  than  altering  the  original  definition  above)  and  show  that these changes do make it the highest-ranked document for that query."
   ]
  },
  {
   "cell_type": "code",
   "execution_count": 43,
   "metadata": {
    "colab": {
     "base_uri": "https://localhost:8080/"
    },
    "execution": {
     "iopub.execute_input": "2023-03-19T12:47:19.030920Z",
     "iopub.status.busy": "2023-03-19T12:47:19.030022Z",
     "iopub.status.idle": "2023-03-19T12:47:19.042889Z",
     "shell.execute_reply": "2023-03-19T12:47:19.041937Z",
     "shell.execute_reply.started": "2023-03-19T12:47:19.030859Z"
    },
    "id": "jrO9ZvCsAEEU",
    "outputId": "0e00cebb-670d-410d-f7ce-ebd1c4e13ee5",
    "scrolled": true,
    "tags": []
   },
   "outputs": [
    {
     "name": "stdout",
     "output_type": "stream",
     "text": [
      "['may', 'the', 'force', 'be', 'with', 'you']\n",
      "doc2 0.685\n",
      "doc3 0.576\n",
      "doc1 0.408\n",
      "doc4 0.0\n",
      "doc5 0.0\n"
     ]
    }
   ],
   "source": [
    "doc2  =  \"may force \" + documents['doc2'] # lazy solution haha\n",
    "\n",
    "documents['doc2']  =  doc2\n",
    "\n",
    "terms  =  word_tokenize(\"may the force be with you\")\n",
    "\n",
    "#  Do  vector  space  retrieval  on  the  search  query:\n",
    "results  =  vector_query(terms,documents)\n",
    "\n",
    "#  Print  a  ranked  list  of  results:\n",
    "print(terms)\n",
    "for  doc  in sorted(results, key=results.get, reverse=True):\n",
    "    print(doc,  results[doc])"
   ]
  },
  {
   "cell_type": "markdown",
   "metadata": {
    "id": "e3VHRgjFiFv5"
   },
   "source": [
    "_Type your answer here, replacing this text._"
   ]
  },
  {
   "cell_type": "markdown",
   "metadata": {
    "id": "Csm_C3LoAEEU"
   },
   "source": [
    "### Question 9 (OPTIONAL!) \n",
    "\n",
    "Please write out in code OR pseudo-code a function to calculate the simplified tfidf of a word in a given document among a collection Docs. (Log optional.) For which doc among Docs does \"Force\" have the highest tf-idf?  What does that information mean?"
   ]
  },
  {
   "cell_type": "markdown",
   "metadata": {
    "id": "1J5Hy02TiG79"
   },
   "source": [
    "_Type your answer here, replacing this text._"
   ]
  },
  {
   "cell_type": "markdown",
   "metadata": {
    "id": "8JVLScWJAEEU"
   },
   "source": [
    "\n",
    "# 4. Word embeddings\n",
    "In this part we'll explore: \n",
    "- What is a word embedding?\n",
    "- What are the desired properties of word embeddings?\n",
    "- What are the potential uses of word embeddings?\n",
    "\n"
   ]
  },
  {
   "cell_type": "markdown",
   "metadata": {
    "id": "lU-8VMuYDDSL"
   },
   "source": [
    "\n",
    "# Understanding word embeddings conceptually \n",
    "\n",
    " [The Illustrated Word2Vec](https://jalammar.github.io/illustrated-word2vec/) uses color to illustrate how word embeddings work. The pre-trained Word2Vec embeddings are based on millions of documents.\n",
    "\n",
    "![](http://jalammar.github.io/images/word2vec/word2vec.png)\n",
    "\n",
    "\n",
    "# Please read the sections of [The Illustrated Word2Vec](https://jalammar.github.io/illustrated-word2vec/) called Word Embeddings and Analogies together with your group before proceeding! \n",
    "\n",
    "\n"
   ]
  },
  {
   "cell_type": "markdown",
   "metadata": {
    "id": "vps8ifhpDALK"
   },
   "source": [
    "\n",
    "\n",
    "\n",
    "\n",
    "\n",
    "## Validation of Word Embeddings\n"
   ]
  },
  {
   "cell_type": "code",
   "execution_count": 45,
   "metadata": {
    "colab": {
     "base_uri": "https://localhost:8080/"
    },
    "execution": {
     "iopub.execute_input": "2023-03-19T12:48:11.493211Z",
     "iopub.status.busy": "2023-03-19T12:48:11.492544Z",
     "iopub.status.idle": "2023-03-19T12:49:02.893173Z",
     "shell.execute_reply": "2023-03-19T12:49:02.891133Z",
     "shell.execute_reply.started": "2023-03-19T12:48:11.493153Z"
    },
    "id": "EbhwQ7KdDHpl",
    "outputId": "425c8d5a-f15c-4a8c-b551-421ee3c3c7b1",
    "tags": []
   },
   "outputs": [
    {
     "name": "stdout",
     "output_type": "stream",
     "text": [
      "Collecting text-preprocessing\n",
      "  Downloading text_preprocessing-0.1.1-py2.py3-none-any.whl (9.6 kB)\n",
      "Requirement already satisfied: nltk in /opt/conda/lib/python3.9/site-packages (from text-preprocessing) (3.8.1)\n",
      "Collecting names-dataset==2.1\n",
      "  Downloading names_dataset-2.1.0-py3-none-any.whl (62.6 MB)\n",
      "\u001b[2K     \u001b[90m━━━━━━━━━━━━━━━━━━━━━━━━━━━━━━━━━━━━━━━━\u001b[0m \u001b[32m62.6/62.6 MB\u001b[0m \u001b[31m1.6 MB/s\u001b[0m eta \u001b[36m0:00:00\u001b[0m00:01\u001b[0m00:02\u001b[0m\n",
      "\u001b[?25hCollecting pyspellchecker\n",
      "  Downloading pyspellchecker-0.7.1-py3-none-any.whl (2.5 MB)\n",
      "\u001b[2K     \u001b[90m━━━━━━━━━━━━━━━━━━━━━━━━━━━━━━━━━━━━━━━━\u001b[0m \u001b[32m2.5/2.5 MB\u001b[0m \u001b[31m25.2 MB/s\u001b[0m eta \u001b[36m0:00:00\u001b[0m:00:01\u001b[0m\n",
      "\u001b[?25hCollecting unittest-xml-reporting\n",
      "  Downloading unittest_xml_reporting-3.2.0-py2.py3-none-any.whl (20 kB)\n",
      "Collecting contractions\n",
      "  Downloading contractions-0.1.73-py2.py3-none-any.whl (8.7 kB)\n",
      "Collecting textsearch>=0.0.21\n",
      "  Downloading textsearch-0.0.24-py2.py3-none-any.whl (7.6 kB)\n",
      "Requirement already satisfied: regex>=2021.8.3 in /opt/conda/lib/python3.9/site-packages (from nltk->text-preprocessing) (2022.10.31)\n",
      "Requirement already satisfied: click in /opt/conda/lib/python3.9/site-packages (from nltk->text-preprocessing) (8.1.3)\n",
      "Requirement already satisfied: tqdm in /opt/conda/lib/python3.9/site-packages (from nltk->text-preprocessing) (4.64.0)\n",
      "Requirement already satisfied: joblib in /opt/conda/lib/python3.9/site-packages (from nltk->text-preprocessing) (1.2.0)\n",
      "Requirement already satisfied: lxml in /opt/conda/lib/python3.9/site-packages (from unittest-xml-reporting->text-preprocessing) (4.9.0)\n",
      "Collecting pyahocorasick\n",
      "  Downloading pyahocorasick-2.0.0-cp39-cp39-manylinux_2_5_x86_64.manylinux1_x86_64.whl (103 kB)\n",
      "\u001b[2K     \u001b[90m━━━━━━━━━━━━━━━━━━━━━━━━━━━━━━━━━━━━━\u001b[0m \u001b[32m103.2/103.2 kB\u001b[0m \u001b[31m911.4 kB/s\u001b[0m eta \u001b[36m0:00:00\u001b[0m00:01\u001b[0m\n",
      "\u001b[?25hCollecting anyascii\n",
      "  Downloading anyascii-0.3.2-py3-none-any.whl (289 kB)\n",
      "\u001b[2K     \u001b[90m━━━━━━━━━━━━━━━━━━━━━━━━━━━━━━━━━━━━━━━\u001b[0m \u001b[32m289.9/289.9 kB\u001b[0m \u001b[31m7.2 MB/s\u001b[0m eta \u001b[36m0:00:00\u001b[0m00:01\u001b[0m\n",
      "\u001b[?25hInstalling collected packages: names-dataset, unittest-xml-reporting, pyspellchecker, pyahocorasick, anyascii, textsearch, contractions, text-preprocessing\n",
      "Successfully installed anyascii-0.3.2 contractions-0.1.73 names-dataset-2.1.0 pyahocorasick-2.0.0 pyspellchecker-0.7.1 text-preprocessing-0.1.1 textsearch-0.0.24 unittest-xml-reporting-3.2.0\n",
      "Collecting gensim\n",
      "  Downloading gensim-4.3.1-cp39-cp39-manylinux_2_17_x86_64.manylinux2014_x86_64.whl (26.5 MB)\n",
      "\u001b[2K     \u001b[90m━━━━━━━━━━━━━━━━━━━━━━━━━━━━━━━━━━━━━━━━\u001b[0m \u001b[32m26.5/26.5 MB\u001b[0m \u001b[31m10.0 MB/s\u001b[0m eta \u001b[36m0:00:00\u001b[0m00:01\u001b[0m00:01\u001b[0m\n",
      "\u001b[?25hCollecting scipy>=1.7.0\n",
      "  Downloading scipy-1.10.1-cp39-cp39-manylinux_2_17_x86_64.manylinux2014_x86_64.whl (34.5 MB)\n",
      "\u001b[2K     \u001b[90m━━━━━━━━━━━━━━━━━━━━━━━━━━━━━━━━━━━━━━━━\u001b[0m \u001b[32m34.5/34.5 MB\u001b[0m \u001b[31m18.5 MB/s\u001b[0m eta \u001b[36m0:00:00\u001b[0m00:01\u001b[0m00:01\u001b[0m\n",
      "\u001b[?25hRequirement already satisfied: numpy>=1.18.5 in /opt/conda/lib/python3.9/site-packages (from gensim) (1.22.4)\n",
      "Collecting smart-open>=1.8.1\n",
      "  Downloading smart_open-6.3.0-py3-none-any.whl (56 kB)\n",
      "\u001b[2K     \u001b[90m━━━━━━━━━━━━━━━━━━━━━━━━━━━━━━━━━━━━━━━━\u001b[0m \u001b[32m56.8/56.8 kB\u001b[0m \u001b[31m3.5 MB/s\u001b[0m eta \u001b[36m0:00:00\u001b[0m\n",
      "\u001b[?25hInstalling collected packages: smart-open, scipy, gensim\n",
      "Successfully installed gensim-4.3.1 scipy-1.10.1 smart-open-6.3.0\n"
     ]
    },
    {
     "name": "stderr",
     "output_type": "stream",
     "text": [
      "[nltk_data] Downloading package omw-1.4 to /home/ucloud/nltk_data...\n"
     ]
    }
   ],
   "source": [
    "!pip install text-preprocessing\n",
    "!pip install gensim\n",
    "\n",
    "import sys\n",
    "import os\n",
    "import gensim\n",
    "\n",
    "from text_preprocessing import text_preprocessing\n"
   ]
  },
  {
   "cell_type": "code",
   "execution_count": 46,
   "metadata": {
    "execution": {
     "iopub.execute_input": "2023-03-19T12:49:08.282960Z",
     "iopub.status.busy": "2023-03-19T12:49:08.282078Z",
     "iopub.status.idle": "2023-03-19T12:49:08.294360Z",
     "shell.execute_reply": "2023-03-19T12:49:08.292797Z",
     "shell.execute_reply.started": "2023-03-19T12:49:08.282900Z"
    },
    "id": "E-T-SsSODMe7",
    "tags": []
   },
   "outputs": [],
   "source": [
    "# example of preprocessing\n",
    "\n",
    "text_data = \"This is a sample text. We will need to split it into sentences. Afterwards, it will be split into tokens\"\n",
    "\n",
    "sentences = [sent.split() for sent in text_preprocessing.tokenize_sentence(text_data)]"
   ]
  },
  {
   "cell_type": "code",
   "execution_count": 47,
   "metadata": {
    "colab": {
     "base_uri": "https://localhost:8080/"
    },
    "execution": {
     "iopub.execute_input": "2023-03-19T12:49:10.015605Z",
     "iopub.status.busy": "2023-03-19T12:49:10.014792Z",
     "iopub.status.idle": "2023-03-19T12:49:10.042960Z",
     "shell.execute_reply": "2023-03-19T12:49:10.041938Z",
     "shell.execute_reply.started": "2023-03-19T12:49:10.015546Z"
    },
    "id": "v1o1HXoTDQsM",
    "outputId": "1d4a8cd0-9743-47ad-8d74-330be91eb4ce",
    "tags": []
   },
   "outputs": [
    {
     "name": "stdout",
     "output_type": "stream",
     "text": [
      "[ 0.2692479  -0.19769652  0.00150541]\n"
     ]
    }
   ],
   "source": [
    "\n",
    "# train a word embedding \n",
    "from gensim.models import Word2Vec\n",
    "model = Word2Vec(sentences, \n",
    "                 vector_size=3, # size of the embedding layer (very low!)\n",
    "                 window=5, # the size of the window (max distance between current and predicted word)\n",
    "                 min_count=1, # ignore word with freq lower than this\n",
    "                 sg = 1, # should it use skip-gram (alternative is CBOW)\n",
    "                 workers=4) # number of cores to to use when training\n",
    "\n",
    "# get the word vector for a given word in the sample text\n",
    "print(model.wv[\"sample\"])"
   ]
  },
  {
   "cell_type": "markdown",
   "metadata": {
    "id": "HEfyhZPqiUkw"
   },
   "source": [
    "# Danish word embeddings\n",
    "\n",
    "---\n",
    "Now let's look at some of the examples you read about in The Illustrated Word2Vec in practice with Danish. There are a lot of examples in English online so below we work with Danish instead. \n",
    "\n",
    "(The Danish embeddings come from https://korpus.dsl.dk/resources/details/word2vec.html )\n",
    "\n"
   ]
  },
  {
   "cell_type": "code",
   "execution_count": 48,
   "metadata": {
    "execution": {
     "iopub.execute_input": "2023-03-19T12:49:24.322298Z",
     "iopub.status.busy": "2023-03-19T12:49:24.321431Z",
     "iopub.status.idle": "2023-03-19T12:50:06.671085Z",
     "shell.execute_reply": "2023-03-19T12:50:06.669882Z",
     "shell.execute_reply.started": "2023-03-19T12:49:24.322221Z"
    },
    "tags": []
   },
   "outputs": [],
   "source": [
    "# this will take a minute or two\n",
    "path = \"/work/463910/compling23/HW12_material/danish_word2vec.bin\"\n",
    "model = gensim.models.KeyedVectors.load_word2vec_format(path, binary=True)\n",
    "\n",
    "# English embeddings: http://vectors.nlpl.eu/repository/ (English CoNLL17 corpus)\n",
    "# eng_path = '/work/463910/compling23/HW12_material/english/english_word2vec.bin'\n",
    "# model = gensim.models.KeyedVectors.load(eng_path)"
   ]
  },
  {
   "cell_type": "markdown",
   "metadata": {},
   "source": [
    "Let's first explore some synonyms "
   ]
  },
  {
   "cell_type": "code",
   "execution_count": 49,
   "metadata": {
    "colab": {
     "base_uri": "https://localhost:8080/"
    },
    "execution": {
     "iopub.execute_input": "2023-03-19T12:50:19.836239Z",
     "iopub.status.busy": "2023-03-19T12:50:19.835303Z",
     "iopub.status.idle": "2023-03-19T12:50:21.350249Z",
     "shell.execute_reply": "2023-03-19T12:50:21.347705Z",
     "shell.execute_reply.started": "2023-03-19T12:50:19.836178Z"
    },
    "id": "KiE2C5QFCWyf",
    "outputId": "39dbe828-9a6b-410f-bf70-1419baf321c9",
    "tags": []
   },
   "outputs": [
    {
     "name": "stdout",
     "output_type": "stream",
     "text": [
      "Aarhus = \n",
      "[('århus', 0.8463510870933533), ('arhus', 0.6873935461044312), ('påårhus', 0.6224691271781921), ('\\xadårhus', 0.6112023591995239), ('aahus', 0.6039901375770569), ('aaarhus', 0.5978971123695374), ('aalborg', 0.5952222943305969), ('brabrand', 0.582003653049469), ('fuglesangs', 0.579281747341156), ('\\xadaarhus', 0.5792354941368103)]\n"
     ]
    }
   ],
   "source": [
    "# most similar word (synonym detection)\n",
    "print(\"Aarhus = \")\n",
    "print(model.most_similar(positive=['aarhus'], topn=10))"
   ]
  },
  {
   "cell_type": "code",
   "execution_count": 50,
   "metadata": {
    "colab": {
     "base_uri": "https://localhost:8080/"
    },
    "execution": {
     "iopub.execute_input": "2023-03-19T12:50:23.825332Z",
     "iopub.status.busy": "2023-03-19T12:50:23.824468Z",
     "iopub.status.idle": "2023-03-19T12:50:24.040583Z",
     "shell.execute_reply": "2023-03-19T12:50:24.039739Z",
     "shell.execute_reply.started": "2023-03-19T12:50:23.825273Z"
    },
    "id": "VTYECUINCwH4",
    "outputId": "d7eb926f-c0cf-4aa8-edca-c5ec42c60345",
    "tags": []
   },
   "outputs": [
    {
     "name": "stdout",
     "output_type": "stream",
     "text": [
      "Kat = \n",
      "[('hund', 0.7446877956390381), ('katten', 0.6610313057899475), ('katte', 0.6483158469200134), ('undulat', 0.6468468308448792), ('kattekilling', 0.6416236758232117), ('hamster', 0.6367803812026978), ('huskat', 0.6367706656455994), ('granddanois', 0.6312282681465149), ('puddel', 0.6292955875396729), ('dalmatiner', 0.6285726428031921)]\n"
     ]
    }
   ],
   "source": [
    "print(\"Kat = \")\n",
    "print(model.most_similar(positive=['kat'], topn=10))\n"
   ]
  },
  {
   "cell_type": "code",
   "execution_count": 51,
   "metadata": {
    "colab": {
     "base_uri": "https://localhost:8080/"
    },
    "execution": {
     "iopub.execute_input": "2023-03-19T12:50:25.089359Z",
     "iopub.status.busy": "2023-03-19T12:50:25.088562Z",
     "iopub.status.idle": "2023-03-19T12:50:25.099580Z",
     "shell.execute_reply": "2023-03-19T12:50:25.098233Z",
     "shell.execute_reply.started": "2023-03-19T12:50:25.089301Z"
    },
    "id": "0CXceG7GCbW9",
    "outputId": "33753372-aa51-48f2-9224-9e9a588c72b6",
    "tags": []
   },
   "outputs": [
    {
     "name": "stdout",
     "output_type": "stream",
     "text": [
      "is corona more associated with beer or a virus:\n",
      "0.28827673\n",
      "0.09207596\n"
     ]
    }
   ],
   "source": [
    "print(\"is corona more associated with beer or a virus:\")\n",
    "print(model.similarity('corona', 'øl'))\n",
    "print(model.similarity('corona', 'virus'))\n",
    "\n",
    "\n"
   ]
  },
  {
   "cell_type": "code",
   "execution_count": 54,
   "metadata": {
    "colab": {
     "base_uri": "https://localhost:8080/"
    },
    "execution": {
     "iopub.execute_input": "2023-03-19T12:50:51.725749Z",
     "iopub.status.busy": "2023-03-19T12:50:51.724847Z",
     "iopub.status.idle": "2023-03-19T12:50:51.951041Z",
     "shell.execute_reply": "2023-03-19T12:50:51.950167Z",
     "shell.execute_reply.started": "2023-03-19T12:50:51.725688Z"
    },
    "id": "SAWjZaa0CHNG",
    "outputId": "9249d071-b8e8-4676-ad74-b29f895c8827",
    "tags": []
   },
   "outputs": [
    {
     "name": "stdout",
     "output_type": "stream",
     "text": [
      "[('milliarder', 0.8217611312866211), ('mio', 0.7607602477073669), ('milliard', 0.7088867425918579), ('miakr', 0.6681352853775024), ('millarder', 0.6627052426338196), ('milliader', 0.658634603023529), ('mill', 0.6530202627182007), ('millioner', 0.6292245388031006), ('billioner', 0.6285216212272644), ('miokr', 0.6202195286750793)]\n"
     ]
    }
   ],
   "source": [
    "print(model.most_similar(positive=['mia'], topn=10)) #Try to run this code with YOUR name instead! \n",
    "\n",
    "#love having a name that's also an abbreviation haha"
   ]
  },
  {
   "cell_type": "markdown",
   "metadata": {
    "id": "6QbQByHnCNRJ"
   },
   "source": [
    "## Analogies\n",
    "\n",
    "We can use basic arithmetic on word embeddings in order to conduct word analogy task.\n",
    "\n",
    "For example:\n",
    "\n",
    "```man is to king as woman is to queen```\n",
    "\n",
    "So we can say that if we take the vector for ```king``` and subtract the vector for ```man```, we're removing the gender component from the ```king```. If we then add ```woman``` to the resulting vector, we should be left with a vector similar to ```queen```.\n",
    "\n",
    "NB: It might not be _exactly_ the vector for ```queen```, but it should at least be _close_ to it.\n",
    "\n",
    "```gensim``` has some quirky syntax that allows us to perform this kind of arithmetic.\n",
    "\n",
    "Let's look at the following example: \n",
    "\n",
    "\"Copenhagen is to Denmark what ___ is to England\" \n",
    "\n",
    "or mathemathically: $CPH - DK + UK \\approx $ ?"
   ]
  },
  {
   "cell_type": "code",
   "execution_count": 55,
   "metadata": {
    "colab": {
     "base_uri": "https://localhost:8080/"
    },
    "execution": {
     "iopub.execute_input": "2023-03-19T12:51:24.514970Z",
     "iopub.status.busy": "2023-03-19T12:51:24.514287Z",
     "iopub.status.idle": "2023-03-19T12:51:24.746638Z",
     "shell.execute_reply": "2023-03-19T12:51:24.745945Z",
     "shell.execute_reply.started": "2023-03-19T12:51:24.514911Z"
    },
    "id": "-FqYlWhlCJBI",
    "outputId": "7ee3ddbd-8e5c-4a15-873f-06cc6a3f32bd",
    "tags": []
   },
   "outputs": [
    {
     "name": "stdout",
     "output_type": "stream",
     "text": [
      "[('london', 0.5973066091537476), ('glasgow', 0.5502803921699524), ('northampton', 0.5432627201080322), ('salford', 0.5406602621078491), ('ealing', 0.5345149040222168)]\n"
     ]
    }
   ],
   "source": [
    "#capital\n",
    "print(model.most_similar(positive=['københavn', 'england'], negative=['danmark'], topn=5))\n",
    "\n"
   ]
  },
  {
   "cell_type": "code",
   "execution_count": 56,
   "metadata": {
    "colab": {
     "base_uri": "https://localhost:8080/"
    },
    "execution": {
     "iopub.execute_input": "2023-03-19T12:51:26.054261Z",
     "iopub.status.busy": "2023-03-19T12:51:26.053476Z",
     "iopub.status.idle": "2023-03-19T12:51:26.252086Z",
     "shell.execute_reply": "2023-03-19T12:51:26.250630Z",
     "shell.execute_reply.started": "2023-03-19T12:51:26.054202Z"
    },
    "id": "nPQ4mRdbCPt_",
    "outputId": "3fb576dd-3c10-4fed-e765-09ebf838a685",
    "tags": []
   },
   "outputs": [
    {
     "name": "stdout",
     "output_type": "stream",
     "text": [
      "[('ankara', 0.6118887066841125), ('istanbul', 0.6096251010894775), ('izmir', 0.5366988182067871), ('tyrkiske', 0.5330621600151062), ('tyrkiets', 0.5058766007423401)]\n"
     ]
    }
   ],
   "source": [
    "# maybe not?\n",
    "print(model.most_similar(positive=['københavn', 'tyrkiet'], negative=['danmark'], topn=5))\n"
   ]
  },
  {
   "cell_type": "code",
   "execution_count": 57,
   "metadata": {
    "colab": {
     "base_uri": "https://localhost:8080/"
    },
    "execution": {
     "iopub.execute_input": "2023-03-19T12:51:28.363965Z",
     "iopub.status.busy": "2023-03-19T12:51:28.363088Z",
     "iopub.status.idle": "2023-03-19T12:51:28.553151Z",
     "shell.execute_reply": "2023-03-19T12:51:28.552262Z",
     "shell.execute_reply.started": "2023-03-19T12:51:28.363888Z"
    },
    "id": "WoqGmvkcCQvW",
    "outputId": "a3484abc-7387-4f82-bddc-c5b902238aa9",
    "tags": []
   },
   "outputs": [
    {
     "name": "stdout",
     "output_type": "stream",
     "text": [
      "[('lægen', 0.6586465239524841), ('speciallægen', 0.5684356689453125), ('rygspecialist', 0.5345785617828369), ('hjertelæge', 0.5298790335655212), ('praktiserende', 0.5248790383338928)]\n"
     ]
    }
   ],
   "source": [
    "# conjugations\n",
    "print(model.most_similar(positive=['læge', 'manden'], negative=['mand'], topn=5))\n"
   ]
  },
  {
   "cell_type": "code",
   "execution_count": 58,
   "metadata": {
    "colab": {
     "base_uri": "https://localhost:8080/"
    },
    "execution": {
     "iopub.execute_input": "2023-03-19T12:51:30.579829Z",
     "iopub.status.busy": "2023-03-19T12:51:30.578934Z",
     "iopub.status.idle": "2023-03-19T12:51:30.755611Z",
     "shell.execute_reply": "2023-03-19T12:51:30.754435Z",
     "shell.execute_reply.started": "2023-03-19T12:51:30.579769Z"
    },
    "id": "mET__qEtCCSz",
    "outputId": "8c3641ae-9909-42d2-cc36-53766d053863",
    "tags": []
   },
   "outputs": [
    {
     "name": "stdout",
     "output_type": "stream",
     "text": [
      "[('kavalerister', 0.30755141377449036), ('stab', 0.295112282037735), ('eskadron', 0.29292717576026917), ('armékorps', 0.2862314283847809), ('eskadroner', 0.27928563952445984)]\n"
     ]
    }
   ],
   "source": [
    "print(model.most_similar(positive=['mand'], negative=['kvinde'], topn=5))"
   ]
  },
  {
   "cell_type": "code",
   "execution_count": 59,
   "metadata": {
    "execution": {
     "iopub.execute_input": "2023-03-19T12:51:52.911314Z",
     "iopub.status.busy": "2023-03-19T12:51:52.910433Z",
     "iopub.status.idle": "2023-03-19T12:51:52.918051Z",
     "shell.execute_reply": "2023-03-19T12:51:52.916619Z",
     "shell.execute_reply.started": "2023-03-19T12:51:52.911252Z"
    }
   },
   "outputs": [],
   "source": [
    "# play around with it :) \n"
   ]
  },
  {
   "cell_type": "markdown",
   "metadata": {
    "id": "gqdhz1TVB_XN"
   },
   "source": [
    "\n",
    "\n",
    "## Odd-one-out Detection\n",
    "This works by:\n",
    "- take the mean of all the word-embeddings\n",
    "- calculate the cosine-distance (similarity) from that center to each word\n",
    "- return the most dissimilar word (i.e. the one with the highest cosine-distance from that mean vector)\n"
   ]
  },
  {
   "cell_type": "code",
   "execution_count": 60,
   "metadata": {
    "colab": {
     "base_uri": "https://localhost:8080/",
     "height": 35
    },
    "execution": {
     "iopub.execute_input": "2023-03-19T12:52:06.030704Z",
     "iopub.status.busy": "2023-03-19T12:52:06.029801Z",
     "iopub.status.idle": "2023-03-19T12:52:06.040453Z",
     "shell.execute_reply": "2023-03-19T12:52:06.039467Z",
     "shell.execute_reply.started": "2023-03-19T12:52:06.030644Z"
    },
    "id": "2xigb_NJB6To",
    "outputId": "ef915820-0e0e-4191-e993-f0b87ee75ed2",
    "tags": []
   },
   "outputs": [
    {
     "data": {
      "text/plain": [
       "'brød'"
      ]
     },
     "execution_count": 60,
     "metadata": {},
     "output_type": "execute_result"
    }
   ],
   "source": [
    "model.doesnt_match(\"sodavand brød vin juice\".split())\n"
   ]
  },
  {
   "cell_type": "markdown",
   "metadata": {
    "id": "av_V3E4_B2lA"
   },
   "source": [
    "\n",
    "Now change the code above to try some different words for odd-one-out detection. \n"
   ]
  },
  {
   "cell_type": "code",
   "execution_count": 88,
   "metadata": {
    "execution": {
     "iopub.execute_input": "2023-03-19T13:11:00.189209Z",
     "iopub.status.busy": "2023-03-19T13:11:00.188518Z",
     "iopub.status.idle": "2023-03-19T13:11:00.200296Z",
     "shell.execute_reply": "2023-03-19T13:11:00.198926Z",
     "shell.execute_reply.started": "2023-03-19T13:11:00.189152Z"
    },
    "tags": []
   },
   "outputs": [
    {
     "data": {
      "text/plain": [
       "'vase'"
      ]
     },
     "execution_count": 88,
     "metadata": {},
     "output_type": "execute_result"
    }
   ],
   "source": [
    "# your code here \n",
    "model.doesnt_match(\"glas vase vin karafel\".split())\n"
   ]
  },
  {
   "cell_type": "markdown",
   "metadata": {
    "id": "Czg2ghmVB1Pd"
   },
   "source": [
    "\n",
    "## Other ways word embeddings have been used\n",
    "\n",
    "shift in word meaning over time\n",
    "![](https://ruder.io/content/images/size/w2000/2017/10/semantic_change.png)\n",
    "\n",
    "Cross lingual word embeddings:\n",
    "![](https://s3.ap-south-1.amazonaws.com/techleerimages/771a4957-7fb8-4ddd-ba04-4fa73187e5f1.png)\n",
    "\n",
    "# Exercises:\n",
    "These exercises are made for the Danish word embedding but feel free to use the English embeddings instead (ask Mia for help if you want to use the English). \n"
   ]
  },
  {
   "cell_type": "markdown",
   "metadata": {
    "id": "qriqwQHYBvfw"
   },
   "source": [
    "\n",
    "## Vector analogies \n",
    "\n",
    "- What is to woman (\"kvinde\") what man (\"mand\") to doctor (\"læge\")? Is this problematic?\n",
    "- Write code to do this analogy instead: Paris - France + Italy. \n",
    "  - What is the expected result based on your own knowledge? What does Word2Vec produce? \n",
    "\n",
    "- Come up with one or two other analogies to try.\n",
    "\n",
    "\n",
    "\n"
   ]
  },
  {
   "cell_type": "code",
   "execution_count": 63,
   "metadata": {
    "colab": {
     "base_uri": "https://localhost:8080/"
    },
    "execution": {
     "iopub.execute_input": "2023-03-17T13:08:23.381904Z",
     "iopub.status.busy": "2023-03-17T13:08:23.381206Z",
     "iopub.status.idle": "2023-03-17T13:08:24.857560Z",
     "shell.execute_reply": "2023-03-17T13:08:24.855996Z",
     "shell.execute_reply.started": "2023-03-17T13:08:23.381848Z"
    },
    "id": "IUbvGTavBo_C",
    "outputId": "68de794f-b5a0-48a1-89c1-4ffdadc66ff6",
    "tags": []
   },
   "outputs": [
    {
     "name": "stdout",
     "output_type": "stream",
     "text": [
      "[('sygeplejerske', 0.6121259927749634), ('jordemoder', 0.6090441346168518), ('gynækolog', 0.6052830219268799), ('lægen', 0.5922764539718628), ('psykiater', 0.5645801424980164)]\n"
     ]
    }
   ],
   "source": [
    "# doctor - man + woman\n",
    "print(model.most_similar(positive=['læge', 'kvinde'], negative=['mand'], topn=5))\n",
    "\n"
   ]
  },
  {
   "cell_type": "code",
   "execution_count": 70,
   "metadata": {
    "colab": {
     "base_uri": "https://localhost:8080/"
    },
    "execution": {
     "iopub.execute_input": "2023-03-19T13:02:08.331085Z",
     "iopub.status.busy": "2023-03-19T13:02:08.330181Z",
     "iopub.status.idle": "2023-03-19T13:02:08.529949Z",
     "shell.execute_reply": "2023-03-19T13:02:08.528953Z",
     "shell.execute_reply.started": "2023-03-19T13:02:08.331023Z"
    },
    "id": "eElImGguBQlI",
    "outputId": "464432b4-7889-44de-c639-6ce3aed8e68d",
    "tags": []
   },
   "outputs": [
    {
     "name": "stdout",
     "output_type": "stream",
     "text": [
      "[('fin', 0.4201897382736206), ('ditlev', 0.3924867510795593), ('vestastopchef', 0.37698087096214294), ('völkers', 0.3600253760814667), ('vestaschef', 0.3593840003013611)]\n"
     ]
    }
   ],
   "source": [
    "# word - analogy <-- analogy embedding (then word + analogy embedding => analogy)\n",
    "# write your own here\n",
    "print(model.most_similar(positive=['god', 'engel'], negative=['ond'], topn=5))\n"
   ]
  },
  {
   "cell_type": "code",
   "execution_count": 72,
   "metadata": {
    "colab": {
     "base_uri": "https://localhost:8080/"
    },
    "execution": {
     "iopub.execute_input": "2023-03-19T13:02:42.052841Z",
     "iopub.status.busy": "2023-03-19T13:02:42.051918Z",
     "iopub.status.idle": "2023-03-19T13:02:42.232410Z",
     "shell.execute_reply": "2023-03-19T13:02:42.231172Z",
     "shell.execute_reply.started": "2023-03-19T13:02:42.052781Z"
    },
    "id": "LrShTG0hAEEV",
    "outputId": "5267cd13-5ce5-40b5-d8e1-b730f2589230",
    "tags": []
   },
   "outputs": [
    {
     "name": "stdout",
     "output_type": "stream",
     "text": [
      "[('stewardesse', 0.5571776032447815), ('jagerpilot', 0.5140992403030396), ('faldskærmsudspringer', 0.49316951632499695), ('kamppilot', 0.47573158144950867), ('piloten', 0.47546449303627014)]\n"
     ]
    }
   ],
   "source": [
    "# word - analogy <-- analogy embedding (then word + analogy embedding => analogy)\n",
    "# write your own here\n",
    "print(model.most_similar(positive=['pilot', 'kvinde'], negative=['mand'], topn=5))\n"
   ]
  },
  {
   "cell_type": "markdown",
   "metadata": {
    "id": "qRv7RpYUhObA"
   },
   "source": [
    "## Plurals and sentiment \n",
    "- Discuss how you would find plurals of a Danish word\n",
    "    - Find plurals of 3 danish words using word embeddings\n",
    "- Discuss how you would find the antonym of a Danish word\n",
    "- Examine 3 words with multiple meaning, how well does word embeddings handle these?\n",
    "- Load this tagged [data](https://github.com/fnielsen/afinn/blob/master/afinn/data/AFINN-da-32.txt) (code provided). This is from a Danish sentiment lexicon from AFINN tagged by Finn A. Nielsen (A Danish NLP researcher). Discuss how you could expand this lexicon using word embeddings and test out if your assumptions are correct.\n",
    "- Can you use odd one out detection on AFINN's sentiment lexicon to check for errors in the dictionary? I.e. words which are tagged as positive but are in fact not?\n",
    "\n",
    "\n"
   ]
  },
  {
   "cell_type": "code",
   "execution_count": 62,
   "metadata": {
    "colab": {
     "base_uri": "https://localhost:8080/"
    },
    "execution": {
     "iopub.execute_input": "2023-03-19T12:57:04.682790Z",
     "iopub.status.busy": "2023-03-19T12:57:04.681895Z",
     "iopub.status.idle": "2023-03-19T12:57:05.044599Z",
     "shell.execute_reply": "2023-03-19T12:57:05.042369Z",
     "shell.execute_reply.started": "2023-03-19T12:57:04.682731Z"
    },
    "id": "x1HM3WUGBPgL",
    "outputId": "5136bb9f-63a5-4d6c-9b9a-67ebd1523ae4",
    "tags": []
   },
   "outputs": [
    {
     "name": "stdout",
     "output_type": "stream",
     "text": [
      "[('kaffe', 0.6035653948783875), ('te', 0.5248898267745972), ('kaffen', 0.4882567226886749), ('espresso', 0.4867384731769562), ('kage', 0.45227736234664917)]\n",
      "[('kvinde', 0.4439041316509247), ('mænd', 0.42003360390663147), ('nazisoldater', 0.39018377661705017), ('mennesker', 0.38475483655929565), ('mands', 0.38311588764190674)]\n"
     ]
    }
   ],
   "source": [
    "# plural - singular <-- pluralis embedding \n",
    "print(model.most_similar(positive=['kvinder', 'kop'], negative=['kvinde'], topn=5))\n",
    "\n",
    "\n",
    "print(model.most_similar(positive=['kopper', 'mand'], negative=['kop'], topn=5))\n"
   ]
  },
  {
   "cell_type": "code",
   "execution_count": 69,
   "metadata": {
    "execution": {
     "iopub.execute_input": "2023-03-19T13:01:03.915565Z",
     "iopub.status.busy": "2023-03-19T13:01:03.914829Z",
     "iopub.status.idle": "2023-03-19T13:01:04.132416Z",
     "shell.execute_reply": "2023-03-19T13:01:04.131041Z",
     "shell.execute_reply.started": "2023-03-19T13:01:03.915506Z"
    },
    "tags": []
   },
   "outputs": [
    {
     "name": "stdout",
     "output_type": "stream",
     "text": [
      "[('dejligt', 0.45962202548980713), ('halvmørkt', 0.4467766284942627), ('bælgragende', 0.4454246759414673), ('mørke', 0.44052305817604065), ('bælgravende', 0.4374397099018097)]\n"
     ]
    }
   ],
   "source": [
    "# antonym, doesn't work great haha\n",
    "\n",
    "print(model.most_similar(positive=['glad', 'mørkt'], negative=['sur'], topn=5))\n"
   ]
  },
  {
   "cell_type": "code",
   "execution_count": 74,
   "metadata": {
    "execution": {
     "iopub.execute_input": "2023-03-19T13:03:12.715045Z",
     "iopub.status.busy": "2023-03-19T13:03:12.714154Z",
     "iopub.status.idle": "2023-03-19T13:03:13.253749Z",
     "shell.execute_reply": "2023-03-19T13:03:13.251500Z",
     "shell.execute_reply.started": "2023-03-19T13:03:12.714984Z"
    },
    "tags": []
   },
   "outputs": [
    {
     "name": "stdout",
     "output_type": "stream",
     "text": [
      "[('bladene', 0.7726895213127136), ('grundstillede', 0.6779847741127014), ('stængler', 0.675053060054779), ('trekoblede', 0.6741914749145508), ('håndfligede', 0.6717219948768616)]\n",
      "[('lysten', 0.6161541938781738), ('trang', 0.5867336988449097), ('haftlyst', 0.5356452465057373), ('ubændig', 0.5343653559684753), ('hafttid', 0.5201312899589539)]\n",
      "[('bears', 0.7627429366111755), ('bakkens', 0.6287217736244202), ('rabbits', 0.6193805932998657), ('bearsnæstved', 0.5866698622703552), ('bearsspiller', 0.5809119343757629)]\n"
     ]
    }
   ],
   "source": [
    "# multiple meanings\n",
    "print(model.most_similar(positive=['blade'], topn=5))\n",
    "\n",
    "print(model.most_similar(positive=['lyst'], topn=5))\n",
    "\n",
    "print(model.most_similar(positive=['bakken'], topn=5))"
   ]
  },
  {
   "cell_type": "code",
   "execution_count": 76,
   "metadata": {
    "collapsed": true,
    "execution": {
     "iopub.execute_input": "2023-03-19T13:04:23.747633Z",
     "iopub.status.busy": "2023-03-19T13:04:23.746757Z",
     "iopub.status.idle": "2023-03-19T13:04:23.777949Z",
     "shell.execute_reply": "2023-03-19T13:04:23.777201Z",
     "shell.execute_reply.started": "2023-03-19T13:04:23.747574Z"
    },
    "jupyter": {
     "outputs_hidden": true
    },
    "tags": []
   },
   "outputs": [
    {
     "data": {
      "text/plain": [
       "{'absorberet': '1',\n",
       " 'acceptere': '1',\n",
       " 'accepterede': '1',\n",
       " 'accepterer': '1',\n",
       " 'accepteres': '1',\n",
       " 'accepteret': '1',\n",
       " 'advare': '-2',\n",
       " 'advarede': '-2',\n",
       " 'advarer': '-2',\n",
       " 'advaret': '-2',\n",
       " 'advarsel': '-3',\n",
       " 'advarsler': '-3',\n",
       " 'advarslerne': '-3',\n",
       " 'afbrudt': '-2',\n",
       " 'afbryde': '-2',\n",
       " 'afbrydelse': '-2',\n",
       " 'afbrydelser': '-2',\n",
       " 'afbrydelserne': '-2',\n",
       " 'afbryder': '-2',\n",
       " 'affald': '-1',\n",
       " 'afgift': '-1',\n",
       " 'afgifter': '-1',\n",
       " 'afgørende': '1',\n",
       " 'afhængig': '-1',\n",
       " 'afhængige': '-1',\n",
       " 'afklaring': '2',\n",
       " 'aflivning': '-1',\n",
       " 'aflivningen': '-1',\n",
       " 'aflivninger': '-1',\n",
       " 'aflivningerne': '-1',\n",
       " 'aflyse': '-2',\n",
       " 'aflyser': '-2',\n",
       " 'aflyses': '-2',\n",
       " 'aflyst': '-2',\n",
       " 'aflyste': '-2',\n",
       " 'aflystes': '-2',\n",
       " 'afskedige': '-1',\n",
       " 'afskediges': '-2',\n",
       " 'afskediget': '-2',\n",
       " 'afsky': '-3',\n",
       " 'afskyede': '-3',\n",
       " 'afskyelig': '-3',\n",
       " 'afskyelige': '-3',\n",
       " 'afskyeligt': '-3',\n",
       " 'afskyet': '-3',\n",
       " 'afskyr': '-3',\n",
       " 'afslappende': '2',\n",
       " 'afslappet': '2',\n",
       " 'afsløre': '-2',\n",
       " 'afslører': '-2',\n",
       " 'afsmitning': '-1',\n",
       " 'afspore': '-2',\n",
       " 'afsporede': '-2',\n",
       " 'afsporer': '-2',\n",
       " 'afsporet': '-2',\n",
       " 'afspænding': '2',\n",
       " 'afspærre': '-2',\n",
       " 'afspærrede': '-2',\n",
       " 'afspærrer': '-2',\n",
       " 'afspærret': '-2',\n",
       " 'afstandtagen': '-2',\n",
       " 'aftale': '1',\n",
       " 'aftalebrud': '-2',\n",
       " 'aftalt': '1',\n",
       " 'aftalt spil': '-3',\n",
       " 'afvente': '-1',\n",
       " 'afvigende': '-1',\n",
       " 'afvise': '-1',\n",
       " 'afviser': '-1',\n",
       " 'afvisning': '-2',\n",
       " 'afvisningen': '-2',\n",
       " 'afvisninger': '-2',\n",
       " 'afvisningerne': '-2',\n",
       " 'afvist': '-2',\n",
       " 'afviste': '-1',\n",
       " 'afværge': '1',\n",
       " 'afværges': '1',\n",
       " 'aggression': '-2',\n",
       " 'aggressioner': '-2',\n",
       " 'aggressiv': '-2',\n",
       " 'aggressive': '-2',\n",
       " 'aggressivitet': '-2',\n",
       " 'aggressivt': '-2',\n",
       " 'agte': '2',\n",
       " 'agtet': '2',\n",
       " 'ak': '-1',\n",
       " 'akavet': '-2',\n",
       " 'aktiv': '1',\n",
       " 'aktiver': '2',\n",
       " 'alarm': '-2',\n",
       " 'alarmerende': '-2',\n",
       " 'alarmering': '-2',\n",
       " 'alarmister': '-2',\n",
       " 'alene': '-1',\n",
       " 'allergisk': '-2',\n",
       " 'altereret': '-2',\n",
       " 'ambitiøs': '2',\n",
       " 'ambitiøse': '2',\n",
       " 'ambitiøst': '2',\n",
       " 'ambivalent': '-1',\n",
       " 'amok': '-3',\n",
       " 'analfabet': '-2',\n",
       " 'analfabeter': '-2',\n",
       " 'analfabetisme': '-2',\n",
       " 'anbefale': '2',\n",
       " 'anbefalede': '2',\n",
       " 'anbefaler': '2',\n",
       " 'anbefaling': '2',\n",
       " 'anbefalingen': '2',\n",
       " 'anbefalinger': '2',\n",
       " 'anbefalingerne': '2',\n",
       " 'anerkendelse': '2',\n",
       " 'anerkendelsen': '2',\n",
       " 'anerkendelser': '2',\n",
       " 'anerkendelserne': '2',\n",
       " 'anerkendt': '2',\n",
       " 'anerkendte': '2',\n",
       " 'anger': '-2',\n",
       " 'angers': '-2',\n",
       " 'angreb': '-1',\n",
       " 'angrebet': '-1',\n",
       " 'angrebskrig': '-2',\n",
       " 'angribe': '-1',\n",
       " 'angriber': '-1',\n",
       " 'angst': '-3',\n",
       " 'angste': '-3',\n",
       " 'angsten': '-3',\n",
       " 'angstens': '-3',\n",
       " 'angstprovokerende': '-3',\n",
       " 'anholdelse': '-2',\n",
       " 'anholdelser': '-2',\n",
       " 'anholdt': '-3',\n",
       " 'anholdte': '-2',\n",
       " 'anklage': '-2',\n",
       " 'anklagede': '-2',\n",
       " 'anklaget': '-2',\n",
       " 'anmelde': '-1',\n",
       " 'anmeldt': '-1',\n",
       " 'anmeldte': '-1',\n",
       " 'annullere': '-1',\n",
       " 'annullerer': '-1',\n",
       " 'annulleret': '-1',\n",
       " 'annullering': '-1',\n",
       " 'anspændt': '-2',\n",
       " 'ansvarlig': '2',\n",
       " 'ansvarligt': '2',\n",
       " 'ansvarsbevidst': '2',\n",
       " 'antagonistisk': '-2',\n",
       " 'anti': '-1',\n",
       " 'antihumanistisk': '-2',\n",
       " 'apati': '-3',\n",
       " 'apatiske': '-3',\n",
       " 'apokalyptisk': '-2',\n",
       " 'appellere': '-1',\n",
       " 'appellerede': '-1',\n",
       " 'appellerer': '-1',\n",
       " 'appelleret': '-1',\n",
       " 'arbejdsløs': '-2',\n",
       " 'arbejdsløshed': '-2',\n",
       " 'arbejdsløsheden': '-2',\n",
       " 'arbejdsløshedens': '-2',\n",
       " 'arbejdsnedlæggelse': '-2',\n",
       " 'arbejdsnedlæggelser': '-2',\n",
       " 'arrogance': '-2',\n",
       " 'arrogant': '-2',\n",
       " 'arrogante': '-2',\n",
       " 'attraktion': '2',\n",
       " 'avanceret': '1',\n",
       " 'badass': '-3',\n",
       " 'bakkes': '1',\n",
       " 'ballade': '-2',\n",
       " 'ballademager': '-1',\n",
       " 'bange': '-2',\n",
       " 'bankerot': '-3',\n",
       " 'barmhjertighed': '2',\n",
       " 'barmhjertigheden': '2',\n",
       " 'barmhjertigheds': '2',\n",
       " 'barnlig': '-2',\n",
       " 'barriere': '-2',\n",
       " 'barsk': '-2',\n",
       " 'barske': '-2',\n",
       " 'barskere': '-2',\n",
       " 'bastard': '-4',\n",
       " 'bebrejde': '-2',\n",
       " 'bebrejder': '-2',\n",
       " 'bebyrdet': '-2',\n",
       " 'bede': '1',\n",
       " 'bedemandsansigt': '-2',\n",
       " 'bedende': '1',\n",
       " 'beder': '1',\n",
       " 'bedrag': '-3',\n",
       " 'bedrage': '-3',\n",
       " 'bedrager': '-3',\n",
       " 'bedrageri': '-3',\n",
       " 'bedrageriske': '-3',\n",
       " 'bedraget': '-3',\n",
       " 'bedre': '2',\n",
       " 'bedrevidende': '-2',\n",
       " 'bedrøve': '-2',\n",
       " 'bedrøvet': '-2',\n",
       " 'bedste': '3',\n",
       " 'befrielse': '2',\n",
       " 'befrielsen': '2',\n",
       " 'befrielsens': '2',\n",
       " 'befrielser': '2',\n",
       " 'befrielserne': '2',\n",
       " 'befriende': '2',\n",
       " 'begejstre': '4',\n",
       " 'begejstrede': '4',\n",
       " 'begejstrer': '4',\n",
       " 'begejstres': '4',\n",
       " 'begejstret': '4',\n",
       " 'begravelse': '-1',\n",
       " 'begravelser': '-1',\n",
       " 'begræde': '-2',\n",
       " 'begrænse': '-1',\n",
       " 'begrænsede': '-1',\n",
       " 'begrænser': '-1',\n",
       " 'begrænset': '-1',\n",
       " 'begrænsning': '-1',\n",
       " 'begunstiget': '2',\n",
       " 'begå': '1',\n",
       " 'begået': '1',\n",
       " 'begår': '1',\n",
       " 'behage': '1',\n",
       " 'behagelig': '2',\n",
       " 'behandlingskrævende': '-2',\n",
       " 'beklagede': '-2',\n",
       " 'beklagende': '-2',\n",
       " 'beklager': '-2',\n",
       " 'bekostelig': '-2',\n",
       " 'bekræfte': '1',\n",
       " 'bekvem': '2',\n",
       " 'bekvemmelig': '2',\n",
       " 'bekvemmelighed': '2',\n",
       " 'bekvemmeligheder': '2',\n",
       " 'bekvemmelighederne': '2',\n",
       " 'bekvemmeligt': '2',\n",
       " 'bekvemt': '2',\n",
       " 'bekymre': '-2',\n",
       " 'bekymrede': '-2',\n",
       " 'bekymrende': '-2',\n",
       " 'bekymrer': '-2',\n",
       " 'bekymring': '-2',\n",
       " 'bekymringer': '-2',\n",
       " 'bekymringerne': '-2',\n",
       " 'bekæmpe': '-1',\n",
       " 'bekæmper': '-1',\n",
       " 'belaste': '-2',\n",
       " 'belastende': '-2',\n",
       " 'belastning': '-2',\n",
       " 'belastningen': '-2',\n",
       " 'belastninger': '-2',\n",
       " 'belastningerne': '-2',\n",
       " 'belønne': '2',\n",
       " 'belønnet': '2',\n",
       " 'belønning': '2',\n",
       " 'belønningen': '2',\n",
       " 'belønninger': '2',\n",
       " 'belønningerne': '2',\n",
       " 'bemærkelsesværdig': '2',\n",
       " 'bemærkelsesværdige': '2',\n",
       " 'bemærkelsesværdigt': '2',\n",
       " 'benlås': '-2',\n",
       " 'benægte': '-2',\n",
       " 'benægter': '-2',\n",
       " 'benægtere': '-2',\n",
       " 'benådet': '2',\n",
       " 'benådning': '2',\n",
       " 'berettiget': '2',\n",
       " 'berolige': '2',\n",
       " 'beroligede': '2',\n",
       " 'beroligende': '2',\n",
       " 'beroliger': '2',\n",
       " 'beroliget': '2',\n",
       " 'beruset': '-2',\n",
       " 'berygtede': '-2',\n",
       " 'berømmelse': '1',\n",
       " 'berøve': '-2',\n",
       " 'berøvede': '-2',\n",
       " 'berøvet': '-2',\n",
       " 'besat': '2',\n",
       " 'besejret': '-2',\n",
       " 'beskylde': '-2',\n",
       " 'beskylder': '-2',\n",
       " 'beskyldninger': '-2',\n",
       " 'beskyldt': '-2',\n",
       " 'beskytte': '1',\n",
       " 'beskytter': '1',\n",
       " 'beskyttet': '1',\n",
       " 'bestemt': '2',\n",
       " 'bestikke': '-3',\n",
       " 'bestride': '-2',\n",
       " 'bestrides': '-2',\n",
       " 'bestyrtelse': '-2',\n",
       " 'bestyrtelsen': '-2',\n",
       " 'bestyrtet': '-2',\n",
       " 'besvær': '-2',\n",
       " 'besværet': '-2',\n",
       " 'besværlig': '-2',\n",
       " 'besværligt': '-2',\n",
       " 'betagende': '5',\n",
       " 'betaget': '3',\n",
       " 'betale': '-1',\n",
       " 'betroet': '2',\n",
       " 'betryggende': '2',\n",
       " 'betydning': '2',\n",
       " 'betydningsfuld': '2',\n",
       " 'betydningsfuldt': '2',\n",
       " 'betændt': '-2',\n",
       " 'betænkelig': '-2',\n",
       " 'betænkelige': '-2',\n",
       " 'betænkelighed': '-2',\n",
       " 'betænkeligt': '-2',\n",
       " 'beundre': '3',\n",
       " 'beundrede': '3',\n",
       " 'beundrende': '3',\n",
       " 'beundrer': '3',\n",
       " 'beundret': '3',\n",
       " 'beundring': '3',\n",
       " 'beundringen': '3',\n",
       " 'bevares': '-1',\n",
       " 'bevaret': '-1',\n",
       " 'bidende': '-3',\n",
       " 'bifald': '2',\n",
       " 'bifalde': '2',\n",
       " 'bifalder': '2',\n",
       " 'bifaldt': '2',\n",
       " 'billethajer': '-2',\n",
       " 'bisse': '-2',\n",
       " 'bitter': '-2',\n",
       " 'bitterhed': '-3',\n",
       " 'bittert': '-2',\n",
       " 'bivirkning': '-2',\n",
       " 'bivirkningen': '-2',\n",
       " 'bivirkninger': '-2',\n",
       " 'bivirkningerne': '-2',\n",
       " 'bizarre': '-2',\n",
       " 'blah': '-2',\n",
       " 'blid': '2',\n",
       " 'blide': '2',\n",
       " 'blind': '-1',\n",
       " 'blockbuster': '3',\n",
       " 'blodige': '-3',\n",
       " 'blodsudgydelse': '-3',\n",
       " 'blodsudgydelsen': '-3',\n",
       " 'blodsudgydelser': '-3',\n",
       " 'blodsudgydelserne': '-3',\n",
       " 'blodtørstig': '-2',\n",
       " 'blodtørstige': '-2',\n",
       " 'blodtørstigt': '-2',\n",
       " 'blok': '-1',\n",
       " 'blokere': '-1',\n",
       " 'blokeret': '-1',\n",
       " 'blokering': '-1',\n",
       " 'blokke': '-1',\n",
       " 'blæser': '3',\n",
       " 'blødsøden': '-2',\n",
       " 'blåstempel': '-2',\n",
       " 'blåstemple': '-2',\n",
       " 'blåstemplede': '-2',\n",
       " 'blåstempler': '-2',\n",
       " 'blåstemplet': '-2',\n",
       " 'bombe': '-1',\n",
       " 'boost': '1',\n",
       " 'boostet': '1',\n",
       " 'boring': '-2',\n",
       " 'bort': '-2',\n",
       " 'bort fra': '-2',\n",
       " 'bortførelse': '-2',\n",
       " 'bortførelser': '-2',\n",
       " 'bortført': '-2',\n",
       " 'bortrykket': '2',\n",
       " 'bortvist': '-2',\n",
       " 'boykot': '-2',\n",
       " 'boykotte': '-2',\n",
       " 'boykottet': '-2',\n",
       " 'brand': '-2',\n",
       " 'bras': '-3',\n",
       " 'braste': '-1',\n",
       " 'brilliant': '4',\n",
       " 'briste': '-1',\n",
       " 'brokke': '-2',\n",
       " 'brokker': '-2',\n",
       " 'brudt': '-1',\n",
       " 'brutto': '-2',\n",
       " 'bryster': '-2',\n",
       " 'brændende': '2',\n",
       " 'brød': '-1',\n",
       " 'byder': '1',\n",
       " 'byrde': '-2',\n",
       " 'byrder': '-2',\n",
       " 'bæst': '-3',\n",
       " 'bølle': '-1',\n",
       " 'catchy': '2',\n",
       " 'censor': '-2',\n",
       " 'censorere': '-2',\n",
       " 'censureret': '-2',\n",
       " 'chance': '2',\n",
       " 'chancer': '2',\n",
       " 'charme': '3',\n",
       " 'charmerende': '3',\n",
       " 'chikane': '-3',\n",
       " 'chikanerede': '-3',\n",
       " 'chikaneret': '-3',\n",
       " 'chok': '-2',\n",
       " 'chokerende': '-2',\n",
       " 'chokeret': '-2',\n",
       " 'comeback': '2',\n",
       " 'comebacket': '2',\n",
       " 'cover-up': '-3',\n",
       " 'deaktivering': '-1',\n",
       " 'dedikeret': '2',\n",
       " 'defekte': '-3',\n",
       " 'defekter': '-3',\n",
       " 'dehumanisere': '-2',\n",
       " 'dehumaniserende': '-2',\n",
       " 'dehumaniseret': '-2',\n",
       " 'dejlig': '3',\n",
       " 'demonstraten': '-1',\n",
       " 'demonstrater': '-1',\n",
       " 'demonstraterne': '-1',\n",
       " 'demonstration': '-1',\n",
       " 'demoraliseret': '-2',\n",
       " 'depression': '-2',\n",
       " 'depressiv': '-2',\n",
       " 'depressivt': '-2',\n",
       " 'deprimerede': '-2',\n",
       " 'deprimeret': '-2',\n",
       " 'deroute': '-2',\n",
       " 'derouten': '-2',\n",
       " 'derouter': '-2',\n",
       " 'derouteren': '-2',\n",
       " 'desillusioneret': '-2',\n",
       " 'desorienteret': '-2',\n",
       " 'desperat': '-3',\n",
       " 'desperate': '-3',\n",
       " 'destruktion': '-3',\n",
       " 'destruktive': '-3',\n",
       " 'desværre': '-2',\n",
       " 'diamant': '1',\n",
       " 'diktatur': '-2',\n",
       " 'diktature': '-2',\n",
       " 'diktaturet': '-2',\n",
       " 'dilemma': '-1',\n",
       " 'diskonteret': '-1',\n",
       " 'diskriminere': '-2',\n",
       " 'diskriminerede': '-2',\n",
       " 'diskriminerende': '-2',\n",
       " 'diskriminerer': '-2',\n",
       " 'diskvalificere': '-2',\n",
       " 'diskvalificerer': '-2',\n",
       " 'diskvalificeret': '-2',\n",
       " 'distrahere': '-2',\n",
       " 'distraherer': '-2',\n",
       " 'distraheret': '-2',\n",
       " 'distraktion': '-2',\n",
       " 'dobbeltmoral': '-3',\n",
       " 'dolket': '-2',\n",
       " 'dom': '-1',\n",
       " 'domme': '-1',\n",
       " 'donere': '1',\n",
       " 'donerede': '1',\n",
       " 'donerer': '1',\n",
       " 'doneres': '1',\n",
       " 'doneret': '1',\n",
       " 'doven': '-1',\n",
       " 'dovenskab': '-2',\n",
       " 'dovent': '-2',\n",
       " 'drab': '-3',\n",
       " 'drabet': '-3',\n",
       " 'drabsforsøg': '-3',\n",
       " 'dristig': '3',\n",
       " 'dristigt': '2',\n",
       " 'drop': '-1',\n",
       " 'droppede': '-2',\n",
       " 'droppet': '-2',\n",
       " 'drukne': '-2',\n",
       " 'druknede': '-2',\n",
       " 'drukner': '-2',\n",
       " 'dræbe': '-3',\n",
       " 'dræber': '-3',\n",
       " 'dræbt': '-3',\n",
       " 'drænet': '-2',\n",
       " 'drømme': '1',\n",
       " 'dud': '-2',\n",
       " 'dulme': '3',\n",
       " 'dum': '-2',\n",
       " 'dumme': '-3',\n",
       " 'dumpe': '-1',\n",
       " 'dumpede': '-1',\n",
       " 'dumpet': '-2',\n",
       " 'dumsmart': '-2',\n",
       " 'dumsmarte': '-2',\n",
       " 'dumsmartere': '-2',\n",
       " 'dumsmartest': '-2',\n",
       " 'dumsmarteste': '-2',\n",
       " 'dumt': '-2',\n",
       " 'dydige': '2',\n",
       " 'dygtig': '2',\n",
       " 'dygtigere': '2',\n",
       " 'dygtigst': '2',\n",
       " 'dygtigt': '2',\n",
       " 'dyrebar': '2',\n",
       " 'dyrebare': '2',\n",
       " 'dyrebart': '2',\n",
       " 'dyrt': '3',\n",
       " 'dyrtid': '-1',\n",
       " 'dysfunktion': '-2',\n",
       " 'dyster': '-2',\n",
       " 'dysterhed': '-1',\n",
       " 'dystert': '-2',\n",
       " 'dystre': '-2',\n",
       " 'dø': '-2',\n",
       " 'død': '-2',\n",
       " 'døde': '-3',\n",
       " 'dødsdømt': '-2',\n",
       " 'dødsfald': '-3',\n",
       " 'dødstruslen': '-3',\n",
       " 'dødstrusler': '-3',\n",
       " 'dødstruslerne': '-3',\n",
       " 'dødstrussel': '-3',\n",
       " 'dødt': '-2',\n",
       " 'dødvande': '-2',\n",
       " 'dårlig': '-3',\n",
       " 'dårlige': '-3',\n",
       " 'dårligste': '-3',\n",
       " 'dårligt': '-3',\n",
       " 'effektiv': '2',\n",
       " 'effektivt': '2',\n",
       " 'efterladte': '-2',\n",
       " 'efterlevende': '2',\n",
       " 'efterspørgsel': '-1',\n",
       " 'eftertragtede': '3',\n",
       " 'eftertragtet': '3',\n",
       " 'eftertænksom': '2',\n",
       " 'egoisme': '-3',\n",
       " 'egoist': '-3',\n",
       " 'egoister': '-3',\n",
       " 'egoistisk': '-3',\n",
       " 'egoistiske': '-3',\n",
       " 'ekskluderer': '-2',\n",
       " 'eksklusiv': '2',\n",
       " 'ekspanderer': '1',\n",
       " 'eksponere': '-1',\n",
       " 'ekstase': '3',\n",
       " 'ekstatisk': '4',\n",
       " 'elegant': '2',\n",
       " 'elendig': '-3',\n",
       " 'elendige': '-3',\n",
       " 'elendighed': '-3',\n",
       " 'elendigheden': '-3',\n",
       " 'elendigt': '-3',\n",
       " 'elske': '3',\n",
       " 'elskede': '3',\n",
       " 'elskelig': '3',\n",
       " 'elskelige': '3',\n",
       " 'elsker': '2',\n",
       " 'elsket': '3',\n",
       " 'eminent': '4',\n",
       " 'eminente': '4',\n",
       " 'empatisk': '2',\n",
       " 'empatiske': '2',\n",
       " 'energisk': '2',\n",
       " 'enestående': '3',\n",
       " 'engagement': '2',\n",
       " 'engagere': '1',\n",
       " 'engagerede': '1',\n",
       " 'engagerer': '1',\n",
       " 'engageret': '1',\n",
       " 'enig': '1',\n",
       " 'enige': '1',\n",
       " 'enighed': '2',\n",
       " 'enigt': '1',\n",
       " 'enker': '-1',\n",
       " 'enorm': '1',\n",
       " 'enraging': '-2',\n",
       " 'ensom': '-2',\n",
       " 'ensomme': '-2',\n",
       " 'ensomt': '-2',\n",
       " 'ensporet': '-2',\n",
       " 'enthral': '3',\n",
       " 'entusiastiske': '3',\n",
       " 'error': '-2',\n",
       " 'etiske': '2',\n",
       " 'eufori': '3',\n",
       " 'euforisk': '4',\n",
       " 'eventyr': '2',\n",
       " 'eventyrlystne': '2',\n",
       " 'evne': '2',\n",
       " 'evner': '2',\n",
       " 'excellence': '3',\n",
       " 'fabelagtig': '4',\n",
       " 'fabelagtige': '4',\n",
       " 'fabelagtigt': '4',\n",
       " 'fad': '-2',\n",
       " 'fadæse': '-2',\n",
       " 'faking': '-3',\n",
       " 'faldende': '-1',\n",
       " 'faldet': '-2',\n",
       " 'fallit': '-2',\n",
       " 'fallit-erklæring': '-2',\n",
       " 'fallit-erklæringen': '-2',\n",
       " 'falske': '-3',\n",
       " 'falskneriet': '-4',\n",
       " 'fanatiker': '-2',\n",
       " 'fanatikere': '-2',\n",
       " 'fanden': '-3',\n",
       " 'fandme': '-3',\n",
       " 'fange': '-2',\n",
       " 'fanger': '-2',\n",
       " 'fanget': '-2',\n",
       " 'fantastisk': '4',\n",
       " 'fantastiske': '4',\n",
       " 'farce': '-1',\n",
       " 'fare': '-2',\n",
       " 'farlig': '-2',\n",
       " 'farligere': '-2',\n",
       " 'farligst': '-2',\n",
       " 'farligt': '-2',\n",
       " 'fascinere': '3',\n",
       " 'fascinerende': '3',\n",
       " 'fascinerer': '3',\n",
       " 'fascineret': '3',\n",
       " 'fascist': '-2',\n",
       " 'fascister': '-2',\n",
       " 'fattig': '-2',\n",
       " 'fattigdom': '-2',\n",
       " 'fattige': '-2',\n",
       " 'fattigere': '-2',\n",
       " 'fattigste': '-2',\n",
       " 'fattigt': '-2',\n",
       " 'favorisere': '2',\n",
       " 'favoriserer': '2',\n",
       " 'favorit': '2',\n",
       " 'favoritter': '2',\n",
       " 'febrilsk': '-2',\n",
       " 'febrilske': '-2',\n",
       " 'fed': '2',\n",
       " 'fedterøv': '-3',\n",
       " 'fej': '-2',\n",
       " 'fejl': '-2',\n",
       " 'fejlagtig': '-2',\n",
       " 'fejlbarlig': '-2',\n",
       " 'fejler': '-2',\n",
       " 'fejlet': '-2',\n",
       " 'fejlrapportering': '-2',\n",
       " 'fejltagelse': '-2',\n",
       " 'fejltagelsen': '-2',\n",
       " 'fejltagelser': '-2',\n",
       " 'fejre': '3',\n",
       " 'fejrede': '3',\n",
       " 'fejrer': '3',\n",
       " 'fejres': '3',\n",
       " 'fejret': '3',\n",
       " 'ferm': '2',\n",
       " 'fermt': '2',\n",
       " 'fest': '1',\n",
       " 'festlig': '2',\n",
       " 'festlige': '2',\n",
       " 'festligst': '2',\n",
       " 'festligste': '2',\n",
       " 'festligt': '2',\n",
       " 'fiasko': '-3',\n",
       " 'fik': '2',\n",
       " 'fiks': '2',\n",
       " 'fin': '2',\n",
       " 'fine': '2',\n",
       " 'fint': '2',\n",
       " 'fitness': '1',\n",
       " 'fjende': '-2',\n",
       " 'fjender': '-2',\n",
       " 'fjenderne': '-2',\n",
       " 'fjendskab': '-2',\n",
       " 'fjendskabet': '-2',\n",
       " 'fjendtlig': '-2',\n",
       " 'fjendtligt': '-2',\n",
       " 'fjolle': '-1',\n",
       " 'fjollede': '-1',\n",
       " 'fjollet': '-1',\n",
       " 'flagskib': '2',\n",
       " 'flerstrengede': '2',\n",
       " 'flerstrenget': '2',\n",
       " 'flop': '-2',\n",
       " 'flot': '3',\n",
       " 'flov': '-2',\n",
       " 'fluekneppende': '-3',\n",
       " 'flueknepperi': '-3',\n",
       " 'flueknepperiet': '-3',\n",
       " 'flydende': '2',\n",
       " 'flygter': '-1',\n",
       " 'fobisk': '-2',\n",
       " 'fokuseret': '2',\n",
       " 'for høje': '-2',\n",
       " 'for lidt': '-2',\n",
       " 'for lille': '-2',\n",
       " 'for meget': '-2',\n",
       " 'for stor': '-2',\n",
       " 'for tynd': '-2',\n",
       " 'foragt': '-2',\n",
       " 'foragte': '-2',\n",
       " 'foragteligt': '-2',\n",
       " 'foragtende': '-2',\n",
       " 'forargede': '-3',\n",
       " 'forarget': '-3',\n",
       " 'forbande': '-1',\n",
       " 'forbandet': '-4',\n",
       " 'forbavse': '2',\n",
       " 'forbavsende': '2',\n",
       " 'forbavset': '2',\n",
       " 'forbedre': '2',\n",
       " 'forbedrer': '2',\n",
       " 'forbedret': '2',\n",
       " 'forbedring': '2',\n",
       " 'forberedt': '1',\n",
       " 'forbigå': '-1',\n",
       " 'forbigået': '-1',\n",
       " 'forbillede': '2',\n",
       " 'forbilleder': '2',\n",
       " 'forbilledet': '2',\n",
       " 'forbitrede': '-2',\n",
       " 'forbløffende': '2',\n",
       " 'forbløffet': '2',\n",
       " 'forbrydelse': '-2',\n",
       " 'forbrydelsen': '-2',\n",
       " 'forbrydelser': '-2',\n",
       " 'forbrydelserne': '-2',\n",
       " 'forbud': '-2',\n",
       " 'forbudt': '-2',\n",
       " 'forbyde': '-2',\n",
       " 'forbydes': '-2',\n",
       " 'fordel': '2',\n",
       " 'fordele': '2',\n",
       " 'fordelen': '2',\n",
       " 'fordelene': '2',\n",
       " 'fordragelighed': '2',\n",
       " 'fordreje': '-2',\n",
       " 'fordrejer': '-2',\n",
       " 'fordømme': '-2',\n",
       " 'fordømmelse': '-2',\n",
       " 'fordømmer': '-2',\n",
       " 'fordømt': '-2',\n",
       " 'forebygge': '-1',\n",
       " 'forebygges': '-1',\n",
       " 'foregive': '-1',\n",
       " 'foregiver': '-1',\n",
       " 'foregribelse': '1',\n",
       " 'forene': '2',\n",
       " 'forenet': '2',\n",
       " 'foretrak': '2',\n",
       " 'foretrukken': '2',\n",
       " 'foretrække': '2',\n",
       " 'foretrækker': '2',\n",
       " 'forfalske': '-3',\n",
       " 'forfalskede': '-3',\n",
       " 'forfalskninger': '-3',\n",
       " 'forfremmet': '1',\n",
       " 'forfulgt': '-2',\n",
       " 'forfærdelige': '-3',\n",
       " 'forfærdet': '-3',\n",
       " 'forfølge': '-2',\n",
       " 'forfølger': '-2',\n",
       " 'forførende': '2',\n",
       " 'forført': '-1',\n",
       " 'forgabelse': '4',\n",
       " 'forgifte': '-2',\n",
       " 'forgiftede': '-2',\n",
       " 'forgiftet': '-2',\n",
       " 'forgreb': '-2',\n",
       " 'forgribe': '-2',\n",
       " 'forgriber': '-2',\n",
       " 'forgæves': '-2',\n",
       " 'forhadt': '-3',\n",
       " 'forhaste': '-2',\n",
       " 'forhastede': '-2',\n",
       " 'forhastet': '-2',\n",
       " 'forhindre': '-1',\n",
       " 'forhindrer': '-1',\n",
       " 'forhindringer': '-2',\n",
       " 'forhørt': '-2',\n",
       " 'forhåbentlig': '2',\n",
       " 'forkast': '-2',\n",
       " 'forkaste': '-2',\n",
       " 'forkastede': '-2',\n",
       " 'forkastelig': '-3',\n",
       " 'forkastelige': '-3',\n",
       " 'forkasteligt': '-3',\n",
       " 'forkaster': '-2',\n",
       " 'forkastet': '-2',\n",
       " 'forkert': '-2',\n",
       " 'forkerte': '-2',\n",
       " 'forklejne': '-2',\n",
       " 'forklejnet': '-2',\n",
       " 'forklæder': '-1',\n",
       " 'forklædt': '-1',\n",
       " 'forknyt': '-2',\n",
       " 'forknytte': '-2',\n",
       " 'forkrampede': '-2',\n",
       " 'forkæle': '2',\n",
       " 'forkælet': '-1',\n",
       " 'forlade': '-1',\n",
       " 'forlader': '-2',\n",
       " 'forladte': '-2',\n",
       " 'forlegenhed': '-2',\n",
       " 'forlige': '2',\n",
       " 'forlystelser': '3',\n",
       " 'forlænge': '1',\n",
       " 'formane': '-2',\n",
       " 'formanede': '-2',\n",
       " 'formilde': '2',\n",
       " 'formilder': '2',\n",
       " 'formildet': '2',\n",
       " 'fornærme': '-2',\n",
       " 'fornærmelser': '-2',\n",
       " 'fornærmende': '-2',\n",
       " 'fornærmet': '-2',\n",
       " 'fornærmethed': '-2',\n",
       " 'fornøjelse': '3',\n",
       " 'fornøjelsen': '3',\n",
       " 'fornøjelser': '3',\n",
       " 'fornøjelserne': '3',\n",
       " 'forpint': '-2',\n",
       " 'forpinte': '-3',\n",
       " 'forpligte': '1',\n",
       " 'forplumret': '-1',\n",
       " 'forpulede': '-4',\n",
       " 'forpulet': '-4',\n",
       " 'forpurre': '-2',\n",
       " 'forpurret': '-2',\n",
       " 'forringelse': '-2',\n",
       " 'forringelsen': '-2',\n",
       " 'forringelser': '-2',\n",
       " 'forringelserne': '-2',\n",
       " 'forræderi': '-3',\n",
       " 'forræderier': '-3',\n",
       " 'forræderierne': '-3',\n",
       " 'forræderiet': '-3',\n",
       " 'forræderisk': '-3',\n",
       " 'forræderiske': '-3',\n",
       " 'forråde': '-3',\n",
       " 'forrådt': '-3',\n",
       " 'forrådte': '-3',\n",
       " 'forseelse': '-2',\n",
       " 'forseelsen': '-2',\n",
       " 'forseelser': '-2',\n",
       " 'forseelserne': '-2',\n",
       " 'forsigtige': '-1',\n",
       " 'forsigtigt': '2',\n",
       " 'forsikrede': '1',\n",
       " 'forsikrer': '1',\n",
       " 'forsikret': '1',\n",
       " 'forsikring': '1',\n",
       " 'forsimple': '-2',\n",
       " 'forsimplede': '-2',\n",
       " 'forsinke': '-1',\n",
       " 'forsinket': '-1',\n",
       " 'forskelsbehandle': '-2',\n",
       " 'forskelsbehandler': '-2',\n",
       " 'forskelsbehandling': '-2',\n",
       " 'forskelsbehandlingen': '-2',\n",
       " 'forskelsbehandlingens': '-2',\n",
       " 'forskrækkelse': '-2',\n",
       " 'forskrækket': '-2',\n",
       " 'forskræmt': '-2',\n",
       " 'forskræmte': '-2',\n",
       " 'forskønne': '3',\n",
       " 'forstenede': '-2',\n",
       " 'forstyrre': '-2',\n",
       " 'forstyrrende': '-2',\n",
       " 'forstyrrer': '-2',\n",
       " 'forstyrret': '-2',\n",
       " 'forsvandt': '-1',\n",
       " 'forsvarede': '2',\n",
       " 'forsvarsløse': '-2',\n",
       " 'forsvinde': '-1',\n",
       " 'forsvinder': '-1',\n",
       " 'forsømme': '-2',\n",
       " 'forsømmelse': '-2',\n",
       " 'forsømmer': '-2',\n",
       " 'forsømt': '-2',\n",
       " 'forsømte': '-2',\n",
       " 'fortjent': '1',\n",
       " 'fortryde': '-2',\n",
       " 'fortryllede': '2',\n",
       " 'fortræd': '-1',\n",
       " 'fortrøstning': '2',\n",
       " 'fortrøstningsfuld': '2',\n",
       " 'fortrøstningsfuldt': '2',\n",
       " 'fortvivlede': '-3',\n",
       " 'fortvivlelse': '-3',\n",
       " 'fortvivler': '-3',\n",
       " 'fortørnet': '-2',\n",
       " 'forudindtaget': '-2',\n",
       " 'forulempe': '-2',\n",
       " 'forulempes': '-2',\n",
       " 'forunderlige': '3',\n",
       " 'forundret': '-2',\n",
       " 'forurener': '-2',\n",
       " 'forureneren': '-2',\n",
       " 'forurenerne': '-2',\n",
       " 'forurenet': '-2',\n",
       " 'forurening': '-2',\n",
       " 'forureningen': '-2',\n",
       " 'forurettede': '-2',\n",
       " 'forurettet': '-2',\n",
       " 'foruroligende': '-2',\n",
       " 'foruroliget': '-2',\n",
       " 'forvaring': '-2',\n",
       " 'forvirre': '-2',\n",
       " 'forvirrende': '-2',\n",
       " 'forvirret': '-2',\n",
       " 'forvirring': '-2',\n",
       " 'forvise': '-1',\n",
       " 'forvridende': '-2',\n",
       " 'forvrænget': '-2',\n",
       " 'forværre': '-2',\n",
       " 'forværrer': '-2',\n",
       " 'forværres': '-2',\n",
       " 'forværret': '-2',\n",
       " 'forværring': '-2',\n",
       " 'forældede': '-2',\n",
       " 'fosterskade': '-2',\n",
       " 'fosterskaden': '-2',\n",
       " 'fosterskader': '-2',\n",
       " 'frarøver': '-2',\n",
       " 'fratræde': '-1',\n",
       " 'fratræder': '-1',\n",
       " 'fratrådt': '-1',\n",
       " 'fraværende': '-1',\n",
       " 'fred': '2',\n",
       " 'fredelig': '2',\n",
       " 'fredeligt': '2',\n",
       " 'freden': '2',\n",
       " 'fredfyldte': '2',\n",
       " 'frejdig': '3',\n",
       " 'frejdigt': '3',\n",
       " 'fremdrift': '2',\n",
       " 'fremhæve': '2',\n",
       " 'fremme': '1',\n",
       " 'fremmedfjendsk': '-2',\n",
       " 'fremmedfjendske': '-2',\n",
       " 'fremmedgørelse': '-2',\n",
       " 'fremmedhad': '-2',\n",
       " 'fremmedhadet': '-2',\n",
       " 'fremmer': '1',\n",
       " 'fremprovokere': '-1',\n",
       " 'fremragende': '4',\n",
       " 'fremskridt': '2',\n",
       " 'fremskridtene': '2',\n",
       " 'fremskridtsvenlig': '2',\n",
       " 'fremtrædende': '2',\n",
       " 'fri': '1',\n",
       " 'frifundet': '2',\n",
       " 'frigid': '-3',\n",
       " 'frihed': '2',\n",
       " 'frikende': '2',\n",
       " 'frikender': '2',\n",
       " 'frikendt': '2',\n",
       " 'frirum': '2',\n",
       " 'frisk': '1',\n",
       " 'fritage': '2',\n",
       " 'fritager': '2',\n",
       " 'fritaget': '-1',\n",
       " 'frivillig': '1',\n",
       " 'frivilligt': '1',\n",
       " 'frustration': '-2',\n",
       " 'frustrationer': '-2',\n",
       " 'frustrationerne': '-2',\n",
       " 'frustrere': '-2',\n",
       " 'frustrerede': '-2',\n",
       " 'frustrerende': '-2',\n",
       " 'frustrerer': '-2',\n",
       " 'fryd': '4',\n",
       " 'fryde': '4',\n",
       " 'frydede': '4',\n",
       " 'frygt': '-2',\n",
       " 'frygtede': '-2',\n",
       " 'frygtelig': '-3',\n",
       " 'frygtelige': '-3',\n",
       " 'frygten': '-2',\n",
       " 'frygter': '-2',\n",
       " 'frygtet': '-2',\n",
       " 'frygtindgydende': '-2',\n",
       " 'frygtløs': '2',\n",
       " 'frygtløst': '2',\n",
       " 'frygtsom': '-2',\n",
       " 'frygtsomme': '-2',\n",
       " 'frygtsomt': '-2',\n",
       " 'fryse': '-2',\n",
       " 'fryser': '-2',\n",
       " 'fryste': '-2',\n",
       " 'ftw': '3',\n",
       " 'fuck': '-4',\n",
       " 'fuldender': '2',\n",
       " 'fuldføre': '1',\n",
       " 'fuldfører': '1',\n",
       " 'fuldføres': '1',\n",
       " 'fuldført': '1',\n",
       " 'fungerer ikke': '-3',\n",
       " 'funkler': '3',\n",
       " ...}"
      ]
     },
     "execution_count": 76,
     "metadata": {},
     "output_type": "execute_result"
    }
   ],
   "source": [
    "# loading data\n",
    "import csv\n",
    "\n",
    "path = '/work/463910/compling23/HW12_material/AFINN-da-32.txt'\n",
    "with open(path) as f:\n",
    "    reader = csv.reader(f, delimiter=\"\\t\")\n",
    "    afinn = dict(reader)\n",
    "    \n",
    "afinn"
   ]
  },
  {
   "cell_type": "code",
   "execution_count": 93,
   "metadata": {
    "execution": {
     "iopub.execute_input": "2023-03-19T13:13:19.473606Z",
     "iopub.status.busy": "2023-03-19T13:13:19.472874Z",
     "iopub.status.idle": "2023-03-19T13:13:19.667882Z",
     "shell.execute_reply": "2023-03-19T13:13:19.665740Z",
     "shell.execute_reply.started": "2023-03-19T13:13:19.473547Z"
    },
    "tags": []
   },
   "outputs": [
    {
     "name": "stdout",
     "output_type": "stream",
     "text": [
      "['absorberet', 'acceptere', 'accepterede', 'accepterer', 'accepteres', 'accepteret', 'afgørende', 'afklaring', 'afslappende', 'afslappet', 'afspænding', 'aftale', 'aftalt', 'afværge', 'afværges', 'agte', 'agtet', 'aktiv', 'aktiver', 'ambitiøs']\n",
      "['advare', 'advarede', 'advarer', 'advaret', 'advarsel', 'advarsler', 'advarslerne', 'afbrudt', 'afbryde', 'afbrydelse', 'afbrydelser', 'afbrydelserne', 'afbryder', 'affald', 'afgift', 'afgifter', 'afhængig', 'afhængige', 'aflivning', 'aflivningen']\n",
      "superior\n",
      "boring\n"
     ]
    }
   ],
   "source": [
    "positive = []\n",
    "negative = []\n",
    "\n",
    "for key,value in afinn.items():\n",
    "    if int(value) > 0:\n",
    "        positive.append(key)\n",
    "    elif int(value) < 0:\n",
    "        negative.append(key)\n",
    "\n",
    "        \n",
    "print(positive[:20])\n",
    "print(negative[:20])\n",
    "\n",
    "print(model.doesnt_match(positive))\n",
    "print(model.doesnt_match(negative))\n"
   ]
  },
  {
   "cell_type": "markdown",
   "metadata": {
    "id": "Pf3ElynOAEEV"
   },
   "source": [
    "# 5. PageRank\n"
   ]
  },
  {
   "cell_type": "markdown",
   "metadata": {
    "id": "bZeyhHGOAEEV"
   },
   "source": [
    "Based on a gist by Sebastien Bratieres and on the Wikipedia page for PageRank."
   ]
  },
  {
   "cell_type": "markdown",
   "metadata": {
    "id": "CO8mBUtYAEEV"
   },
   "source": [
    "PageRank was the website sorting algorithm that cemented Google's early success in the 1990s, when it displayed webpages with the highest PageRank first. Larry Page and Sergey Brin, the co-founders of Google, developed PageRank while they were PhD students at Stanford University in 1996 as part of a research project. PageRank is named both after Larry Page and after the term \"web page\". Its main idea is that important webpages are likely to receive many links from other important webpages. The PageRank algorithm can be seen as computing the probability that a person who randomly clicks on links and follows them will arrive at a particular website.  (In case you're wondering if this assumes that people keep clicking around, PageRank actually includes a dampening factor that represents the probability that a person will actually keep clicking as opposed to stopping where they are. It’s usually set to 0.85.)\n",
    "\n",
    "It used to be the case that developers could see their page's PageRank via a tool that Google provided. Although this public score has since then been discontinued, PageRank is [still a part of Google's algorithm](https://ahrefs.com/blog/google-pagerank/).\n",
    "\n",
    "Incoming links lift a website's rank if they come from higher-ranked sites, particularly if these sites have few outgoing links. The following slightly creepy graphic shows this. The higher a website's rank (as indicated by the number of size of websites pointing at it), the bigger it is and the bigger its smile is."
   ]
  },
  {
   "cell_type": "markdown",
   "metadata": {
    "id": "v95lMIMvAEEV"
   },
   "source": [
    "![PageRank cartoon](https://upload.wikimedia.org/wikipedia/commons/6/69/PageRank-hi-res.png)"
   ]
  },
  {
   "cell_type": "markdown",
   "metadata": {
    "id": "luUwJvfdAEEV"
   },
   "source": [
    "_(Graphic by Felipe Micaroni Lalli, distributed under a [CC BY-SA 2.5](https://creativecommons.org/licenses/by-sa/2.5/deed.en) license. Source: https://upload.wikimedia.org/wikipedia/commons/6/69/PageRank-hi-res.png)_"
   ]
  },
  {
   "cell_type": "markdown",
   "metadata": {
    "id": "D6Sj4Oc_AEEV"
   },
   "source": [
    "Here we will work with a toy example that involves just eleven websites, which link to each other as shown here. In the graph below, the percentages and the sizes of the circles represent the page ranks of these sites. Let's look at an implementation of the PageRank algorithm."
   ]
  },
  {
   "cell_type": "markdown",
   "metadata": {
    "id": "nfbvW-K3AEEV"
   },
   "source": [
    "![PageRank illustration](http://upload.wikimedia.org/wikipedia/commons/f/fb/PageRanks-Example.svg)"
   ]
  },
  {
   "cell_type": "markdown",
   "metadata": {
    "id": "QKq7DLRnAEEV"
   },
   "source": [
    "_(Graphic by 345Kai, placed into the public domain. Source: http://upload.wikimedia.org/wikipedia/commons/f/fb/PageRanks-Example.svg)_"
   ]
  },
  {
   "cell_type": "markdown",
   "metadata": {
    "id": "HnOtDisBAEEV"
   },
   "source": [
    "First, we will encode the links present on this graph as a count matrix `M_counts`."
   ]
  },
  {
   "cell_type": "code",
   "execution_count": 78,
   "metadata": {
    "colab": {
     "base_uri": "https://localhost:8080/"
    },
    "execution": {
     "iopub.execute_input": "2023-03-17T13:18:48.881762Z",
     "iopub.status.busy": "2023-03-17T13:18:48.880943Z",
     "iopub.status.idle": "2023-03-17T13:18:48.897683Z",
     "shell.execute_reply": "2023-03-17T13:18:48.896839Z",
     "shell.execute_reply.started": "2023-03-17T13:18:48.881698Z"
    },
    "id": "JcKCs_9eAEEV",
    "outputId": "f626ddb5-949e-4ac0-95d8-695c1bf4674e",
    "tags": []
   },
   "outputs": [
    {
     "name": "stdout",
     "output_type": "stream",
     "text": [
      "[[1. 0. 0. 1. 0. 0. 0. 0. 0. 0. 0.]\n",
      " [1. 0. 1. 1. 1. 1. 1. 1. 1. 0. 0.]\n",
      " [1. 1. 0. 0. 0. 0. 0. 0. 0. 0. 0.]\n",
      " [1. 0. 0. 0. 1. 0. 0. 0. 0. 0. 0.]\n",
      " [1. 0. 0. 0. 0. 1. 1. 1. 1. 1. 1.]\n",
      " [1. 0. 0. 0. 1. 0. 0. 0. 0. 0. 0.]\n",
      " [1. 0. 0. 0. 0. 0. 0. 0. 0. 0. 0.]\n",
      " [1. 0. 0. 0. 0. 0. 0. 0. 0. 0. 0.]\n",
      " [1. 0. 0. 0. 0. 0. 0. 0. 0. 0. 0.]\n",
      " [1. 0. 0. 0. 0. 0. 0. 0. 0. 0. 0.]\n",
      " [1. 0. 0. 0. 0. 0. 0. 0. 0. 0. 0.]]\n"
     ]
    }
   ],
   "source": [
    "### THIS CELL DEFINES THE GRAPH ABOVE - DO NOT EDIT THIS CELL\n",
    "import numpy as np\n",
    "n_pages = 11 # numbering pages A through K as 0 to 10\n",
    "M_counts = np.zeros((n_pages, n_pages)) # will hold the number of link counts (assumed 0 or 1)\n",
    "# columns = starting page, row = destination page, ie M_ij = whether or not there is a link from j to i\n",
    "\n",
    "# create variable names for each page index for clarity\n",
    "# 1\n",
    "pageA = 0\n",
    "pageB = 1\n",
    "pageC = 2\n",
    "pageD = 3\n",
    "pageE = 4\n",
    "pageF = 5\n",
    "pageG = 6\n",
    "pageH = 7\n",
    "pageI = 8\n",
    "pageJ = 9\n",
    "pageK = 10\n",
    "\n",
    "# 2\n",
    "M_counts[:,pageA] = 1 # page 0 (A in the graphic) is a sink because it has no outgoing links at all; \n",
    "# however, M cannot contain an all-zero column, so do as if A was linking to all other pages (ie put 1's everywhere)\n",
    "M_counts[pageA,pageD] = 1  # to A from D\n",
    "M_counts[pageB,pageC] = 1  # to B from C\n",
    "M_counts[pageB,pageD] = 1  # to B from D\n",
    "M_counts[pageB,pageE] = 1  # to B from E\n",
    "M_counts[pageB,pageF] = 1  # to B from F\n",
    "M_counts[pageB,pageG] = 1  # to B from G\n",
    "M_counts[pageB,pageH] = 1  # to B from H\n",
    "M_counts[pageB,pageI] = 1  # to B from I\n",
    "M_counts[pageC,pageB] = 1  # to C from B\n",
    "M_counts[pageD,pageE] = 1  # to D from E\n",
    "M_counts[pageE,pageF] = 1  # to E from F\n",
    "M_counts[pageE,pageG] = 1  # to E from G\n",
    "M_counts[pageE,pageH] = 1  # to E from H\n",
    "M_counts[pageE,pageI] = 1  # to E from I\n",
    "M_counts[pageE,pageJ] = 1  # to E from J\n",
    "M_counts[pageE,pageK] = 1  # to E from K\n",
    "M_counts[pageF,pageE] = 1  # to F from E\n",
    "\n",
    "print(M_counts)"
   ]
  },
  {
   "cell_type": "markdown",
   "metadata": {
    "id": "5RqreoAgAEEV"
   },
   "source": [
    "#### Code Explanation\n",
    "_The following explanation refers to the above code block, referencing parts in parentheses, e.g. `(1)`._\n",
    "\n",
    "(1) First, we go ahead and make a bunch of variables for each page set to numbers. This is mostly for code readability. Much clearer to say `pageA` links to `pageD` with the line `M_counts[pageA,pageD]` than it is to write something like `M_counts[0,3]`!\n",
    "\n",
    "(2) Then we go ahead and initialize values for what pages are linked to each other. In the grid that prints out below, anywhere there's a `1` represents where a page is linked. The first column is all `1s` because each page will link back to A by default. Somewhere like `[1,3]` will be a 1 to represent page 1 linked to page 3- or as defined above, pageB linked to pageD!"
   ]
  },
  {
   "cell_type": "markdown",
   "metadata": {
    "id": "fgcxiT7HAEEV"
   },
   "source": [
    "Now we convert  `M_counts` to `M` below, by dividing each column by its sum, i.e. we are making sure columns sum to 1. "
   ]
  },
  {
   "cell_type": "code",
   "execution_count": 79,
   "metadata": {
    "colab": {
     "base_uri": "https://localhost:8080/"
    },
    "execution": {
     "iopub.execute_input": "2023-03-17T13:19:02.154746Z",
     "iopub.status.busy": "2023-03-17T13:19:02.153912Z",
     "iopub.status.idle": "2023-03-17T13:19:02.165723Z",
     "shell.execute_reply": "2023-03-17T13:19:02.164956Z",
     "shell.execute_reply.started": "2023-03-17T13:19:02.154684Z"
    },
    "id": "EBYNqPDKAEEV",
    "outputId": "669aa082-2b24-463f-9823-88761ed4ecef",
    "tags": []
   },
   "outputs": [
    {
     "name": "stdout",
     "output_type": "stream",
     "text": [
      "[[0.091 0.    0.    0.5   0.    0.    0.    0.    0.    0.    0.   ]\n",
      " [0.091 0.    1.    0.5   0.333 0.5   0.5   0.5   0.5   0.    0.   ]\n",
      " [0.091 1.    0.    0.    0.    0.    0.    0.    0.    0.    0.   ]\n",
      " [0.091 0.    0.    0.    0.333 0.    0.    0.    0.    0.    0.   ]\n",
      " [0.091 0.    0.    0.    0.    0.5   0.5   0.5   0.5   1.    1.   ]\n",
      " [0.091 0.    0.    0.    0.333 0.    0.    0.    0.    0.    0.   ]\n",
      " [0.091 0.    0.    0.    0.    0.    0.    0.    0.    0.    0.   ]\n",
      " [0.091 0.    0.    0.    0.    0.    0.    0.    0.    0.    0.   ]\n",
      " [0.091 0.    0.    0.    0.    0.    0.    0.    0.    0.    0.   ]\n",
      " [0.091 0.    0.    0.    0.    0.    0.    0.    0.    0.    0.   ]\n",
      " [0.091 0.    0.    0.    0.    0.    0.    0.    0.    0.    0.   ]]\n"
     ]
    }
   ],
   "source": [
    "M = np.empty((n_pages, n_pages))\n",
    "for j in range(n_pages):\n",
    "    M[:,j] = M_counts[:,j] / M_counts[:,j].sum()\n",
    "np.set_printoptions(precision=3)\n",
    "print(M)"
   ]
  },
  {
   "cell_type": "markdown",
   "metadata": {
    "id": "4o22FVoJAEEV"
   },
   "source": [
    "The following code checks that `M` has the right format to be used by the PageRank."
   ]
  },
  {
   "cell_type": "code",
   "execution_count": 80,
   "metadata": {
    "execution": {
     "iopub.execute_input": "2023-03-17T13:19:03.207332Z",
     "iopub.status.busy": "2023-03-17T13:19:03.206554Z",
     "iopub.status.idle": "2023-03-17T13:19:03.223295Z",
     "shell.execute_reply": "2023-03-17T13:19:03.222121Z",
     "shell.execute_reply.started": "2023-03-17T13:19:03.207269Z"
    },
    "id": "dnNwsvsiAEEV",
    "tags": []
   },
   "outputs": [],
   "source": [
    "def check_M(M):\n",
    "    \"\"\"\n",
    "    check that M has the right format to be used by pagerank function\n",
    "    \"\"\"\n",
    "    n_pages = M.shape[0] # n_pages is the number of rows of M\n",
    "    np.testing.assert_equal(M.shape[0], M.shape[1], err_msg = 'M should be square')\n",
    "    np.testing.assert_array_almost_equal(M.sum(axis=0), np.ones((n_pages)), \n",
    "                                         err_msg = 'assert each column sums to one (M is assumed column-stochastic)')\n",
    "    for j in range(n_pages):\n",
    "        M_column = M[:,j]\n",
    "        n_nonzero = np.count_nonzero(M[:,j])\n",
    "        np.testing.assert_array_almost_equal(M_column[M_column.nonzero()], np.ones((n_nonzero)) / n_nonzero,\n",
    "                                             err_msg = 'in column %g, all non-zero entries should be equal (and equal to 1 divided by their number)' % j)\n",
    "\n",
    "check_M(M) # will produce error if M does not have the right format"
   ]
  },
  {
   "cell_type": "markdown",
   "metadata": {
    "id": "1t-1jZ4IAEEV"
   },
   "source": [
    "#### Code Explanation\n",
    "_The following explanation refers to the above code block._\n",
    "\n",
    "This code block uses the library `numpy`, as imported in a cell way above with `import numpy as np`. Where you see `np.testing.assert...` represents the numpy library making sure something is true. For example, the line below `n_pages = M.shape[0]` is testing if the first argument is equal to the second argument. Namely, if the shape (or dimensions) is a square. `M.shape[0]` gets the number of rows, and `M.shape[1]` gets the number of columns.\n",
    "\n",
    "If you're curious, print out `M.shape`. You should see something like `(x,y)`. Thus, `M.shape[0]` would print the same value as `x`, and similarly for `M.shape[1]` and `y`."
   ]
  },
  {
   "cell_type": "markdown",
   "metadata": {
    "id": "dql9VMwxAEEW"
   },
   "source": [
    "We are now ready to apply the pagerank function, which will iteratively apply page transitions to an randomly initialized distribution over the pages, until we converge. The details of the PageRank algorithm do not matter for this exercise beyond what was described in the textbook; however, if you are interested, the [Wikipedia page on PageRank](https://en.wikipedia.org/wiki/PageRank) gives a good overview."
   ]
  },
  {
   "cell_type": "code",
   "execution_count": 81,
   "metadata": {
    "execution": {
     "iopub.execute_input": "2023-03-17T13:19:06.576976Z",
     "iopub.status.busy": "2023-03-17T13:19:06.576139Z",
     "iopub.status.idle": "2023-03-17T13:19:06.587555Z",
     "shell.execute_reply": "2023-03-17T13:19:06.586709Z",
     "shell.execute_reply.started": "2023-03-17T13:19:06.576903Z"
    },
    "id": "QEYI61boAEEW",
    "tags": []
   },
   "outputs": [],
   "source": [
    "def pagerank(M, d=0.85, square_error=1e-8):\n",
    "    \"\"\"\n",
    "    M : the adjacency matrix of the pages. It is assumed to be column-stochastic (i.e. column sum to 1); all links have equal weight.\n",
    "    A page with no outgoing links (sink) is represented as a page with outgoing links to each other page (ie restart page).\n",
    "    d: damping factor (this is not in the textbook, but commonly applied in PageRank implementations; it represents the probability that a user stops clicking)\n",
    "    square_error : the algorithm iterates until the difference between two successive PageRank vectors v is less than this (in squared norm)\n",
    "    returns the PageRanks of all pages\n",
    "    \"\"\"\n",
    "    n_pages = M.shape[0] # n_pages is the number of rows of M\n",
    "    v = np.random.rand(n_pages) # initialize to random vector\n",
    "    v = v / v.sum() # make v sum to 1\n",
    "    last_v = np.ones((n_pages)) # will contain the previous v\n",
    "    M_hat = d * M + (1-d)/n_pages * np.ones((n_pages, n_pages)) # this is the central PageRank equation\n",
    "    while np.square(v - last_v).sum() > square_error:\n",
    "        last_v = v\n",
    "        v = M_hat.dot(v) # at each iteration, progress one timestep\n",
    "    return v"
   ]
  },
  {
   "cell_type": "code",
   "execution_count": 82,
   "metadata": {
    "colab": {
     "base_uri": "https://localhost:8080/"
    },
    "execution": {
     "iopub.execute_input": "2023-03-17T13:19:07.167355Z",
     "iopub.status.busy": "2023-03-17T13:19:07.166521Z",
     "iopub.status.idle": "2023-03-17T13:19:07.178417Z",
     "shell.execute_reply": "2023-03-17T13:19:07.177062Z",
     "shell.execute_reply.started": "2023-03-17T13:19:07.167292Z"
    },
    "id": "DYUlDuihAEEW",
    "outputId": "989e5f8e-f059-47a3-86e5-3c814f5463aa",
    "tags": []
   },
   "outputs": [
    {
     "name": "stdout",
     "output_type": "stream",
     "text": [
      "Result of running PageRank on M:\n",
      "Page A: 3.3%\n",
      "Page B: 38.4%\n",
      "Page C: 34.3%\n",
      "Page D: 3.9%\n",
      "Page E: 8.1%\n",
      "Page F: 3.9%\n",
      "Page G: 1.6%\n",
      "Page H: 1.6%\n",
      "Page I: 1.6%\n",
      "Page J: 1.6%\n"
     ]
    }
   ],
   "source": [
    "result = pagerank(M)\n",
    "print(\"Result of running PageRank on M:\")\n",
    "site_names = \"ABCDEFGHIJK\"\n",
    "for i in range(10):\n",
    "    print(\"Page\", site_names[i]+\":\", \"{:.1%}\".format(result[i]))"
   ]
  },
  {
   "cell_type": "markdown",
   "metadata": {
    "id": "JBH2Gr4tAEEW"
   },
   "source": [
    "#### Code Explanation\n",
    "_The following explanation refers to the above code blocks._\n",
    "\n",
    "The first block, that defines our `pagerank` function, returns a list that is the pagerank of all pages- which you can see as the variable `result` in our second codeblock. The math tricks in the first block aside, the `pagerank` function gives you a list which is then printed in the second block. The higher the percentage, the more relevant they are when you search up something related to these websites (or pages)."
   ]
  },
  {
   "cell_type": "markdown",
   "metadata": {
    "id": "uLb8EX2LAEEW"
   },
   "source": [
    "These are the numbers (within the allowed error) displayed on the graph (the numbers on the graph are rounded exact values). There might be slight discrepancies because of how the algorithm depends on random numbers."
   ]
  },
  {
   "cell_type": "markdown",
   "metadata": {
    "id": "v36rEo3hB5-c"
   },
   "source": [
    "Suppose the webmaster of website B edits it to include a link to website A (so, B is now linking to both A and C). Look at the graphic above. Which site do you think will now have the highest PageRank? Will A continue to be ranked below C? (No need to submit an answer at this point, just keep the answer in mind.)"
   ]
  },
  {
   "cell_type": "markdown",
   "metadata": {
    "id": "FHvY3Zr_AEEW"
   },
   "source": [
    "The following code is an exact copy of the code above, except that the variables have been renamend (instead of M_counts there is M_new_counts etc.), and in the first cell there are instructions to add a new link to A coming from website B. Add this link (<font color=\"red\">remember, it is a link **to** A **from** B, not the other way around; note that in the code, all links are given in the format \"to X from Y\"; that is, it is counter to what people might normally intuit</font>). Then run that cell and all of the subsequent cells in preparation for the questions below."
   ]
  },
  {
   "cell_type": "code",
   "execution_count": 83,
   "metadata": {
    "colab": {
     "base_uri": "https://localhost:8080/"
    },
    "execution": {
     "iopub.execute_input": "2023-03-17T13:19:13.687267Z",
     "iopub.status.busy": "2023-03-17T13:19:13.686430Z",
     "iopub.status.idle": "2023-03-17T13:19:13.703861Z",
     "shell.execute_reply": "2023-03-17T13:19:13.702754Z",
     "shell.execute_reply.started": "2023-03-17T13:19:13.687203Z"
    },
    "id": "2jOdjCC2AEEW",
    "outputId": "cc8fb853-6e10-4268-f41a-ae9e2de0eb82",
    "tags": []
   },
   "outputs": [
    {
     "name": "stdout",
     "output_type": "stream",
     "text": [
      "[[1. 0. 0. 1. 0. 0. 0. 0. 0. 0. 0.]\n",
      " [1. 0. 1. 1. 1. 1. 1. 1. 1. 0. 0.]\n",
      " [1. 1. 0. 0. 0. 0. 0. 0. 0. 0. 0.]\n",
      " [1. 0. 0. 0. 1. 0. 0. 0. 0. 0. 0.]\n",
      " [1. 0. 0. 0. 0. 1. 1. 1. 1. 1. 1.]\n",
      " [1. 0. 0. 0. 1. 0. 0. 0. 0. 0. 0.]\n",
      " [1. 0. 0. 0. 0. 0. 0. 0. 0. 0. 0.]\n",
      " [1. 0. 0. 0. 0. 0. 0. 0. 0. 0. 0.]\n",
      " [1. 0. 0. 0. 0. 0. 0. 0. 0. 0. 0.]\n",
      " [1. 0. 0. 0. 0. 0. 0. 0. 0. 0. 0.]\n",
      " [1. 0. 0. 0. 0. 0. 0. 0. 0. 0. 0.]]\n"
     ]
    }
   ],
   "source": [
    "### DUPLICATE OF CODE ABOVE -- EDIT THIS CELL AS INDICATED BELOW\n",
    "import numpy as np\n",
    "n_pages = 11 # numbering pages A through K as 0 to 10\n",
    "M_new_counts = np.zeros((n_pages, n_pages)) # will hold the number of link counts (assumed 0 or 1)\n",
    "# columns = starting page, row = destination page, ie M_ij = whether or not there is a link from j to i\n",
    "\n",
    "# crate variable names for each page index for clarity\n",
    "pageA = 0\n",
    "pageB = 1\n",
    "pageC = 2\n",
    "pageD = 3\n",
    "pageE = 4\n",
    "pageF = 5\n",
    "pageG = 6\n",
    "pageH = 7\n",
    "pageI = 8\n",
    "pageJ = 9\n",
    "pageK = 10\n",
    "\n",
    "M_new_counts[:,pageA] = 1 # page 0 (A in the graphic) is a sink because it has no outgoing links at all; \n",
    "# however, M cannot contain an all-zero column, so do as if A was linking to all other pages (ie put 1's everywhere)\n",
    "M_new_counts[pageA,pageD] = 1  # to A from D\n",
    "M_new_counts[pageB,pageC] = 1  # to B from C\n",
    "M_new_counts[pageB,pageD] = 1  # to B from D\n",
    "M_new_counts[pageB,pageE] = 1  # to B from E\n",
    "M_new_counts[pageB,pageF] = 1  # to B from F\n",
    "M_new_counts[pageB,pageG] = 1  # to B from G\n",
    "M_new_counts[pageB,pageH] = 1  # to B from H\n",
    "M_new_counts[pageB,pageI] = 1  # to B from I\n",
    "M_new_counts[pageC,pageB] = 1  # to C from B\n",
    "M_new_counts[pageD,pageE] = 1  # to D from E\n",
    "M_new_counts[pageE,pageF] = 1  # to E from F\n",
    "M_new_counts[pageE,pageG] = 1  # to E from G\n",
    "M_new_counts[pageE,pageH] = 1  # to E from H\n",
    "M_new_counts[pageE,pageI] = 1  # to E from I\n",
    "M_new_counts[pageE,pageJ] = 1  # to E from J\n",
    "M_new_counts[pageE,pageK] = 1  # to E from K\n",
    "M_new_counts[pageF,pageE] = 1  # to F from E\n",
    "### YOUR TASK: ADD A LINE TO THE ABOVE LIST THAT REPRESENTS A NEW LINK TO PAGE A FROM PAGE B\n",
    "\n",
    "print(M_new_counts)"
   ]
  },
  {
   "cell_type": "code",
   "execution_count": 84,
   "metadata": {
    "colab": {
     "base_uri": "https://localhost:8080/"
    },
    "execution": {
     "iopub.execute_input": "2023-03-17T13:19:17.462718Z",
     "iopub.status.busy": "2023-03-17T13:19:17.461871Z",
     "iopub.status.idle": "2023-03-17T13:19:17.474211Z",
     "shell.execute_reply": "2023-03-17T13:19:17.472785Z",
     "shell.execute_reply.started": "2023-03-17T13:19:17.462656Z"
    },
    "id": "Yi2a-RN6AEEW",
    "outputId": "bb208aa7-17b2-49f1-ffe7-d52e4253be4a",
    "scrolled": true,
    "tags": []
   },
   "outputs": [
    {
     "name": "stdout",
     "output_type": "stream",
     "text": [
      "[[0.091 0.    0.    0.5   0.    0.    0.    0.    0.    0.    0.   ]\n",
      " [0.091 0.    1.    0.5   0.333 0.5   0.5   0.5   0.5   0.    0.   ]\n",
      " [0.091 1.    0.    0.    0.    0.    0.    0.    0.    0.    0.   ]\n",
      " [0.091 0.    0.    0.    0.333 0.    0.    0.    0.    0.    0.   ]\n",
      " [0.091 0.    0.    0.    0.    0.5   0.5   0.5   0.5   1.    1.   ]\n",
      " [0.091 0.    0.    0.    0.333 0.    0.    0.    0.    0.    0.   ]\n",
      " [0.091 0.    0.    0.    0.    0.    0.    0.    0.    0.    0.   ]\n",
      " [0.091 0.    0.    0.    0.    0.    0.    0.    0.    0.    0.   ]\n",
      " [0.091 0.    0.    0.    0.    0.    0.    0.    0.    0.    0.   ]\n",
      " [0.091 0.    0.    0.    0.    0.    0.    0.    0.    0.    0.   ]\n",
      " [0.091 0.    0.    0.    0.    0.    0.    0.    0.    0.    0.   ]]\n"
     ]
    }
   ],
   "source": [
    "### DUPLICATE OF CODE ABOVE, BUT WITH M_new instead of M and M_new_counts instead of M_counts\n",
    "M_new = np.empty((n_pages, n_pages))\n",
    "for j in range(n_pages):\n",
    "    M_new[:,j] = M_new_counts[:,j] / M_new_counts[:,j].sum()\n",
    "np.set_printoptions(precision=3)\n",
    "print(M_new)"
   ]
  },
  {
   "cell_type": "code",
   "execution_count": 85,
   "metadata": {
    "colab": {
     "base_uri": "https://localhost:8080/"
    },
    "execution": {
     "iopub.execute_input": "2023-03-17T13:19:23.457477Z",
     "iopub.status.busy": "2023-03-17T13:19:23.457003Z",
     "iopub.status.idle": "2023-03-17T13:19:23.466848Z",
     "shell.execute_reply": "2023-03-17T13:19:23.465754Z",
     "shell.execute_reply.started": "2023-03-17T13:19:23.457438Z"
    },
    "id": "Q-c1uyEwAEEW",
    "outputId": "e6a2cf33-51d8-43ff-f5e9-4e1a103ab8f9",
    "tags": []
   },
   "outputs": [
    {
     "name": "stdout",
     "output_type": "stream",
     "text": [
      "Result of running PageRank on M_new:\n",
      "Page A: 3.3%\n",
      "Page B: 38.4%\n",
      "Page C: 34.3%\n",
      "Page D: 3.9%\n",
      "Page E: 8.1%\n",
      "Page F: 3.9%\n",
      "Page G: 1.6%\n",
      "Page H: 1.6%\n",
      "Page I: 1.6%\n",
      "Page J: 1.6%\n"
     ]
    }
   ],
   "source": [
    "### DUPLICATE OF CODE ABOVE, BUT WITH M_new instead of M and result_new instead of result\n",
    "result_new = pagerank(M_new)\n",
    "print(\"Result of running PageRank on M_new:\")\n",
    "site_names = \"ABCDEFGHIJK\"\n",
    "for i in range(10):\n",
    "    print(\"Page\", site_names[i]+\":\", \"{:.1%}\".format(result_new[i]))"
   ]
  },
  {
   "cell_type": "markdown",
   "metadata": {
    "id": "NWEqJDsuAEEW"
   },
   "source": [
    "For this and the following questions, check the result against your intuitions before you submit. "
   ]
  },
  {
   "cell_type": "markdown",
   "metadata": {
    "id": "PcpGH1uEAEEW"
   },
   "source": [
    "**Question 3.1** What is the percentage value of the top ranked website? Give the result as a decimal number between 1 and 100, rounded to one decimal, without the \"percent\" sign. Do not divide by 100. This question and the next one can be answered by checking the lists in the output above. It is there for us to see whether you have run the PageRank algorithm correctly as per our instructions."
   ]
  },
  {
   "cell_type": "code",
   "execution_count": null,
   "metadata": {
    "id": "1L6YBhZ9AEEW",
    "tags": []
   },
   "outputs": [],
   "source": [
    "solution_3_1 = ..."
   ]
  },
  {
   "cell_type": "markdown",
   "metadata": {
    "id": "C_pjEFnZAEEW"
   },
   "source": [
    "**Question 3.2 (10 points)** And what is the percentage value of the second highest ranked website? Give the result as a decimal number between 1 and 100, rounded to one decimal, without the \"percent\" sign. Do not divide by 100."
   ]
  },
  {
   "cell_type": "code",
   "execution_count": null,
   "metadata": {
    "id": "XuyKQrtVAEEW",
    "tags": []
   },
   "outputs": [],
   "source": [
    "solution_3_2 = ..."
   ]
  },
  {
   "cell_type": "markdown",
   "metadata": {
    "id": "InoGUD7zAEEW"
   },
   "source": [
    "## Background on search engine crawlers\n",
    "Search engines \"crawl\" (i.e. look through) the web every few days or weeks and use the result to compute PageRank and similar measures. When you search for a term, the search engine returns sites ranked according to the index it has stored at that moment in time, which may be out of date in case there has been a change to some website. The following scenario tests your ability to understand the concept of crawling and to integrate this information with what you have just learned from practicing with the PageRank algorithm. \n",
    "- Suppose the index of a search engine is initially as above, before you made the change. Assume that the websites A, C, E, and F mention the search term \"skiing\" and that no other websites do. \n",
    "- On Tuesday, Alice, the webmaster of B, adds a link to A to her site as described above. The search engine does not know of this change yet. \n",
    "- On Wednesday, Bob searches for \"skiing\". \n",
    "- On Thursday, the search engine crawler visits Alice's website for the first time this week, and stores an updated index that reflects the change Alice has made to her website. The search engine then reruns PageRank as described above. \n",
    "- On Friday, Carol searches for \"skiing\"."
   ]
  },
  {
   "cell_type": "markdown",
   "metadata": {
    "deletable": false,
    "editable": false,
    "id": "DwB9BytqAEEW"
   },
   "source": [
    "<!-- BEGIN QUESTION -->\n",
    "\n",
    "**Question 3.3.1**. What is the top result of Bob's search for the term \"skiing\"? In other words, which of sites A, C, E, and F (that is, which of those sites that mention the term) is ranked highest according to the index on Wednesday? Please state your answer as a single uppercase letter."
   ]
  },
  {
   "cell_type": "markdown",
   "metadata": {
    "id": "paz6gCz_AEEW"
   },
   "source": [
    "_Type your answer here, replacing this text._"
   ]
  },
  {
   "cell_type": "markdown",
   "metadata": {
    "deletable": false,
    "editable": false,
    "id": "9AJaaDcgAEEW"
   },
   "source": [
    "<!-- END QUESTION -->\n",
    "\n",
    "<!-- BEGIN QUESTION -->\n",
    "\n",
    "**Question 3.3.2**. Briefly explain your reasoning. Why is the top result for Bob what you said it is?"
   ]
  },
  {
   "cell_type": "markdown",
   "metadata": {
    "id": "Wi_PEHH3AEEW"
   },
   "source": [
    "_Type your answer here, replacing this text._"
   ]
  },
  {
   "cell_type": "markdown",
   "metadata": {
    "deletable": false,
    "editable": false,
    "id": "X-JaIBB9AEEX"
   },
   "source": [
    "<!-- END QUESTION -->\n",
    "\n",
    "<!-- BEGIN QUESTION -->\n",
    "\n",
    "**Question 3.3.3**. What is the top result of Carol's search for the term \"skiing\"? In other words, which of sites A, C, E, and F (that is, which of those sites that mention the term) is ranked highest according to the index on Friday? Please state your answer as a single uppercase letter."
   ]
  },
  {
   "cell_type": "markdown",
   "metadata": {
    "id": "fe9uLd2MAEEX"
   },
   "source": [
    "_Type your answer here, replacing this text._"
   ]
  },
  {
   "cell_type": "markdown",
   "metadata": {
    "deletable": false,
    "editable": false,
    "id": "bSdhn5rMAEEX"
   },
   "source": [
    "<!-- END QUESTION -->\n",
    "\n",
    "<!-- BEGIN QUESTION -->\n",
    "\n",
    "**Question 3.3.4**. Briefly explain your reasoning. Why is the top result for Carol what you said it is?"
   ]
  },
  {
   "cell_type": "markdown",
   "metadata": {
    "id": "w5quBjogAEEX"
   },
   "source": [
    "_Type your answer here, replacing this text._"
   ]
  }
 ],
 "metadata": {
  "colab": {
   "provenance": []
  },
  "kernelspec": {
   "display_name": "Python 3 ",
   "language": "python",
   "name": "python3"
  },
  "language_info": {
   "codemirror_mode": {
    "name": "ipython",
    "version": 3
   },
   "file_extension": ".py",
   "mimetype": "text/x-python",
   "name": "python",
   "nbconvert_exporter": "python",
   "pygments_lexer": "ipython3",
   "version": "3.9.10"
  },
  "otter": {
   "tests": {
    "q0.name-and-netID": {
     "name": "q0.name-and-netID",
     "points": 0,
     "suites": [
      {
       "cases": [
        {
         "code": ">>> type(FIRST_NAME) == str\nTrue",
         "hidden": false,
         "locked": false
        },
        {
         "code": ">>> type(LAST_NAME) == str\nTrue",
         "hidden": false,
         "locked": false
        },
        {
         "code": ">>> type(NYU_NET_ID) == str\nTrue",
         "hidden": false,
         "locked": false
        },
        {
         "code": ">>> FIRST_NAME != \"\"\nTrue",
         "hidden": false,
         "locked": false
        },
        {
         "code": ">>> LAST_NAME != \"\"\nTrue",
         "hidden": false,
         "locked": false
        },
        {
         "code": ">>> NYU_NET_ID != \"\"\nTrue",
         "hidden": false,
         "locked": false
        },
        {
         "code": ">>> not NYU_NET_ID.startswith(\"N\")\nTrue",
         "hidden": false,
         "locked": false
        }
       ],
       "scored": true,
       "setup": "",
       "teardown": "",
       "type": "doctest"
      }
     ]
    },
    "q1.1": {
     "name": "q1.1",
     "points": 10,
     "suites": [
      {
       "cases": [
        {
         "code": ">>> (type(solution_q1_1) == float or type(solution_q1_1) == int) and (0 <= solution_q1_1 and solution_q1_1 <= 1)\nTrue",
         "failure_message": "Your solution should be either a fraction or a decimal, and must not be enclosed in quotation marks. It should be between 0 and 1, since it is a probability.",
         "hidden": false,
         "locked": false,
         "success_message": "You have entered your solution in the correct format. Whether it is the right solution will be checked after you submit."
        }
       ],
       "scored": true,
       "setup": "",
       "teardown": "",
       "type": "doctest"
      }
     ]
    },
    "q1.2": {
     "name": "q1.2",
     "points": 10,
     "suites": [
      {
       "cases": [
        {
         "code": ">>> (type(solution_q1_2) == float or type(solution_q1_2) == int) and (0 <= solution_q1_2 and solution_q1_2 <= 1)\nTrue",
         "failure_message": "Your solution should be either a fraction or a decimal, and must not be enclosed in quotation marks. It should be between 0 and 1, since it is a probability.",
         "hidden": false,
         "locked": false,
         "success_message": "You have entered your solution in the correct format. Whether it is the right solution will be checked after you submit."
        }
       ],
       "scored": true,
       "setup": "",
       "teardown": "",
       "type": "doctest"
      }
     ]
    },
    "q2.1": {
     "name": "q2.1",
     "points": 10,
     "suites": [
      {
       "cases": [
        {
         "code": ">>> obj=solution_2_1\n>>> bool(obj) and all(isinstance(elem, str) for elem in obj)\nTrue",
         "failure_message": "It doesn't appear your solution is a list of strings. Make sure your word choices are correct based on the instructions.",
         "hidden": false,
         "locked": false,
         "success_message": "Your solution successfully finds a list of strings of document names. Whether or not these values are CORRECT will be checked after you submit."
        }
       ],
       "scored": true,
       "setup": "",
       "teardown": "",
       "type": "doctest"
      }
     ]
    },
    "q2.2": {
     "name": "q2.2",
     "points": 10,
     "suites": [
      {
       "cases": [
        {
         "code": ">>> obj=solution_2_2\n>>> bool(obj) and all(isinstance(elem, str) for elem in obj)\nTrue",
         "failure_message": "It doesn't appear your solution is a list of strings. Make sure your word choices are correct based on the instructions.",
         "hidden": false,
         "locked": false,
         "success_message": "Your solution successfully finds a list of strings of document names. Whether or not these values are CORRECT will be checked after you submit."
        }
       ],
       "scored": true,
       "setup": "",
       "teardown": "",
       "type": "doctest"
      }
     ]
    },
    "q2.3": {
     "name": "q2.3",
     "points": 10,
     "suites": [
      {
       "cases": [
        {
         "code": ">>> obj=solution_2_3\n>>> bool(obj) and all(isinstance(elem, str) for elem in obj)\nTrue",
         "failure_message": "It doesn't appear your solution is a list of strings. Make sure your word choices are correct based on the instructions.",
         "hidden": false,
         "locked": false,
         "success_message": "Your solution successfully finds a list of strings of document names. Whether or not these values are CORRECT will be checked after you submit."
        }
       ],
       "scored": true,
       "setup": "",
       "teardown": "",
       "type": "doctest"
      }
     ]
    },
    "q3.1": {
     "name": "q3.1",
     "points": 10,
     "suites": [
      {
       "cases": [
        {
         "code": ">>> type(solution_3_1)==float\nTrue",
         "failure_message": "Your solution should be a decimal, and must not be enclosed in quotation marks.",
         "hidden": false,
         "locked": false,
         "success_message": "You have entered your solution in the correct format. Whether it is the right solution will be checked after you submit."
        }
       ],
       "scored": true,
       "setup": "",
       "teardown": "",
       "type": "doctest"
      }
     ]
    },
    "q3.2": {
     "name": "q3.2",
     "points": 10,
     "suites": [
      {
       "cases": [
        {
         "code": ">>> type(solution_3_2)==float\nTrue",
         "failure_message": "Your solution should be a decimal, and must not be enclosed in quotation marks.",
         "hidden": false,
         "locked": false,
         "success_message": "You have entered your solution in the correct format. Whether it is the right solution will be checked after you submit."
        }
       ],
       "scored": true,
       "setup": "",
       "teardown": "",
       "type": "doctest"
      }
     ]
    }
   }
  }
 },
 "nbformat": 4,
 "nbformat_minor": 4
}
