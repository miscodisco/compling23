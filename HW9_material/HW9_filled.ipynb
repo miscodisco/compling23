{
 "cells": [
  {
   "cell_type": "markdown",
   "metadata": {
    "id": "v1eQNsYJgFu8"
   },
   "source": [
    "# HW9 part 1: Spell checking and edit distances\n",
    "\n",
    "Written by Lucas Champollion - Based in part on questions by Kushal Chattopadhyay\n",
    "\n",
    "Modified by Mia Jacobsen"
   ]
  },
  {
   "cell_type": "markdown",
   "metadata": {},
   "source": [
    "**----------NB-----------** <br>\n",
    "*if you are working on ucloud make sure you duplicate this file and work in the duplicate instead - otherwise you might not be able to save your work* <br>\n",
    "**----------NB-----------**"
   ]
  },
  {
   "cell_type": "markdown",
   "metadata": {
    "id": "mIt4tmkEgFu9"
   },
   "source": [
    "At the end of this lesson, you will be able to:\n",
    "\n",
    "\n",
    "- Calculate conditional probabilities using tree-drawing methods and Bayes' rule\n",
    "- Look up frequencies of English words in the Corpus of Contemporary American English\n",
    "- Use these frequencies to estimate unigram probabilities of English words within an isolated-word spell checker\n",
    "- Look up frequencies of English letter-based typos\n",
    "- Look up frequencies of English word-based bigrams on Google\n",
    "- Combine these frequencies to estimate the most likely correction of a typo within a context-dependent spell checker\n",
    "- Calculate edit distances for strings and change the weights associated with various types of edit operations\n"
   ]
  },
  {
   "cell_type": "markdown",
   "metadata": {
    "id": "4bajp4ANgFu_"
   },
   "source": [
    "# 1. Probability quiz\n",
    "\n"
   ]
  },
  {
   "cell_type": "markdown",
   "metadata": {
    "id": "S4ZiiL2mgFu_"
   },
   "source": [
    "Answer the questions below. They are a bit more involved than in previous assignments. Feel free to use a sheet of paper to write out the formulas and probabilities - I highly suggest this actually."
   ]
  },
  {
   "cell_type": "markdown",
   "metadata": {
    "id": "0HTiWM3RgFu_"
   },
   "source": [
    "If you are familiar with Google Sheets or Excel, this is a good opportunity to use it."
   ]
  },
  {
   "cell_type": "markdown",
   "metadata": {
    "id": "x0MCtdQfgFu_"
   },
   "source": [
    "**Question 1.1** Bob, as he is prone to do, walks into a dark room with a bag in his hands that contains two coins. On this particular day, both coins are biased but in different directions. Coin A comes up heads 30% of the time. Coin B comes up heads 90% of the time. Bob reaches into his bag and picks a coin at random (so, he has a 50% chance of picking either coin). He throws it and it lands on heads. \n",
    "\n",
    "What is the probability that the coin he picked is coin A? Give the result either as a fraction, or as a decimal number (you may round for the first two digits).\n",
    "\n",
    "$P(\\text{coin A } | \\text{ heads}) = x$\n",
    "\n",
    "\n",
    "**Hint**: You can solve this question either by drawing balanced trees or by applying Bayes' theorem, or both (this can help you make the connection and prepare you for the subsequent questions). \n",
    "\n",
    "Bayes' theorem (A's and B' do not correspond to coins here, this is the generic version): \n",
    "\n",
    "$$ P(A|B) = \\frac{P(B|A) \\times P(A)}{P(B)}$$\n",
    "\n",
    "If you decide to apply Bayes' theorem, you'll need to know $P(\\text{heads})$, the probability that a randomly chosen coin lands on heads. (This is called the _prior_.) Either coin might land on heads. You can calculate the prior by conditioning on whether Bob has picked coin A or coin B, like this:\n",
    "\n",
    "$P(\\text{heads})=[P(\\text{heads}|\\text{coin A}) \\times P(\\text{coin A})] + [P(\\text{heads}|\\text{coin B}) \\times P(\\text{coin B})]$\n",
    "\n",
    "This is called marginalization. It's essentially the same as balancing a tree.\n"
   ]
  },
  {
   "cell_type": "code",
   "execution_count": null,
   "metadata": {
    "id": "R8nBR-4xgFvA",
    "tags": []
   },
   "outputs": [],
   "source": [
    "solution_q1_1 = ..."
   ]
  },
  {
   "cell_type": "markdown",
   "metadata": {
    "id": "yc1rkFDRgFvA"
   },
   "source": [
    "**Question 1.2** You live in a community within which one out of ten people is infected with the coronavirus at a given point in time (as was the case for people living in New York City at the beginning of the pandemic in Spring 2020). To make things simpler, pretend that the virus occurs randomly across the general population.\n",
    "\n",
    "$P(\\text{virus}) = 0.1$ (This is called the _prevalence_ of the disease.)\n",
    "\n",
    "You decide to get tested using a coronavirus test that has the following properties: "
   ]
  },
  {
   "cell_type": "markdown",
   "metadata": {
    "id": "q-Z-zuBRgFvA"
   },
   "source": [
    "- Out of any 100 people in your community who are infected with the virus and who take this test, 70 receive a positive test result; that is, the test correctly detects the virus. The remaining 30 are given a false negative test result, that is, they are told they don't have the virus even though they really do. \n",
    "\n",
    "$P(\\text{positive test}|\\text{virus}) = 0.7$ (This is called the _sensitivity_ of the test.)"
   ]
  },
  {
   "cell_type": "markdown",
   "metadata": {
    "id": "97zcWnmYgFvA"
   },
   "source": [
    "- Out of any 100 people in your community who are not infected with the virus and who take this test, 99 receive a negative test result; that is, the test correctly detects the absence of the virus. The remaining person is given a false positive test result, that is, this person is told they have the virus even though they really don't. \n",
    "\n",
    "$P(\\text{negative test}|\\text{no virus}) = 0.99$ (This is called the _specificity_ of the test.)"
   ]
  },
  {
   "cell_type": "markdown",
   "metadata": {
    "id": "L4DAtPY3gFvA"
   },
   "source": [
    "The coronavirus test comes back negative. What is the probability that you don't have the virus, given this result?\n",
    "\n",
    "$P(\\text{no virus}|\\text{negative test}) = x$ (This is called the _posterior probability_.)"
   ]
  },
  {
   "cell_type": "markdown",
   "metadata": {
    "id": "tKAOe-WlgFvB"
   },
   "source": [
    "**Hint 1**: Drawing trees for this question isn't practical because the trees get very large, so you'll want to apply Bayes' theorem:\n",
    "\n",
    "$$ P(A|B) = \\frac{P(B|A) \\times P(A)}{P(B)}$$\n",
    "\n",
    "This will require you to derive various probabilities from those given above."
   ]
  },
  {
   "cell_type": "markdown",
   "metadata": {
    "id": "oPMgt8dNgFvB"
   },
   "source": [
    "**Hint 2**: When you have two events that between them cover the entire space of possibilities (e.g. heads/tails, virus/no virus, positive/negative test), their probabilities always add up to 1. E.g. $P(\\text{no virus}) + P(\\text{virus}) = 1$. So you can get either probability by subtracting the other one from 1. This is also true for conditional probabilities when the two events in question are on the left of the line and there is the same event on the right of the line: e.g. $P(\\text{negative test}|\\text{virus}) + P(\\text{positive test}|\\text{virus}) = 1$. It doesn't work on the right of the line though: in our example, $P(\\text{negative test}|\\text{virus}) + P(\\text{negative test}|\\text{no virus}) = 0.3 + 0.99 = 1.29$ which is different from 1."
   ]
  },
  {
   "cell_type": "markdown",
   "metadata": {
    "id": "yHjfcT0vgFvB"
   },
   "source": [
    "**Hint 3**: To apply Bayes' theorem, you'll also need to know $P(\\text{negative test})$, the probability that a randomly chosen person tests negative regardless of whether they have the virus. (This is called the _prior_.) Someone might test negative either because they really don't have the virus, or because they do but the test doesn't work. So we can calculate the prior by conditioning on whether the person has the virus or not, i.e. by doing marginalization, like this:\n",
    "\n",
    "$P(\\text{negative test})=[P(\\text{negative test}|\\text{virus}) \\times P(\\text{virus})] + [P(\\text{negative test}|\\text{no virus}) \\times P(\\text{no virus})]$\n",
    "\n",
    "As in the previous question, marginalization is essentially the same as balancing a tree."
   ]
  },
  {
   "cell_type": "markdown",
   "metadata": {
    "id": "04hKhO0AgFvB"
   },
   "source": [
    "**Background on this question:** In real life, the precise sensitivity and specificity of coronavirus tests depends on many factors, but the specificity will be typically higher than the sensitivity. In any case, these numbers vary a lot depending on the kind of test (with PCR tests being more accurate than antigen tests), and on when and how the sample is taken. We ignore all of this here. If you're curious, see this New York Times article [\"How to Think Like an Epidemiologist - Don’t worry, a little Bayesian analysis won’t hurt you.\"](https://www.nytimes.com/2020/08/04/science/coronavirus-bayes-statistics-math.html) and [this Harvard Health blog post](https://www.health.harvard.edu/blog/which-test-is-best-for-covid-19-2020081020734) for more information.\n",
    "\n"
   ]
  },
  {
   "cell_type": "code",
   "execution_count": null,
   "metadata": {
    "id": "00DMqIccgFvB",
    "tags": []
   },
   "outputs": [],
   "source": [
    "solution_q1_2 = ..."
   ]
  },
  {
   "cell_type": "markdown",
   "metadata": {
    "id": "MjBc15pogFvB"
   },
   "source": [
    "**Question 1.3** Bob is working on a book of Existentialist poetry and has hired you as his secretary to correct his spelling. Bob is not around, so you need to make decisions without checking with him. (You are working essentially in the same way as an autocorrect system.) Bob's writing looks a bit strange to you, almost as if he was picking each word out of a bag at random. His spelling, unfortunately, is absolutely terrible. One of his favorite words is \"exist\". "
   ]
  },
  {
   "cell_type": "markdown",
   "metadata": {
    "id": "sQzwsJjQgFvC"
   },
   "source": [
    "You come across a typo in Bob's writing: \"exitt\". Unfortunately the context doesn't make it clear what he means. You surmise that this could be a typo either for \"exist\" or for \"exit\". (To make things simpler, we'll assume that these are the only two things he could have intended to type.) But which one?"
   ]
  },
  {
   "cell_type": "markdown",
   "metadata": {
    "id": "kca7jCfqgFvC"
   },
   "source": [
    "On the one hand, Bob is an Existentialist and he likes to talk about existence. So he is much more likely to have intended \"exist\" than \"exit\", say three times as likely:\n",
    "\n",
    "$P(\\text{Bob intends \"exist\"}) = 3/4$\n",
    "\n",
    "$P(\\text{Bob intends \"exit\"}) = 1/4$"
   ]
  },
  {
   "cell_type": "markdown",
   "metadata": {
    "id": "aReo6P86gFvC"
   },
   "source": [
    "On the other hand, \"s\" and \"t\" are not really close to each other on Bob's keyboard, and you know that the \"t\" on his keyboard sometimes sticks because of an old piece of gum. Since he writes \"exist\" so often, you have a good idea of how often he mistypes it as \"exitt\" . You count the number of times in the past that he intended to type \"exist\" but mistyped it as \"exitt\" and you find that it's about 10% of the time. That is to say, on average, if Bob tries to type the word \"exist\" on 100 separate occasions, he will mistype it as \"exitt\" on ten of these occasions. So you estimate that given that he intended to type \"exist\", the probability that he types \"exitt\" is 10%: \n",
    "\n",
    "$P(\\text{Bob types \"exitt\"|Bob intends \"exist\"}) = 1/10$"
   ]
  },
  {
   "cell_type": "markdown",
   "metadata": {
    "id": "rH7F63BKgFvC"
   },
   "source": [
    "On the third hand :), suppose that Bob intended to type \"exit\". Given this, how likely is it that he would have typed \"exitt\" by mistake? You think of the piece of gum underneath Bob's \"t\" key and you estimate about 20%:\n",
    "\n",
    "$P(\\text{Bob types \"exitt\"|Bob intends \"exit\"}) = 1/5$"
   ]
  },
  {
   "cell_type": "markdown",
   "metadata": {
    "id": "3undZmxGgFvC"
   },
   "source": [
    "Of course, you don't actually know whether Bob intended to write \"exist\" or \"exit\". That's what you want to know, since you need to correct his spelling. Based on your assumptions so far, given that Bob wrote \"exitt\", what is the probability that he meant to write \"exist\"? (This is called the _posterior probability_.)\n",
    "\n",
    "$P(\\text{Bob intends \"exist\"|Bob types \"exitt\"}) = x$"
   ]
  },
  {
   "cell_type": "markdown",
   "metadata": {
    "id": "Eaj9YNktgFvC"
   },
   "source": [
    "**Hint**: You can solve this problem either via balanced trees or via Bayes' rule. If you use trees, note that the two words correspond to the two coins, but that Bob doesn't pick among them with equal probability. So you'll want to balance already the first level of the tree and not just the second. If you use Bayes' theorem, you'll want to calculate $P(\\text{Bob types \"exitt\"})$ (this is called the _prior probability_) via marginalization as in the previous questions. "
   ]
  },
  {
   "cell_type": "code",
   "execution_count": null,
   "metadata": {
    "id": "pWjA2h7igFvC",
    "tags": []
   },
   "outputs": [],
   "source": [
    "solution_q1_3 = ..."
   ]
  },
  {
   "cell_type": "markdown",
   "metadata": {
    "id": "ZxK4ZkEIgFvD"
   },
   "source": [
    "# 2. Spell check: Isolated-word error correction\n",
    "\n",
    "Based on a question by Kushal Chattopadhyay"
   ]
  },
  {
   "cell_type": "markdown",
   "metadata": {
    "id": "EqvgI05fgFvD"
   },
   "source": [
    "An automatic spelling corrector detects the string \"poice\" as a typo in a document which contains the following sentence:\n",
    "\n",
    "*The woman’s melodious poice led her to a life of fame as a singer.*\n",
    "\n",
    "This exercises retraces the steps of the spelling corrector as it fixes this typo."
   ]
  },
  {
   "cell_type": "markdown",
   "metadata": {
    "id": "Ezbi-mJBgFvD"
   },
   "source": [
    "**Question 2.1** Create a table including four hypothesized correct words (i.e. candidates for what the user might have intended to type).  <br> For this exercise, we will assume that these hypothesized correct words are \"voice\", \"police\", \"poise\", and \"price\". The answer of this question will consist of four lists of four strings each. Each list is a row, and each list item is a cell. The first list is already filled out for you as an example. The list items should be the following from left to right in each list:\n",
    "\n",
    "1. First: the required fix, \"insertion\", \"deletion\", or \"substitution\". What modifications would we need to make to the misspelled word to turn it into the correct spelling? \n",
    "- If the mistyped string (\"poice\") and the intended string have the same length, the required fix is a \"substitution\". E.g. if someone  means to type \"acquire\" but writes \"akquire\", that calls for a substitution.\n",
    "- If the mistyped string (\"poice\") is shorter than the string that was intended, the required fix is an \"insertion\". E.g. if someone means to type \"acquire\" but writes \"aquire\", that calls for an insertion. \n",
    "- If the mistyped string (\"poice\") is longer than the string that was intended, the required fix is a \"deletion\". E.g. if someone means to type \"acquire\" but writes \"ackquire\", that calls for a deletion. \n",
    "\n",
    "\n",
    "2. Second: the hypothesized correct word, i.e. what the user might have meant to type. This is one of the strings \"voice\", \"police\", \"poise\", and \"price\".\n",
    "\n",
    "\n",
    "3. Third: the mistyped portion of the input, given what the user might have meant to type. \n",
    "- If the required fix is a substitution, give the letter that has actually been typed. E.g. if \"acquire\" was mistyped as \"akquire\", this is \"k\".\n",
    "- If the required fix is an insertion, give the letter immediately *before* the letter that would need to be inserted to fix the typo. E.g. if someone mistypes \"acquire\" as \"aquire\", this is \"a\". \n",
    "- If the required fix is a deletion, give a sequence of two letters: the letter just before the deletion, and the letter that would need to be deleted to fix the typo. E.g. if someone mistypes \"acquire\" as \"ackquire\", this is \"ck\".\n",
    "\n",
    "4. Fourth: the intended portion of the input.\n",
    "- If the required fix is a substitution, give the letter that was intended. E.g. if \"acquire\" was mistyped as \"akquire\", this is \"c\".  \n",
    "- If the required fix is an insertion, give a sequence of two letters consisting of the letter immediately *before* the letter that would need to be inserted to fix the typo, followed by that letter. E.g. if someone mistypes \"acquire\" as \"aquire\", this is \"ac\". \n",
    "- If the required fix is a deletion, give the letter immediately *before* the letter that would need to be deleted to fix the typo. E.g. if someone mistypes \"acquire\" as \"ackquire\", this is \"c\".\n",
    "\n",
    "\n",
    "You can check how your table looks in the test cell. \n",
    "\n",
    "First run the following cell so that the table can be created properly. Then fill in the rows. Each row comes with a test that checks that you used the right format. Finally, run the cell below the checks to generate the table in a nice format.\n",
    "\n",
    "Remember that the example sentence is:\n",
    "\n",
    "*The woman’s melodious poice led her to a life of fame as a singer.*"
   ]
  },
  {
   "cell_type": "code",
   "execution_count": null,
   "metadata": {
    "id": "g5ldMblDgFvE"
   },
   "outputs": [],
   "source": [
    "correctionTable_voice = [\"substitution\", \"voice\", \"p\", \"v\"] # This row has been filled out for you."
   ]
  },
  {
   "cell_type": "code",
   "execution_count": null,
   "metadata": {
    "id": "sXh7xivigFvE",
    "tags": []
   },
   "outputs": [],
   "source": [
    "correctionTable_police = ..."
   ]
  },
  {
   "cell_type": "code",
   "execution_count": null,
   "metadata": {
    "id": "5Rw7-XgJgFvE",
    "tags": []
   },
   "outputs": [],
   "source": [
    "correctionTable_poise = ..."
   ]
  },
  {
   "cell_type": "code",
   "execution_count": null,
   "metadata": {
    "id": "Xs3sCNfigFvE",
    "tags": []
   },
   "outputs": [],
   "source": [
    "correctionTable_price = ..."
   ]
  },
  {
   "cell_type": "code",
   "execution_count": null,
   "metadata": {
    "id": "K0DbiijvgFvE"
   },
   "outputs": [],
   "source": [
    "# Check out how your table looks!\n",
    "# NB you may need to !pip install pandas and/or numpy \n",
    "import pandas as pd\n",
    "import numpy as np\n",
    "correctionTable = pd.DataFrame(np.array([correctionTable_voice,\n",
    "                                         correctionTable_police,\n",
    "                                         correctionTable_poise,\n",
    "                                         correctionTable_price]), \n",
    "                               columns=[\"type of required fix\",\n",
    "                                        \"hypothesized correct word\", \n",
    "                                        \"mistyped\", \n",
    "                                        \"intended\"])\n",
    "correctionTable"
   ]
  },
  {
   "cell_type": "markdown",
   "metadata": {
    "id": "hUvtuvPbgFvE"
   },
   "source": [
    "#### Code Explanation\n",
    "_The following explanation refers to the above code block._\n",
    "\n",
    "Using a library called `pandas`, the above segment of code takes the `correctionTable_` lists above and organizes them into a neatly labeled table! The column headers from from the `column=[...]` section of the code. The `np` code is related to a library called `numpy`, which helps make a lot of list operations easier and faster with Python."
   ]
  },
  {
   "cell_type": "markdown",
   "metadata": {
    "id": "99lu5vLQgFvE"
   },
   "source": [
    "**Question 2.2 (5 points)** Next, let's guess which of these three hypothesized correct words is most likely the intended one, based on how common each of the possible corrections are in the English vocabulary. To this end, we'll use a corpus (a large and structured collection of texts; the plural of \"corpus\" is \"corpora\")."
   ]
  },
  {
   "cell_type": "markdown",
   "metadata": {
    "id": "KxD_6aPKgFvE"
   },
   "source": [
    "You will use the Corpus of Contemporary American English (COCA) to calculate the frequencies of each of your words. COCA describes itself as \"the only large, genre-balanced corpus of American English. COCA is probably the most widely-used corpus of English, and it is related to many other corpora of English that we have created, which offer unparalleled insight into variation in English. The corpus contains more than one billion words of text (25+ million words each year 1990-2019) from eight genres: spoken, fiction, popular magazines, newspapers, academic texts, and (with the update in March 2020): TV and Movies subtitles, blogs, and other web pages.\" "
   ]
  },
  {
   "cell_type": "markdown",
   "metadata": {
    "id": "VGa_NKCNgFvF"
   },
   "source": [
    "To access COCA, go to [https://www.english-corpora.org/coca/](https://www.english-corpora.org/coca/) and select \"Corpus of Contemporary American English (COCA)\". When you access COCA the first time, you will need to register, which is free. x"
   ]
  },
  {
   "cell_type": "markdown",
   "metadata": {
    "id": "Ex7r3ApqgFvF"
   },
   "source": [
    "1. To find the frequency of a word, type it into the COCA search box and click \"Find matching strings\", then look under \"FREQ\". For example, the word \"voice\" has a frequency of 156,861."
   ]
  },
  {
   "cell_type": "markdown",
   "metadata": {
    "id": "Roz1sVpdgFvF"
   },
   "source": [
    "2. To estimate the probability of a word, you need its frequency and the total number of words in the corpus. As of the time of writing, the number of total words in COCA is 1,001,610,938, about one billion. Use this number in this assignment. (For reference, we have looked this up by clicking on the page icon in the top row whose tooltip is ’See texts and registers’ and looking at the rightmost cell in the top row of the table there.)."
   ]
  },
  {
   "cell_type": "markdown",
   "metadata": {
    "id": "urbkjk-6gFvF"
   },
   "source": [
    "3. For each word, estimate its unigram probability by dividing its frequency by the total number of words in the corpus. Since the resulting values are very small, scale them by multiplying them by one thousand (1,000), then round the result to three decimals. For example, the word \"voice\" has an estimated probability of ${156,861\\over1,001,610,938}= 0.000156608$. This number multiplied by one thousand, rounded to three decimals, is 0.157. As long as you do this scaling consistently for every word, this will not affect the result of the upcoming computations."
   ]
  },
  {
   "cell_type": "markdown",
   "metadata": {
    "id": "BgSByCxegFvF"
   },
   "source": [
    "Create a table of probabilities $P(intended)$. The columns of this table should be: \n",
    "\n",
    "1. hypothesized correct word\n",
    "2. frequency of hypothesized correct word\n",
    "3. P(hypothesized correct word). \n",
    "\n",
    "Generate your table in a nice format by running the code below the following cell and its check.\n",
    "\n",
    "Remember that the example sentence is:\n",
    "\n",
    "*The woman’s melodious poice led her to a life of fame as a singer.*"
   ]
  },
  {
   "cell_type": "code",
   "execution_count": null,
   "metadata": {
    "id": "Xq79Pt3fgFvF",
    "tags": []
   },
   "outputs": [],
   "source": [
    "probabilityTable_voice = [\"voice\", 156861, 0.157]\n",
    "probabilityTable_police = ...\n",
    "probabilityTable_poise = ...\n",
    "probabilityTable_price = ..."
   ]
  },
  {
   "cell_type": "code",
   "execution_count": null,
   "metadata": {
    "id": "R9n2nv1kgFvF"
   },
   "outputs": [],
   "source": [
    "# Check out how your table looks!\n",
    "\n",
    "probabilityTable = pd.DataFrame(np.array([probabilityTable_voice,\n",
    "                                          probabilityTable_police,\n",
    "                                          probabilityTable_poise,\n",
    "                                          probabilityTable_price]), \n",
    "                                columns=[\"intended word\", \n",
    "                                         \"frequency of this word\", \n",
    "                                         \"scaled unigram probability of this word\"])\n",
    "probabilityTable"
   ]
  },
  {
   "cell_type": "markdown",
   "metadata": {
    "deletable": false,
    "editable": false,
    "id": "CZ7uv7DdgFvF"
   },
   "source": [
    "<!-- BEGIN QUESTION -->\n",
    "\n",
    "**Question 2.3** If you were to base your decision solely on these unigram probabilities, which of your hypothesized correct words would come out as most likely to be correct? That is to say, which of them has the highest value in the rightmost column? Did this match what you expect to be the most likely intended word? If so, why do you think this approach works? If not, why do you think the guess failed?"
   ]
  },
  {
   "cell_type": "markdown",
   "metadata": {
    "id": "GPBW2wzNgFvG"
   },
   "source": [
    "_Type your answer here, replacing this text._"
   ]
  },
  {
   "cell_type": "markdown",
   "metadata": {
    "id": "kHu8x7DngFvG"
   },
   "source": [
    "<!-- END QUESTION -->\n",
    "\n",
    "**Question 2.4** Now, we will refine our guess by adding in how common each incorrect letter error is. Create a table for the noisy channel probabilities of the possible corrections. \n",
    "\n",
    "To calculate the error model probabilities, use the table at http://norvig.com/ngrams/count_1edit.txt, which is derived by Peter Norvig from the Google Web Trillion Word Corpus. You can search through the table by using your browser's search function (usually Cmd-F on Mac and Ctrl-F on Windows and Unix). Here is how to read this table:\n",
    "\n",
    "- An entry like \"e|i\t917\" means that 917 times in the corpus, there was a typo in which the letter \"e\" was mistyped (seen) where the letter \"i\" would have been intended (correct). \n",
    "- An entry like \"t|te\t478\" stands for a typo in which the letter \"e\" should have been typed after the letter \"t\" but was left out by the user, and says that this happened 478 times. \n",
    "- An entry like \"re|r\t299\" stands for a typo in which a superfluous letter \"e\" was inserted after \"r\" by the user, and says that this happened 299 times. \n",
    "\n",
    "This is the same format as you used in the \"mistyped\" and \"intended\" columns in Question 2.2 above."
   ]
  },
  {
   "cell_type": "markdown",
   "metadata": {
    "id": "L-T34Jj1gFvG"
   },
   "source": [
    "As a quick-and-dirty way to estimate probabilities, take each of these numbers and divide it by 1000. This number is chosen somewhat arbitrarily; as before, it doesn't matter for the computations to follow, as long as it is applied consistently. If a specific transition doesn't occur in Norvig's file, assume that it has happened exactly once (so divide 1 by 1000). This is called \"smoothing\"."
   ]
  },
  {
   "cell_type": "markdown",
   "metadata": {
    "id": "NXIyPYn5gFvG"
   },
   "source": [
    "Create a table of error model probabilities $P(\\text{mistyped letter}|\\text{correct letter})$. The columns of this table should be: \n",
    "\n",
    "1. hypothesized correct word\n",
    "\n",
    "2. a string of the form \"letter|intended\" (from Peter Norvig's data)\n",
    "\n",
    "3. Frequency of this letter typo (estimated from Peter Norvig's data as described above)\n",
    "\n",
    "4. Scaled unigram probability of this word (copied from question 2.2 above)\n",
    "\n",
    "5. the result of multiplying the last two columns\n",
    "\n",
    "As before, generate your table in a nice format by running the code below the check. \n",
    "\n",
    "Remember that the example sentence is:\n",
    "\n",
    "*The woman’s melodious poice led her to a life of fame as a singer.*"
   ]
  },
  {
   "cell_type": "code",
   "execution_count": null,
   "metadata": {
    "id": "4k22xh2-gFvG",
    "tags": []
   },
   "outputs": [],
   "source": [
    "noisyChannelTable_voice = [\"voice\",  \"p|v\", 0.001, 0.157, 0.001*0.157]\n",
    "noisyChannelTable_police = ...\n",
    "noisyChannelTable_poise = ...\n",
    "noisyChannelTable_price = ..."
   ]
  },
  {
   "cell_type": "code",
   "execution_count": null,
   "metadata": {
    "id": "VNkFgx9XgFvG"
   },
   "outputs": [],
   "source": [
    "# Check out how your table looks!\n",
    "\n",
    "noisyChannelTable = pd.DataFrame(np.array([noisyChannelTable_voice,\n",
    "                                           noisyChannelTable_police,\n",
    "                                           noisyChannelTable_poise,\n",
    "                                           noisyChannelTable_price]), \n",
    "                                 columns=[\"hypothesized correct word\", \n",
    "                                          \"mistyped letter | intended letter\",\n",
    "                                          \"Frequency of this letter typo\",\n",
    "                                          \"Scaled unigram probability of this word\", \n",
    "                                          \"Multiplying the last two columns\"])\n",
    "noisyChannelTable"
   ]
  },
  {
   "cell_type": "markdown",
   "metadata": {
    "deletable": false,
    "editable": false,
    "id": "gylAUOCJgFvG"
   },
   "source": [
    "<!-- BEGIN QUESTION -->\n",
    "\n",
    "**Question 2.5** Which word did you find had the highest noisy channel probability on this approach? That is to say, which one has the highest value in the rightmost column? Did this match your expectations? If so, why do you think this approach works? If not, why do you think the guess failed? What does this tell you about the limits of isolated-word error correction?\n"
   ]
  },
  {
   "cell_type": "markdown",
   "metadata": {
    "id": "e2WM5CU8gFvK"
   },
   "source": [
    "_Type your answer here, replacing this text._"
   ]
  }
 ],
 "metadata": {
  "colab": {
   "provenance": []
  },
  "kernelspec": {
   "display_name": "Python 3 (ipykernel)",
   "language": "python",
   "name": "python3"
  },
  "language_info": {
   "codemirror_mode": {
    "name": "ipython",
    "version": 3
   },
   "file_extension": ".py",
   "mimetype": "text/x-python",
   "name": "python",
   "nbconvert_exporter": "python",
   "pygments_lexer": "ipython3",
   "version": "3.9.9"
  },
  "otter": {
   "tests": {
    "q0.name-and-netID": {
     "name": "q0.name-and-netID",
     "points": 0,
     "suites": [
      {
       "cases": [
        {
         "code": ">>> type(FIRST_NAME) == str\nTrue",
         "hidden": false,
         "locked": false
        },
        {
         "code": ">>> type(LAST_NAME) == str\nTrue",
         "hidden": false,
         "locked": false
        },
        {
         "code": ">>> type(NYU_NET_ID) == str\nTrue",
         "hidden": false,
         "locked": false
        },
        {
         "code": ">>> FIRST_NAME != \"\"\nTrue",
         "hidden": false,
         "locked": false
        },
        {
         "code": ">>> LAST_NAME != \"\"\nTrue",
         "hidden": false,
         "locked": false
        },
        {
         "code": ">>> NYU_NET_ID != \"\"\nTrue",
         "hidden": false,
         "locked": false
        },
        {
         "code": ">>> not NYU_NET_ID.startswith(\"N\")\nTrue",
         "hidden": false,
         "locked": false
        }
       ],
       "scored": true,
       "setup": "",
       "teardown": "",
       "type": "doctest"
      }
     ]
    },
    "q1.1": {
     "name": "q1.1",
     "points": 5,
     "suites": [
      {
       "cases": [
        {
         "code": ">>> (type(solution_q1_1) == float or type(solution_q1_1) == int) and (0 <= solution_q1_1 and solution_q1_1 <= 1)\nTrue",
         "failure_message": "Your solution should be either a fraction or a decimal, and must not be enclosed in quotation marks. It should be between 0 and 1, since it is a probability.",
         "hidden": false,
         "locked": false,
         "success_message": "You have entered your solution in the correct format. Whether it is the right solution will be checked after you submit."
        }
       ],
       "scored": true,
       "setup": "",
       "teardown": "",
       "type": "doctest"
      }
     ]
    },
    "q1.2": {
     "name": "q1.2",
     "points": 10,
     "suites": [
      {
       "cases": [
        {
         "code": ">>> (type(solution_q1_2) == float or type(solution_q1_2) == int) and (0 <= solution_q1_2 and solution_q1_2 <= 1)\nTrue",
         "failure_message": "Your solution should be either a fraction or a decimal, and must not be enclosed in quotation marks. It should be between 0 and 1, since it is a probability.",
         "hidden": false,
         "locked": false,
         "success_message": "You have entered your solution in the correct format. Whether it is the right solution will be checked after you submit."
        }
       ],
       "scored": true,
       "setup": "",
       "teardown": "",
       "type": "doctest"
      }
     ]
    },
    "q1.3": {
     "name": "q1.3",
     "points": 10,
     "suites": [
      {
       "cases": [
        {
         "code": ">>> (type(solution_q1_3) == float or type(solution_q1_3) == int) and (0 <= solution_q1_3 and solution_q1_3 <= 1)\nTrue",
         "failure_message": "Your solution should be either a fraction or a decimal, and must not be enclosed in quotation marks. It should be between 0 and 1, since it is a probability.",
         "hidden": false,
         "locked": false,
         "success_message": "You have entered your solution in the correct format. Whether it is the right solution will be checked after you submit."
        }
       ],
       "scored": true,
       "setup": "",
       "teardown": "",
       "type": "doctest"
      }
     ]
    },
    "q1.4": {
     "name": "q1.4",
     "points": 5,
     "suites": [
      {
       "cases": [
        {
         "code": ">>> (type(solution_q1_4) == float or type(solution_q1_4) == int) and (0 <= solution_q1_4 and solution_q1_4 <= 1)\nTrue",
         "failure_message": "Your solution should be either a fraction or a decimal, and must not be enclosed in quotation marks. It should be between 0 and 1, since it is a probability.",
         "hidden": false,
         "locked": false,
         "success_message": "You have entered your solution in the correct format. Whether it is the right solution will be checked after you submit."
        }
       ],
       "scored": true,
       "setup": "",
       "teardown": "",
       "type": "doctest"
      }
     ]
    },
    "q1.5": {
     "name": "q1.5",
     "points": 5,
     "suites": [
      {
       "cases": [
        {
         "code": ">>> solution_q1_5==\"exist\" or solution_q1_5==\"exit\"\nTrue",
         "failure_message": "Your answer should consist of either the word \"exist\" or the word \"exit\", in quotation marks.",
         "hidden": false,
         "locked": false,
         "success_message": "Your solution is one of \"exist\" and \"exit\", as it should be. Whether it is the right solution will be checked after you submit."
        }
       ],
       "scored": true,
       "setup": "",
       "teardown": "",
       "type": "doctest"
      }
     ]
    },
    "q2.1.1": {
     "name": "q2.1.1",
     "points": 2,
     "suites": [
      {
       "cases": [
        {
         "code": ">>> current = correctionTable_police\n>>> len(current) == 4 and (current[0] == \"insertion\" or current[0] == \"deletion\" or current[0] == \"substitution\") \\\n... and (current[1] == \"police\" or current[1] == \"poise\" or current[1] == \"price\")\nTrue",
         "failure_message": "The first item in your list should be \"insertion\", \"deletion\", or \"substitution\". The second item in your list should be the intended word. The third and fourth items should be as described above.\"\"",
         "hidden": false,
         "locked": false,
         "success_message": "The first item in your list is one of the correct words. The second item is one of the possible intended words. Third and fourth items are filled in. Whether or not these fields are ACCURATE and CORRECT will be checked after you submit."
        }
       ],
       "scored": true,
       "setup": "",
       "teardown": "",
       "type": "doctest"
      }
     ]
    },
    "q2.1.2": {
     "name": "q2.1.2",
     "points": 1.5,
     "suites": [
      {
       "cases": [
        {
         "code": ">>> current = correctionTable_poise\n>>> len(current) == 4 and (current[0] == \"insertion\" or current[0] == \"deletion\" or current[0] == \"substitution\") \\\n... and (current[1] == \"police\" or current[1] == \"poise\" or current[1] == \"price\")\nTrue",
         "failure_message": "The first item in your list should be \"insertion\", \"deletion\", or \"substitution\". The second item in your list should be the intended word. The third and fourth items should be as described above.\"\"",
         "hidden": false,
         "locked": false,
         "success_message": "The first item in your list is one of the correct words. The second item is one of the possible intended words. Third and fourth items are filled in. Whether or not these fields are ACCURATE and CORRECT will be checked after you submit."
        }
       ],
       "scored": true,
       "setup": "",
       "teardown": "",
       "type": "doctest"
      }
     ]
    },
    "q2.1.3": {
     "name": "q2.1.3",
     "points": 1.5,
     "suites": [
      {
       "cases": [
        {
         "code": ">>> current = correctionTable_price\n>>> len(current) == 4 and (current[0] == \"insertion\" or current[0] == \"deletion\" or current[0] == \"substitution\") \\\n... and (current[1] == \"police\" or current[1] == \"poise\" or current[1] == \"price\")\nTrue",
         "failure_message": "The first item in your list should be \"insertion\", \"deletion\", or \"substitution\". The second item in your list should be the intended word. The third and fourth items should be as described above.\"\"",
         "hidden": false,
         "locked": false,
         "success_message": "The first item in your list is one of the correct words. The second item is one of the possible intended words. Third and fourth items are filled in. Whether or not these fields are ACCURATE and CORRECT will be checked after you submit."
        }
       ],
       "scored": true,
       "setup": "",
       "teardown": "",
       "type": "doctest"
      }
     ]
    },
    "q2.2": {
     "name": "q2.2",
     "points": 5,
     "suites": [
      {
       "cases": [
        {
         "code": ">>> len(probabilityTable_police) == 3\nTrue",
         "failure_message": "Please ensure that each probabilityTable list is three items.",
         "hidden": false,
         "locked": false,
         "success_message": "Your list has three items. Whether or not it is CORRECT will be checked after you submit."
        },
        {
         "code": ">>> len(probabilityTable_poise) == 3\nTrue",
         "failure_message": "Please ensure that each probabilityTable list is three items.",
         "hidden": false,
         "locked": false,
         "success_message": "Your list has three items. Whether or not it is CORRECT will be checked after you submit."
        },
        {
         "code": ">>> len(probabilityTable_price) == 3\nTrue",
         "failure_message": "Please ensure that each probabilityTable list is three items.",
         "hidden": false,
         "locked": false,
         "success_message": "Your list has three items. Whether or not it is CORRECT will be checked after you submit."
        }
       ],
       "scored": true,
       "setup": "",
       "teardown": "",
       "type": "doctest"
      }
     ]
    },
    "q2.4": {
     "name": "q2.4",
     "points": 5,
     "suites": [
      {
       "cases": [
        {
         "code": ">>> len(noisyChannelTable_police) == 5 and (isinstance(noisyChannelTable_police[0], str) and isinstance(noisyChannelTable_police[1], str))\\\n... and (isinstance(noisyChannelTable_police[2], float) and isinstance(noisyChannelTable_police[3], float) and isinstance(noisyChannelTable_police[4], float))\nTrue",
         "failure_message": "Please ensure that each noisyChannelTable list is 5 items, where the first two are strings and the last three are numbers or mathematical formulas (e.g. x*y).",
         "hidden": false,
         "locked": false,
         "success_message": "Your list has three items, where the first two are strings and the last three are numbers. Whether or not these values are CORRECT will be checked after you submit."
        },
        {
         "code": ">>> len(noisyChannelTable_poise) == 5 and (isinstance(noisyChannelTable_poise[0], str) and isinstance(noisyChannelTable_poise[1], str))\\\n... and (isinstance(noisyChannelTable_poise[2], float) and isinstance(noisyChannelTable_poise[3], float) and isinstance(noisyChannelTable_poise[4], float))\nTrue",
         "failure_message": "Please ensure that each noisyChannelTable list is 5 items, where the first two are strings and the last three are numbers or mathematical formulas (e.g. x*y).",
         "hidden": false,
         "locked": false,
         "success_message": "Your list has three items, where the first two are strings and the last three are numbers. Whether or not these values are CORRECT will be checked after you submit."
        },
        {
         "code": ">>> len(noisyChannelTable_price) == 5 and (isinstance(noisyChannelTable_price[0], str) and isinstance(noisyChannelTable_price[1], str))\\\n... and (isinstance(noisyChannelTable_price[2], float) and isinstance(noisyChannelTable_price[3], float) and isinstance(noisyChannelTable_price[4], float))\nTrue",
         "failure_message": "Please ensure that each noisyChannelTable list is 5 items, where the first two are strings and the last three are numbers or mathematical formulas (e.g. x*y).",
         "hidden": false,
         "locked": false,
         "success_message": "Your list has three items, where the first two are strings and the last three are numbers. Whether or not these values are CORRECT will be checked after you submit."
        }
       ],
       "scored": true,
       "setup": "",
       "teardown": "",
       "type": "doctest"
      }
     ]
    },
    "q3.1": {
     "name": "q3.1",
     "points": 5,
     "suites": [
      {
       "cases": [
        {
         "code": ">>> len(googleTable_police) == 4\nTrue",
         "failure_message": "Please ensure that each googleTable list has 4 items, where the first is a string and the last three are numbers or mathematical formulas (e.g. x*y).",
         "hidden": false,
         "locked": false,
         "success_message": "Your list has four items. Ensure the first is a string, and the latter three are numbers. Whether or not these values are CORRECT will be checked after you submit."
        },
        {
         "code": ">>> len(googleTable_poise) == 4\nTrue",
         "failure_message": "Please ensure that each googleTable list has 4 items, where the first is a string and the last three are numbers or mathematical formulas (e.g. x*y).",
         "hidden": false,
         "locked": false,
         "success_message": "Your list has four items. Ensure the first is a string, and the latter three are numbers. Whether or not these values are CORRECT will be checked after you submit."
        },
        {
         "code": ">>> len(googleTable_price) == 4\nTrue",
         "failure_message": "Please ensure that each googleTable list has 4 items, where the first is a string and the last three are numbers or mathematical formulas (e.g. x*y).",
         "hidden": false,
         "locked": false,
         "success_message": "Your list has four items. Ensure the first is a string, and the latter three are numbers. Whether or not these values are CORRECT will be checked after you submit."
        }
       ],
       "scored": true,
       "setup": "",
       "teardown": "",
       "type": "doctest"
      }
     ]
    }
   }
  }
 },
 "nbformat": 4,
 "nbformat_minor": 1
}
