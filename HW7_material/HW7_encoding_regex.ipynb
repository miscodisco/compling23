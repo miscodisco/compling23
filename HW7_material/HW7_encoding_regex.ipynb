{
 "cells": [
  {
   "cell_type": "markdown",
   "id": "45e74142",
   "metadata": {},
   "source": [
    "# HW7: Counting and regular expressions\n",
    "\n"
   ]
  },
  {
   "cell_type": "code",
   "execution_count": null,
   "id": "9044e2d9",
   "metadata": {},
   "outputs": [],
   "source": [
    "# re module for working with regular expressions\n",
    "import re\n",
    "# For numerical work, nearly everyone uses numpy\n",
    "from numpy import pi"
   ]
  },
  {
   "cell_type": "markdown",
   "id": "398e567d",
   "metadata": {},
   "source": [
    "## Part 1: Dictionaries and counting"
   ]
  },
  {
   "cell_type": "markdown",
   "id": "8870631c",
   "metadata": {},
   "source": [
    "This notebook partly draws from materials put together by [Dirk Hovy](http://dirkhovy.com/). That's why there's a figure today! Dirk is a computational linguist at the University of Copenhagen. Much of his work tries to explore the intersection of social variables and NLP, working with large online corpora.\n",
    "\n",
    "### The structure of programs\n",
    "\n",
    "Most of programming, irrespective of the language you use, has four main elements:\n",
    "\n",
    "1. ***Assignment***: linking a name to a value. The names are called ***variables***. \n",
    "\n",
    "2. ***Loops***: sometimes we want to do the same thing repeatedly, either a fixed number of times, or\n",
    "until something happens. This is what loops are for. \n",
    "\n",
    "3. ***I/O (Input/Output)***: this refers to everything that has to do with getting information into and\n",
    "out of our programs, e.g. files (opening, closing, reading from or writing to them) or output on\n",
    "the screen.\n",
    "\n",
    "4. ***Control structures***: sometimes, we need to make decisions. I.e., if a variable has a certain \n",
    "value, do `X`, otherwise, do `Y`. Control structures are simple `if...then...else` constructs that evaluate\n",
    "the alternatives and make this decision. \n",
    "\n",
    "Today we'll put these together to do a useful elementary language processing task: getting counts of words in a document. The three main new things we need to learn today are: **reading from files**, **control structures**, and an important new data type the **dictionary** or just **dict**, which is a **mapping** data structure."
   ]
  },
  {
   "cell_type": "markdown",
   "id": "31539608",
   "metadata": {},
   "source": [
    "### The dictionary (or \"dict\") data type\n",
    "\n",
    "Python uses the term \"dictionary\" or \"dict\" for a *mapping*: a collection of items of one type mapping to another type. A dictionary is written with curly braces. For example, here's a mapping, from web sites to my passwords:"
   ]
  },
  {
   "cell_type": "code",
   "execution_count": null,
   "id": "f5468c0a",
   "metadata": {},
   "outputs": [],
   "source": [
    "passwds = {'Amazon': 'curly', 'Google': 'furry', 'Apple': 'easy',\n",
    "           'Microsoft' : 'easy'}"
   ]
  },
  {
   "cell_type": "markdown",
   "id": "be657c6e",
   "metadata": {},
   "source": [
    "No, not really! But it will do. You can access elements from a dict using the same square brackets notation after the dict/variable name, but now using a key which is the first half of the mapping:"
   ]
  },
  {
   "cell_type": "code",
   "execution_count": null,
   "id": "c90ce090",
   "metadata": {},
   "outputs": [],
   "source": [
    "print('My Google password is: ' + passwds['Google'])"
   ]
  },
  {
   "cell_type": "markdown",
   "id": "09ea055c",
   "metadata": {},
   "source": [
    "Trying to get a value for a key that doesn't exist is an error!"
   ]
  },
  {
   "cell_type": "code",
   "execution_count": null,
   "id": "30eb2557",
   "metadata": {},
   "outputs": [],
   "source": [
    "passwds['LinkedIN']"
   ]
  },
  {
   "cell_type": "markdown",
   "id": "9ef5747b",
   "metadata": {},
   "source": [
    "If we want to add a new item to our dictionary, we can simply assign a key a value:\n",
    "```\n",
    "<dictionary>[key] = <value>\n",
    "```\n",
    "\n",
    "Add the value `\"flotilla\"` as my `\"Facebook\"` pasword:"
   ]
  },
  {
   "cell_type": "code",
   "execution_count": null,
   "id": "6b0f7222",
   "metadata": {},
   "outputs": [],
   "source": [
    "# Add the value \"flotilla\" as my \"Facebook\" pasword:"
   ]
  },
  {
   "cell_type": "markdown",
   "id": "3b73a900",
   "metadata": {},
   "source": [
    "In a dict, there can only be one value for a key, but several keys can have the same value. Oh, and while I said a key can have only one value, that value _can_ be a list, which lets you do general relations. A dictionary, unlike a list, isn't ordered. But you can very efficiently get the value for a key. You can also call 3 method `keys()`, `values()`, and `items()` which return list-like values that you can do a `for`-loop over to see all the keys, values, and mappings in the dict.  Try them:"
   ]
  },
  {
   "cell_type": "code",
   "execution_count": null,
   "id": "f79346bf",
   "metadata": {
    "scrolled": true
   },
   "outputs": [],
   "source": [
    "for k in passwds.keys():\n",
    "    print(k)"
   ]
  },
  {
   "cell_type": "markdown",
   "id": "a18c6f7e",
   "metadata": {},
   "source": [
    "Note that the keys didn't come out in the order that I wrote them down. You shouldn't rely on the order you wrote things down in."
   ]
  },
  {
   "cell_type": "code",
   "execution_count": null,
   "id": "0a1bd2b4",
   "metadata": {},
   "outputs": [],
   "source": [
    "# Now print all the values"
   ]
  },
  {
   "cell_type": "code",
   "execution_count": null,
   "id": "db8b3c08",
   "metadata": {},
   "outputs": [],
   "source": [
    "# Now print all the items"
   ]
  },
  {
   "cell_type": "markdown",
   "id": "0a98af88",
   "metadata": {},
   "source": [
    "Note that the item is something we havent quite seen before – it's two strings wrapped in parentheses. It looks like the arguments to a function. This is different from a list and is called a ***tuple***. It's less important than lists, but we'll come back to them later today....\n",
    "\n",
    "You can check whether a key or value is in a map with the `in` and `not in` operators: `<key> in <dict>`. But that's often tedious to use, so you should also know the cleverer method on dicts `get(key, default)`, which lets you ask for a key, and return its value if it exists, or the default value otherwise. We'll be able to use it later to make our program neater."
   ]
  },
  {
   "cell_type": "code",
   "execution_count": null,
   "id": "239a6ffb",
   "metadata": {},
   "outputs": [],
   "source": [
    "# See if I have an 'Amazon' password\n",
    "'Amazon' in passwds"
   ]
  },
  {
   "cell_type": "code",
   "execution_count": null,
   "id": "bc481674",
   "metadata": {},
   "outputs": [],
   "source": [
    "# Either print my 'Facebook' password or 'None'\n"
   ]
  },
  {
   "cell_type": "markdown",
   "id": "514c7d54",
   "metadata": {},
   "source": [
    "### Word Counts—Dictionaries and Control Structures\n",
    "\n",
    "Last week, we learned about variable assignment, loops, and printing to the screen.\n",
    "There are several useful object types that we have not yet covered, and we need to learn about the constructs that let us\n",
    "test conditions. We will see them in this program, as well as IO for reading from files.\n",
    "\n",
    "We want to know which words occur how often in a\n",
    "file. This is a common elementary text processing step in order to get some idea of your data and to get a sense of its overall topics. The output of such counting is precisely what people use to draw the very common visualization of [word clouds](http://www.wordle.net/). (Even though they're very common, many visualization people don't like them very much; just like pie charts.)\n",
    "\n",
    "Let’s first think about what we have and what we want. We have a ***file***, and we want the\n",
    "counts for the ***words*** in there. So there is a ***file***, ***sentences***, ***words***, and their ***counts***. We need to read the\n",
    "file, get the sentences; for each sentence, get the words, and somehow record their counts. In the end,\n",
    "we just print out the counts again. We can display this like in Figure 1.\n",
    "\n",
    "<img src=\"pics/diagram_word_counts.png\" width=\"500px\">\n",
    "<div align=\"center\">*Figure 1: Flow chart for our word count problem*</div>\n",
    "\n"
   ]
  },
  {
   "cell_type": "markdown",
   "id": "13a71054",
   "metadata": {},
   "source": [
    "Now let’s look at the program: it takes a file, reads it in, keeps a running count for each word, and\n",
    "prints those counts at the end. \n",
    "\n",
    "**Make sure to execute each code section as you progress (even the pre-written ones), so that the variables become available to the interpreter.** You won't see any direct output when executing the cell below, but we will need it further on.\n",
    "\n",
    "We first declare the name of the file as a variable, and then actually open the file. \n",
    "`open()` is the function that reads in the file. It takes just one argument: the name of the file we\n",
    "try to open. You can give it a second argument, `'w'` if you want to write to a file, rather than just read from it. Here, we only want to read, so we don't need to specify anything else.\n",
    "\n",
    "Python takes care of some pesky new line and encoding issues, so we won’t worry too much right now about special characters. Go ahead and read a file with runes!"
   ]
  },
  {
   "cell_type": "code",
   "execution_count": null,
   "id": "c6eb3334",
   "metadata": {},
   "outputs": [],
   "source": [
    "file_name = 'debate-clinton.txt'\n",
    "\n",
    "# open the file for reading\n",
    "text_file = open(file_name)"
   ]
  },
  {
   "cell_type": "markdown",
   "id": "88e49fc5",
   "metadata": {},
   "source": [
    "\n",
    "The result of running `open()` is not the text of the file. It is similar to a list (it's not exactly a list, but an ***iterator*** – that's also what `keys()` gave us above), and we call that list `text_file`, so we can use it later on. This give us a ***handle*** to read through the file. "
   ]
  },
  {
   "cell_type": "code",
   "execution_count": null,
   "id": "3a4e25b8",
   "metadata": {},
   "outputs": [],
   "source": [
    "word_count = {}"
   ]
  },
  {
   "cell_type": "markdown",
   "id": "e441bcf4",
   "metadata": {},
   "source": [
    "After we have assigned the file hande, we assign the name `word_count` to a ***dictionary***. Here, our keys will be strings (the words), and the values we map them to are numbers (their respective\n",
    "frequencies). If we just use a pair of curly braces, as we\n",
    "did here, we get an empty dictionary. There are no entries. "
   ]
  },
  {
   "cell_type": "markdown",
   "id": "baf8c1b9",
   "metadata": {},
   "source": [
    "After we have declared the dictionary, we start iterating through the file with a `for`-loop.\n",
    "Since `text_file` is an open file, this gives us a list of all the lines. We can\n",
    "thus iterate over them. For each line in the file, we want to do a number of things.\n",
    "That is why the next lines are all indented under the `for`-loop header line. "
   ]
  },
  {
   "cell_type": "code",
   "execution_count": null,
   "id": "f6c55256",
   "metadata": {},
   "outputs": [],
   "source": [
    "# go through the open file line by line\n",
    "for line in text_file:\n",
    "    # get rid of the line break at the end\n",
    "    line = line.strip()\n",
    "    # split sentence along spaces\n",
    "    sentence = line.split()\n",
    "    # go through words\n",
    "    for word in sentence:\n",
    "        # check whether word is already in dictionary\n",
    "        if word in word_count:\n",
    "            # if yes: increment\n",
    "            word_count[word] = word_count[word] + 1\n",
    "        # if not, add an entry\n",
    "        else:\n",
    "            word_count[word] = 1"
   ]
  },
  {
   "cell_type": "markdown",
   "id": "4c6ecc71",
   "metadata": {},
   "source": [
    "First, we get rid of the line break and any white space at the beginning or end of the line. We could write code to do all these things, but there is an easier (and shorter) way:\n",
    "we use the `strip()` command to remove all that whitespace from the line and assign it to \n",
    "the same name as before (`line`). (*Subtle point here about line break character!*) We made a new object – strings cannot be changed – but we assign it the same name. Whenever we use `line` from now on, it is the “cleaned-up” version of the line. (*Subtle points:* (1) Mutable and immutable objects; (2) If a method returns a new, changed object but doesn't change the original object – this is common and the only way to do things for immutable objects – then it is vital to assign the output of the method to something, or you will lose it. Commonly we assign it back to the same variable name if we conceptually think that we have *improved* the same thing.) \n",
    "\n",
    "We then use the `split()` command we have seen before next.\n",
    "Remember, it splits a sentence at the white space subsequences into a list, so if we had extra white spaces,\n",
    "it would create empty entries in our list. The list of strings resulting from `split()` is assigned to\n",
    "`sentence`, and we then iterate over that list. We have seen this before, so I will skip to the next\n",
    "interesting part here: control structures."
   ]
  },
  {
   "cell_type": "markdown",
   "id": "55b8c14f",
   "metadata": {},
   "source": [
    "After we have read the whole file, we close it with the `close()` command on the file variable. The dot tells us that it is a property of files. Note \n",
    "that this line is no longer indented under the `for`-loop, but at the same level. This means that it is only\n",
    "executed once we have completed all our iterations of the for-loop, in this case, after we have read all\n",
    "lines in the file!"
   ]
  },
  {
   "cell_type": "code",
   "execution_count": null,
   "id": "2784f6e4",
   "metadata": {},
   "outputs": [],
   "source": [
    "# close the file after reading\n",
    "text_file.close()"
   ]
  },
  {
   "cell_type": "markdown",
   "id": "fddd53ec",
   "metadata": {},
   "source": [
    "### Control Structures\n",
    "\n",
    "So far, we have simply executed one command after the next. We never had to make a decision or\n",
    "choose among options. Now we have to. If a word is already listed in our dictionary, we want to\n",
    "increase its count by one (we know how to do that). If the word is not in our dictionary, however, we\n",
    "have to make an entry. Otherwise, we would try to increment a count that does not even exist (you\n",
    "cannot look up something that is not in the dictionary).\n",
    "\n",
    "To make the decision what to do, we use the `if...then...else` structure or ***conditional***.\n",
    "The structure of the conditional is simple:\n",
    "```\n",
    "if <condition is true>:\n",
    "    <action1>\n",
    "else:\n",
    "    <action2>\n",
    "```\n",
    "\n",
    "Here `<condition>` is another type of variable, a so-called ***boolean***. They are named after the \n",
    "mathematician Boole, and have only two values: `True` and `False` (note the capital spelling!). In our\n",
    "case, the value comes from the outcome of the condition `word in word_count` to check whether\n",
    "the dictionary `word_count` contains the key word. **`in`** is one of Python’s reserved words. You can\n",
    "use it to check whether a variable is in a dictionary, a list, or other ***collections***.\n",
    "Sometimes, there are more than just two cases (something being true or false) that we would\n",
    "like to account for. In that case, we can check for more conditions:\n",
    "```\n",
    "if <condition1 is true>:\n",
    "    <action1>\n",
    "elif <condition2 is true>:\n",
    "    <action2>\n",
    "elif <condition3 is true>:\n",
    "    <action3>\n",
    "else:\n",
    "    <action4>\n",
    "```\n",
    "\n",
    "You can add as many `elif` cases as you want! We will see an example of this in the next section.\n",
    "\n",
    "So if the word we look at is indeed in our dictionary, we increment its count by one. \n",
    "This puts the current word in the dictionary and sets its counter to 1.\n",
    "\n",
    "Write your own control structure that checks whether `\"Amazon\"` is a key in `passwds`, and prints `\"Your password is <passwd>\"` if there is one and `\"You don't have an Amazon account!\"` otherwise."
   ]
  },
  {
   "cell_type": "code",
   "execution_count": null,
   "id": "300140db",
   "metadata": {},
   "outputs": [],
   "source": []
  },
  {
   "cell_type": "markdown",
   "id": "ed9ad6e5",
   "metadata": {},
   "source": [
    "In our program, we finally want to print all the counts we have collected to the screen. We use another `for`-loop. This time, it iterates over a list of ***tuples***. Tuples are a lot like lists, with the big difference that they \n",
    "have a fixed size. They are less flexible than lists. In Python, we denote tuples by round brackets\n",
    "(instead of square ones as for lists). The function `items()` of a dictionary returns a list of \n",
    "tuples of each key and its respective value. We use that and assign them to `word` and `frequency`, respectively. We print each word and its frequency (provided it occurred more than once) separated by a space, (that is why there is a comma in the `print()` statement, see above)."
   ]
  },
  {
   "cell_type": "code",
   "execution_count": null,
   "id": "e7b7e4a9",
   "metadata": {},
   "outputs": [],
   "source": [
    "# take each pair of word and frequency in the dictionary\n",
    "for (word, frequency) in word_count.items():\n",
    "    if frequency > 1:\n",
    "        print(word, frequency)"
   ]
  },
  {
   "cell_type": "markdown",
   "id": "dd65b022",
   "metadata": {},
   "source": [
    "Well, we've learned a fair bit here. We have learned how to read in a text file, how to use control structures, and we have\n",
    "seen the new object types dictionaries and tuples.\n",
    "You have now seen a lot of the basics of Python! While there are a lot of other things that you *can* learn – and, gosh, I'm going to attempt to teach quite a few of them — you can actually write quite a bit of basic text processing using just these elements. Many of the things that we'll learn later provide faster, more powerful, more convenient ways to do things that you _could_ do with just these elements."
   ]
  },
  {
   "cell_type": "markdown",
   "id": "c687655d",
   "metadata": {
    "collapsed": true
   },
   "source": [
    "### Doing more with word counts from the Clinton-Trump debate\n",
    "\n",
    "Try to do all of these things, and end up with a decent program at the end that does all this stuff.\n",
    "\n",
    "The above program got word counts from the file `'debate-clinton.txt'`. It was hardcoded to do so. But we also want word counts from `'debate-trump.txt'`. So, what we want is a function that can count words in _any_ file.  We might structure our program as two functions:\n",
    "\n",
    "1. A function that takes a string filename and returns a dict from words to their counts in the file.\n",
    "\n",
    "2. A function that takes a dict of word counts and prints the word counts\n",
    "\n",
    "You are welcome to copy and paste any code from above to get this to work."
   ]
  },
  {
   "cell_type": "code",
   "execution_count": null,
   "id": "ef95f848",
   "metadata": {},
   "outputs": [],
   "source": [
    "# Function for collecting word counts from a file\n",
    "# Don't forget to close the file after you have read it in!"
   ]
  },
  {
   "cell_type": "code",
   "execution_count": null,
   "id": "1d0b4765",
   "metadata": {},
   "outputs": [],
   "source": [
    "# Function for printing word counts from a dict"
   ]
  },
  {
   "cell_type": "code",
   "execution_count": null,
   "id": "4c0fcfa2",
   "metadata": {},
   "outputs": [],
   "source": [
    "# Top-level code that calls the above functions for each of the files\n",
    "# 'debate-clinton.txt' and 'debate-trump.txt'.\n",
    "# You probably also want to print out a blank line separator dividing the files and saying which you are printing."
   ]
  },
  {
   "cell_type": "markdown",
   "id": "30fb2750",
   "metadata": {},
   "source": [
    "Let's now try to make that program a bit better! You can just edit it above and leave the final program.\n",
    "\n",
    "1. Although it was useful to learn about `if` control structures – and we will use them a lot – you don't actually need to use one here. Do you instead remember about the `get(<key>, <default>)` method on a dict that we saw earlier? Try using it. *(Warning: this can be challenging so it is fine to skip it at first and come back later)*.\n",
    "\n",
    "2. The above code is hardcoded to print words that occur 2 or more times. This makes the list shorter by leaving out words that occur only once (the \"hapax legomena\" of the list — there are always a lot of these, often about 40% of the word types). But it's still a long list. We might want to only print words that occur 3 or more times, say. Make the minimum number of times for a word to occur to print it another parameter of the second function, and have the top-level code call it with the value 3.\n",
    "\n",
    "3. At the other extreme, it might not be very interesting knowing how often the candidates say \"the\" or \"to\". Such function words often don't seem to carry much content. (Though, of course, be aware of the work of people such as [James Pennebaker](http://www.secretlifeofpronouns.com/), who emphasizes how much social meaning can be conveyed by function words. Lists of common function words that you are not going to count are conventionally called **stop words** in computational work. Modify the first program to also accept a list of stop words which you don't put in the hash. Modify the top-level code so that it doesn't count `['the', 'a', 'an', 'that', 'and', 'to', 'of']`\n",
    "\n",
    "4. We're starting to suffer badly from simply tokenizing by dividing on whitespace. We could do a little better by simply \"whiting out\" the commonest punctuation marks that glom on to words. Before splitting on white space, we could change the string to delete letters like: `'.', ',', '\"'`. Remember the `replace()` method on `str` that we saw last time. Look at your output, you may well want to delete a few more. Doing this will do a little textual damage; e.g., `30,000` will become `30000`, but it won't be too bad. You may want to not delete `'`, though, so that you don't damage words like `isn't`.\n",
    "\n",
    "5. It might also be useful to lowercase all tokens, so that words don't become different just because they are at the start of a sentence. Of course, you'll then just have to be smart enough to recognize that `irs` means the `IRS`.\n",
    "\n",
    "6. It would be good to also add up how many non-stop words were spoken by each candidate. Who spoke the most?\n",
    "\n",
    "7. To normalize for frequency, it would be useful to also work out the percent of times the word each candidate says is a certain word. So, in the second function, also print the percent as well as the raw count.\n",
    "\n",
    "8. Find at least one interesting difference in word use between the two candidates, and put it in the cell below!"
   ]
  },
  {
   "cell_type": "code",
   "execution_count": null,
   "id": "6cb8bfc6",
   "metadata": {},
   "outputs": [],
   "source": []
  },
  {
   "cell_type": "markdown",
   "id": "c3306f34",
   "metadata": {},
   "source": [
    "### Bonus: Getting word counts from the Google Books data\n",
    "\n",
    "The raw data files for the Google Books collection are available for \n",
    "download. The files are huge, so I created a tiny sample in the file `googlebooks-eng-all-1gram-20120701-a-sample`.\n",
    "\n",
    "The format of this file is as follows (whitespace inserted for \n",
    "readability):\n",
    "\n",
    "```\n",
    "word TAB year TAB match_count TAB volume_count NEWLINE\n",
    "```\n",
    "\n",
    "The TAB character is \"\\t\", which you can treat like any other (for\n",
    "example, you can split a string on \"\\t\"). The `match_count` is how many times the word occurred and the `volume_count` is a smaller number for how many _different_ books it occurred in. We will use the `match_count`. Note that the words have also been disambiguated by part of speech where ambiguous. We'll get to that later.\n",
    "\n",
    "Your first task: complete googlebooks_counts_by_year so that it processes\n",
    "my sample file and returns a 2d dictionary (a top-level dictionary whose values are each a dictionary!) with this structure:\n",
    "\n",
    "{\n",
    "  word1: {year1: count, year2: count ...},\n",
    "  word2: {year1: count, year2: count ...},\n",
    "  ...\n",
    "}\n",
    "\n",
    "where the contents of the year dicts is determined by the file.\n",
    "(That is, different words will have different years and counts\n",
    "associated with them.)"
   ]
  },
  {
   "cell_type": "code",
   "execution_count": null,
   "id": "da993a89",
   "metadata": {},
   "outputs": [],
   "source": [
    "def googlebooks_counts_by_year(filename):\n",
    "    \"\"\"Maps a Google books 1-grams file to a 2d dictionary\n",
    "    giving each word's counts by year.\"\"\"\n",
    "    pass\n"
   ]
  },
  {
   "cell_type": "markdown",
   "id": "85223e2f",
   "metadata": {},
   "source": [
    "Second task: Complete the function googlebooks_year_collapse so that it takes as input the output of googlebooks_counts_by_year and collapses\n",
    "it down so that each word is associated with its single tokencount\n",
    "for the full, obtained by summing up all of the counts for the\n",
    "years associated with that word. "
   ]
  },
  {
   "cell_type": "code",
   "execution_count": null,
   "id": "04ada65b",
   "metadata": {},
   "outputs": [],
   "source": [
    "def googlebooks_year_collapse(d):\n",
    "    \"\"\"Convert the output of googlebooks_counts_by_year to \n",
    "    a simpler dict mapping words to counts.\"\"\"\n",
    "    pass\n"
   ]
  },
  {
   "cell_type": "markdown",
   "id": "1b46e98e",
   "metadata": {},
   "source": [
    "Write something at the top-level to call this code on the file `googlebooks-eng-all-1gram-20120701-a-sample`:"
   ]
  },
  {
   "cell_type": "code",
   "execution_count": null,
   "id": "6a28c135",
   "metadata": {},
   "outputs": [],
   "source": []
  },
  {
   "cell_type": "markdown",
   "id": "dbd799be",
   "metadata": {},
   "source": [
    "## Part 2: Regular Expressions in Python\n",
    "\n",
    "Regular expressions – regex – are super useful when processing text in Python! However, there are so many different patterns and ways to use the re module that it is impossible to learn by heart. So instead, this part of the HW is for you to play around and get comfortable with using regex. Also, head to [regex101.com](http://www.regex101.com/) for a nice place to test out your regex patterns before running them here.  "
   ]
  },
  {
   "cell_type": "code",
   "execution_count": null,
   "id": "657b91cd",
   "metadata": {},
   "outputs": [],
   "source": [
    "p = re.compile('[a-z]+')\n",
    "p"
   ]
  },
  {
   "cell_type": "code",
   "execution_count": null,
   "id": "2718541d",
   "metadata": {},
   "outputs": [],
   "source": [
    "# try a few different things instead of 'tempo' - can you find the things that don't match?\n",
    "m = p.match('tempo')\n",
    "m"
   ]
  },
  {
   "cell_type": "code",
   "execution_count": null,
   "id": "abfd5481",
   "metadata": {},
   "outputs": [],
   "source": [
    "m.group()"
   ]
  },
  {
   "cell_type": "code",
   "execution_count": null,
   "id": "b0be1c55",
   "metadata": {},
   "outputs": [],
   "source": [
    "m.start(), m.end()"
   ]
  },
  {
   "cell_type": "code",
   "execution_count": null,
   "id": "aa1b7077",
   "metadata": {},
   "outputs": [],
   "source": [
    "print(p.match('::: message'))"
   ]
  },
  {
   "cell_type": "code",
   "execution_count": null,
   "id": "42413e1a",
   "metadata": {},
   "outputs": [],
   "source": [
    "m = p.search('::: message'); print(m)  "
   ]
  },
  {
   "cell_type": "code",
   "execution_count": null,
   "id": "f408dc4c",
   "metadata": {},
   "outputs": [],
   "source": [
    "p = re.compile('[a-z]+')\n",
    "m = p.search( '2942a9vv4dxaq42' )\n",
    "if m:\n",
    "    print('Match found: ', m.group())\n",
    "else:\n",
    "    print('No match')"
   ]
  },
  {
   "cell_type": "code",
   "execution_count": null,
   "id": "dbe6c4d1",
   "metadata": {},
   "outputs": [],
   "source": [
    "p.findall('2942a9vv4dxaq42')"
   ]
  },
  {
   "cell_type": "code",
   "execution_count": null,
   "id": "194b1987",
   "metadata": {},
   "outputs": [],
   "source": [
    "# Shortcut pattern and matcher in one!\n",
    "re.match(r'From\\s+', 'From amk Thu May 14 19:12:10 1998')"
   ]
  },
  {
   "cell_type": "markdown",
   "id": "a4cde418",
   "metadata": {},
   "source": [
    "### Groups"
   ]
  },
  {
   "cell_type": "code",
   "execution_count": null,
   "id": "1a682003",
   "metadata": {},
   "outputs": [],
   "source": [
    "p = re.compile('(a(b)c)d')\n",
    "m = p.match('abcd')\n",
    "m.group(0)"
   ]
  },
  {
   "cell_type": "code",
   "execution_count": null,
   "id": "9ef1637c",
   "metadata": {},
   "outputs": [],
   "source": [
    "m.group(1)"
   ]
  },
  {
   "cell_type": "code",
   "execution_count": null,
   "id": "75425f2c",
   "metadata": {},
   "outputs": [],
   "source": [
    "m.group(2)"
   ]
  },
  {
   "cell_type": "code",
   "execution_count": 34,
   "id": "8e183a40",
   "metadata": {},
   "outputs": [
    {
     "data": {
      "text/plain": [
       "'1345 Cowper St'"
      ]
     },
     "execution_count": 34,
     "metadata": {},
     "output_type": "execute_result"
    }
   ],
   "source": [
    "p = re.compile(r'(\\d+)\\s+(\\w+)\\s+St')\n",
    "m = p.search('I live at 1345 Cowper St')\n",
    "m.group(0)"
   ]
  },
  {
   "cell_type": "code",
   "execution_count": 35,
   "id": "51b66854",
   "metadata": {},
   "outputs": [
    {
     "data": {
      "text/plain": [
       "'1345'"
      ]
     },
     "execution_count": 35,
     "metadata": {},
     "output_type": "execute_result"
    }
   ],
   "source": [
    "m.group(1)"
   ]
  },
  {
   "cell_type": "code",
   "execution_count": 36,
   "id": "607c0624",
   "metadata": {},
   "outputs": [
    {
     "data": {
      "text/plain": [
       "'Cowper'"
      ]
     },
     "execution_count": 36,
     "metadata": {},
     "output_type": "execute_result"
    }
   ],
   "source": [
    "m.group(2)"
   ]
  },
  {
   "cell_type": "code",
   "execution_count": null,
   "id": "dbe9892d",
   "metadata": {},
   "outputs": [],
   "source": []
  },
  {
   "cell_type": "markdown",
   "id": "a66e8b80",
   "metadata": {},
   "source": [
    "### Substitutions in a string"
   ]
  },
  {
   "cell_type": "code",
   "execution_count": null,
   "id": "4da645fa",
   "metadata": {},
   "outputs": [],
   "source": [
    "p = re.compile('(blue|white|red)')\n",
    "p.sub('colour', 'blue socks and red shoes')"
   ]
  },
  {
   "cell_type": "markdown",
   "id": "34f10b58",
   "metadata": {},
   "source": [
    "### Splitting on a regular expression"
   ]
  },
  {
   "cell_type": "code",
   "execution_count": null,
   "id": "a0139153",
   "metadata": {},
   "outputs": [],
   "source": [
    "# A slightly better word tokenizer\n",
    "# The re split method returns you things that MATCH\n",
    "# the regular expression and skips stuff in between\n",
    "s = '''\\'As wet as ever,\\' said Alice\n",
    "    in a melancholy tone: \\'it doesn\\'t seem to\n",
    "    dry me at all.\\''''\n",
    "p = re.compile('\\W+')\n",
    "p.split(s)"
   ]
  },
  {
   "cell_type": "code",
   "execution_count": null,
   "id": "a95461c3",
   "metadata": {},
   "outputs": [],
   "source": [
    "# Again you can shortcut this.\n",
    "re.split('\\W+', s)"
   ]
  },
  {
   "cell_type": "markdown",
   "id": "963176a2",
   "metadata": {},
   "source": [
    "Finally, I might note that there's even more complex and sometimes useful stuff you can do with regex that hasn't yet been covered. You can find all the glorious and messy details in the Python 3 library documentation: Case insensitivity, non-capturing groups, ...."
   ]
  },
  {
   "cell_type": "markdown",
   "id": "14d30d55",
   "metadata": {},
   "source": [
    "## Assignment"
   ]
  },
  {
   "cell_type": "code",
   "execution_count": null,
   "id": "709ea922",
   "metadata": {},
   "outputs": [],
   "source": [
    "tweets = (\n",
    "    \"\"\"@Becky17 - i'm having a little trouble \"getting\"<br /> the whole twibes thing (but sometimes u gotta just get in there and try it).  :-)\"\"\",\n",
    "    \"\"\"Oh .. and follow @Spyker3292, @Domness, @Karlkempobrien, @Duidl_Media and @Chasetastic. Cheers for the Congrats! :D | #FollowSaturday\"\"\",\n",
    "    \"\"\"blade--trinity;;; sweeeeeeet. :)\"\"\",\n",
    "    \"\"\"@renay Thanks Renay! $9,000 yay =)\"\"\",\n",
    "    \"\"\"@denvy can try :) drop a tweet with \"##awaresg_tshirts\" so i can <strong>track</strong> orders #awaresg\"\"\",\n",
    "    \"\"\"U need to chk out & follow here, a more beautiful animal not anywhere else! @EmmaRileySutton :) #followfriday\"\"\",\n",
    "    \"\"\"@LadyB84 Manchester United??? Really??? Breaks my heart :-(http://www.twitpic.com/4x1fn\"\"\",\n",
    "    \"\"\"Can't wait till tomorrow =D\"\"\",\n",
    "    \"\"\"Big Shot's Funeral » Google » Peoria making its case for Google ... http://cli.gs/Wa8za#heading1.\"\"\",\n",
    "    \"\"\"Contact email@address.org today\"\"\",\n",
    "    \"\"\"@linguist278: Variations on phone numbers: +1 (800) 123-4567, (800) 123-4567. Not a real tweet!\"\"\",\n",
    "    \"\"\"RT @StanfordPraglab: Mole Day is coming up. Theme is Animole Kingdom: http://en.wikipedia.org/wiki/Mole_Day #Holidays :-)\"\"\"\n",
    "    )\n"
   ]
  },
  {
   "cell_type": "markdown",
   "id": "76ccbec4",
   "metadata": {},
   "source": [
    "Write a function that takes a list of strings, texts, and a regular expression, regex, as input and prints to standard output the subset that match regex."
   ]
  },
  {
   "cell_type": "code",
   "execution_count": null,
   "id": "f267d273",
   "metadata": {},
   "outputs": [],
   "source": [
    "def matcher(texts, regex):\n",
    "    \"\"\"Takes a list of strings texts as input and prints to standard output the subset that match regex.\"\"\"\n",
    "    pass\n"
   ]
  },
  {
   "cell_type": "markdown",
   "id": "1d319e41",
   "metadata": {},
   "source": [
    "Use this function to test out writing a few regular expressions, testing on the data above."
   ]
  },
  {
   "cell_type": "code",
   "execution_count": null,
   "id": "7bef8aaf",
   "metadata": {},
   "outputs": [],
   "source": [
    "def contains_hashtag(texts):\n",
    "    \"\"\"Uses matcher to find tweets that contain a hashtag. Assume a hashtag begins with # and has a non-null sequence of non-space characters after it.\"\"\"\n",
    "    pass\n"
   ]
  },
  {
   "cell_type": "code",
   "execution_count": null,
   "id": "360a9561",
   "metadata": {},
   "outputs": [],
   "source": [
    "def contains_money(texts):\n",
    "    \"\"\"Uses matcher to find tweets that contain a money amount. Assume a money amount begins with $ and has a non-null sequence of digits and periods after it.\"\"\"\n",
    "    pass"
   ]
  },
  {
   "cell_type": "markdown",
   "id": "96bba03b",
   "metadata": {},
   "source": [
    "Write a function that takes a list of strings, texts, and a regular expression, regex, as input and prints to standard output the substrings of each string that match regex."
   ]
  },
  {
   "cell_type": "code",
   "execution_count": null,
   "id": "a0cf3598",
   "metadata": {},
   "outputs": [],
   "source": [
    "def searcher(texts, regex):\n",
    "    \"\"\"Takes a list of strings texts as input and prints to standard output the substrings of each that match regex.\"\"\"\n",
    "    pass"
   ]
  },
  {
   "cell_type": "markdown",
   "id": "ffaf6ae5",
   "metadata": {},
   "source": [
    "Use this function to test out writing a few regular expressions, testing on the data above."
   ]
  },
  {
   "cell_type": "code",
   "execution_count": null,
   "id": "fcc8fea1",
   "metadata": {},
   "outputs": [],
   "source": [
    "def smileys(texts):\n",
    "    \"\"\"Uses searcher to find smiley faces, such as :) that appear in the list of strings, texts.\"\"\"\n",
    "    pass"
   ]
  },
  {
   "cell_type": "code",
   "execution_count": 52,
   "id": "e8e5901a",
   "metadata": {
    "scrolled": true
   },
   "outputs": [
    {
     "name": "stdout",
     "output_type": "stream",
     "text": [
      ":-)\n",
      ":D\n",
      ":)\n",
      "=)\n",
      ":)\n",
      ":)\n",
      ":-(\n",
      "=D\n",
      ":-)\n"
     ]
    }
   ],
   "source": [
    "smileys(tweets)"
   ]
  },
  {
   "cell_type": "code",
   "execution_count": 53,
   "id": "e296fda7",
   "metadata": {},
   "outputs": [
    {
     "name": "stdout",
     "output_type": "stream",
     "text": [
      ":)\n",
      ":D\n",
      ":-(\n"
     ]
    }
   ],
   "source": [
    "example_text = [\"Yes. :) I'm really happy. :D Except when I'm sad. :-(\"]\n",
    "smileys(example_text)"
   ]
  },
  {
   "cell_type": "markdown",
   "id": "813be0c0",
   "metadata": {},
   "source": [
    "Use the included file words-english.txt and search it \n",
    "for words that have a consonant cluster of 4 or more consonants at the end. We're just using a count of four orthographic consonants, not sounds (phonemes). We won't count y since it is usally a vowel at the end of words.\n",
    "\n",
    "Complete the function below"
   ]
  },
  {
   "cell_type": "code",
   "execution_count": null,
   "id": "eb091646",
   "metadata": {},
   "outputs": [],
   "source": [
    "def final_consonant_clusters(filename):\n",
    "    consonants = \"bcdfghjklmnpqrstvwxz\" # 'y' left out for added interest"
   ]
  },
  {
   "cell_type": "code",
   "execution_count": null,
   "id": "07796d1e",
   "metadata": {},
   "outputs": [],
   "source": [
    "final_consonant_clusters('words-english.txt')"
   ]
  },
  {
   "cell_type": "markdown",
   "id": "256ef0ef",
   "metadata": {
    "collapsed": true
   },
   "source": [
    "Use the included file gaddafi.txt and write a regular expression to match instances of his surname. You should match the first 112 but not the last 8!"
   ]
  },
  {
   "cell_type": "code",
   "execution_count": null,
   "id": "883042fa",
   "metadata": {},
   "outputs": [],
   "source": [
    "def gaddafi_matches(filename):\n",
    "    pass"
   ]
  },
  {
   "cell_type": "code",
   "execution_count": null,
   "id": "dbfd1447",
   "metadata": {},
   "outputs": [],
   "source": [
    "gaddafi_matches('gaddafi.txt')"
   ]
  }
 ],
 "metadata": {
  "kernelspec": {
   "display_name": "Python 3 (ipykernel)",
   "language": "python",
   "name": "python3"
  },
  "language_info": {
   "codemirror_mode": {
    "name": "ipython",
    "version": 3
   },
   "file_extension": ".py",
   "mimetype": "text/x-python",
   "name": "python",
   "nbconvert_exporter": "python",
   "pygments_lexer": "ipython3",
   "version": "3.9.9"
  }
 },
 "nbformat": 4,
 "nbformat_minor": 5
}
