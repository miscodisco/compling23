{
 "cells": [
  {
   "cell_type": "markdown",
   "metadata": {},
   "source": [
    "# HW1: The Basics\n",
    "+ **Groups**: You're always welcome to work together! For this first assignment, though, it will be best if everyone runs the code independently on their own laptop. Along the way, you can compare how you've answered the Qs and help eachother if you get stuck. \n"
   ]
  },
  {
   "cell_type": "markdown",
   "metadata": {},
   "source": [
    "One more time: It is important that you start programming yourself right away! You cannot learn programming from reading. Play around with bits of code. The more you play, the better! "
   ]
  },
  {
   "cell_type": "markdown",
   "metadata": {},
   "source": [
    "## How to do this assignment\n",
    "Variables and Types\n",
    "Lists\n",
    "Basic Operators\n",
    "String Formatting\n",
    "Basic String Operations\n"
   ]
  },
  {
   "cell_type": "markdown",
   "metadata": {},
   "source": [
    "### Variables\n",
    "Reminder: variables are names that you give to some data object, like a **str** or **int**, just like in language. The thing you name can later change. Or you can later use the same name to refer to some other object. But most of the time its easier to remember if the same name continues to refer to the same object. Just like human languages! I didn't say what names you could use for variables. You can use almost anything! You should make names meaningful, so your program is easier to understand. There are a few rules on variable names, though:\n",
    "\n",
    "- Names must start with a letter (or underscore)\n",
    "- The rest of the letters can also be digits\n",
    "- Names are case sensitive (**income** and **Income** are different variables!)\n",
    "- You can't use a handful of words used in Python language statements. For instance, we saw last time the **for** loop. You can't have a variable called **for** or **in**."
   ]
  },
  {
   "cell_type": "markdown",
   "metadata": {},
   "source": [
    "**Q1:** Make a **list** of a few things that you want to buy from the store, and assign it to a variable!\n"
   ]
  },
  {
   "cell_type": "markdown",
   "metadata": {},
   "source": [
    "*Funky fact:* You can use a wide range of _letters_ if you want!  You can have a variable called **hríðer** or **便利**. But I don't suggest that you do! (You can't have a variable called 🙈. Emoji are characters, but they aren't in the set deemed _letters_.)"
   ]
  },
  {
   "cell_type": "markdown",
   "metadata": {},
   "source": [
    "**Q2:** Assign values to a couple of variables. Anything at all!"
   ]
  },
  {
   "cell_type": "code",
   "execution_count": null,
   "metadata": {},
   "outputs": [],
   "source": []
  },
  {
   "cell_type": "markdown",
   "metadata": {},
   "source": [
    "### Built-in Functions\n",
    "Python has a small number of built-in functions that you can use most places. They have a name, and take some number of arguments placed in parentheses. We saw **print()** and **range()**. Here are two more good ones to know: **len()** and **str()**."
   ]
  },
  {
   "cell_type": "markdown",
   "metadata": {},
   "source": [
    "**Q3:** Find out what is the length of your list from **Q1**."
   ]
  },
  {
   "cell_type": "code",
   "execution_count": null,
   "metadata": {},
   "outputs": [],
   "source": []
  },
  {
   "cell_type": "markdown",
   "metadata": {},
   "source": [
    "### Combining Types\n",
    "You cannot just join together an **int** and a **str**. Try that below and note that it gives an error. So if we want to print a message involving a String like 'Your age is ' and an integer like 24, we need to turn the **int** into a **str**. We do that with the **str()** function. Similar functions exist for the other types: **int()** and **float()**."
   ]
  },
  {
   "cell_type": "markdown",
   "metadata": {},
   "source": [
    "**Q4:** Fix the line below and run it. "
   ]
  },
  {
   "cell_type": "code",
   "execution_count": null,
   "metadata": {},
   "outputs": [],
   "source": [
    "print('Your age is ' + 24)"
   ]
  },
  {
   "cell_type": "code",
   "execution_count": null,
   "metadata": {},
   "outputs": [],
   "source": []
  },
  {
   "cell_type": "markdown",
   "metadata": {},
   "source": [
    "### Loops\n",
    "Loops are known as **control structures**. One common example is the **for** loop. It does something for each item in a list.  It looks like:\n",
    "```\n",
    "for <element> in <list>:\n",
    "    <do something>\n",
    "    ...\n",
    "```\n",
    "Element is a variable name, which will in turn be assigned to each element of the list. Don't forget the colon. Don't forget the indentation for the body of the loop. You need to get the indentation right for Python to work. But the editor will help you get it right. A 4 space indent is standardly used."
   ]
  },
  {
   "cell_type": "markdown",
   "metadata": {},
   "source": [
    "**Q5:** Finish the code below. Write a **for** loop that says \"Hello\" to each of my friends."
   ]
  },
  {
   "cell_type": "code",
   "execution_count": null,
   "metadata": {},
   "outputs": [],
   "source": [
    "friends = ['Jenny', 'Tony', 'Pichuan', 'Wayan']\n"
   ]
  },
  {
   "cell_type": "markdown",
   "metadata": {},
   "source": [
    "### A useful tool: Comments\n",
    "Comments are notes for human readers placed in the midst of code. Writing comments can make code much more understandable. In Python, you make comments by starting a line (first non-space character) with a '#'. Notice how everything in the scope of a comment is highlighted the same color. "
   ]
  },
  {
   "cell_type": "code",
   "execution_count": null,
   "metadata": {},
   "outputs": [],
   "source": [
    "# These are my friends - okay, this isn't a very useful comment\n",
    "friends = ['Jenny', 'Tony', 'Pichuan', 'Wayan']"
   ]
  },
  {
   "cell_type": "markdown",
   "metadata": {},
   "source": [
    "You'll want to write comments in your code to say what it does. Especially if your memory is bad. Normally bigger comments that say what a block of code does are more useful than commenting individual lines. People can usually look at a line of code and read it. It's harder to get a sense of what a block of code does."
   ]
  },
  {
   "cell_type": "markdown",
   "metadata": {},
   "source": [
    "## Let's write a program with what we already know!\n",
    "We've learned enough that we can already write a non-trivial program. We can write a program that takes Scene 1 of Monty Python and the Holy Grail and works out how many sentences there are in it, how many characters there are in each sentence and in total (remember the **len()** function!) and so works out the average number of characters per sentence in the scene. First, here's the text of the scene again. Press Shift-Return on it so that the variable mp1 has a value we can work with."
   ]
  },
  {
   "cell_type": "code",
   "execution_count": null,
   "metadata": {},
   "outputs": [],
   "source": [
    "mp1 = [ \"Whoa there!\", \n",
    "\"Halt!\",\n",
    "\"Who goes there?\",\n",
    "\"It is I, Arthur, son of Uther Pendragon, from the castle of Camelot.\",\n",
    "\"King of the Britons, defeator of the Saxons, sovereign of all England!\",\n",
    "\"Pull the other one!\",\n",
    "\"I am.\",\n",
    "\"And this my trusty servant Patsy.\",\n",
    "\"We have ridden the length and breadth of the land in search of knights who will join me in my court of Camelot.\",\n",
    "\"I must speak with your lord and master.\",\n",
    "\"What, ridden on a horse?\",\n",
    "\"Yes!\",\n",
    "\"You're using coconuts!\",\n",
    "\"What?\",\n",
    "\"You've got two empty halves of coconut and you're bangin' 'em together.\",\n",
    "\"So?\",\n",
    "\"We have ridden since the snows of winter covered this land, through the kingdom of Mercia, through--\",\n",
    "\"Where'd you get the coconut?\",\n",
    "\"We found them.\",\n",
    "\"Found them?\",\n",
    "\"In Mercia?\",\n",
    "\"The coconut's tropical!\",\n",
    "\"What do you mean?\",\n",
    "\"Well, this is a temperate zone.\",\n",
    "\"The swallow may fly south with the sun or the house martin or the plumber may seek warmer climes in winter yet these are not\", \"strangers to our land.\",\n",
    "\"Are you suggesting coconuts migrate?\",\n",
    "\"Not at all, they could be carried.\",\n",
    "\"What -- a swallow carrying a coconut?\",\n",
    "\"It could grip it by the husk!\",\n",
    "\"It's not a question of where he grips it!\",\n",
    "\"It's a simple question of weight ratios!\",\n",
    "\"A five ounce bird could not carry a 1 pound coconut.\",\n",
    "\"Well, it doesn't matter.\",\n",
    "\"Will you go and tell your master that Arthur from the Court of Camelot is here.\",\n",
    "\"Listen, in order to maintain air-speed velocity, a swallow needs to beat its wings 43 times every second, right?\",\n",
    "\"Please!\",\n",
    "\"Am I right?\",\n",
    "\"I'm not interested!\",\n",
    "\"It could be carried by an African swallow!\",\n",
    "\"Oh, yeah, an African swallow maybe, but not a European swallow, that's my point.\",\n",
    "\"Oh, yeah, I agree with that...\",\n",
    "\"Will you ask your master if he wants to join my court at Camelot?!\",\n",
    "\"But then of course African swallows are not migratory.\",\n",
    "\"Oh, yeah...\",\n",
    "\"So they couldn't bring a coconut back anyway...\",\n",
    "\"Wait a minute -- supposing two swallows carried it together?\",\n",
    "\"No, they'd have to have it on a line.\",\n",
    "\"Well, simple!\",\n",
    "\"They'd just use a standard creeper!\",\n",
    "\"What, held under the dorsal guiding feathers?\",\n",
    "\"Well, why not?\"]"
   ]
  },
  {
   "cell_type": "markdown",
   "metadata": {},
   "source": [
    "**Q6:** Write the program in the next box. Have it print output that looks like this:\n",
    "```\n",
    "Scene 1 is <int> sentences long.\n",
    "Scene 1 is <int> characters long.\n",
    "The average sentence length in characters: <float>.\n",
    "```"
   ]
  },
  {
   "cell_type": "code",
   "execution_count": null,
   "metadata": {},
   "outputs": [],
   "source": [
    "# This code calculates lengths and averages for mp1"
   ]
  },
  {
   "cell_type": "markdown",
   "metadata": {},
   "source": [
    "### Let's learn some more about strings, and objects in general"
   ]
  },
  {
   "cell_type": "markdown",
   "metadata": {},
   "source": [
    "As well as being able to apply functions to an object, objects of a particular kind, such as **str** can have **methods** defined on them. Much of what you end up doing is using **methods** which are defined for a type of object. There are lots of methods for **str** that manipulate strings. A method operates on an object and may take additional arguments. You write one like this:\n",
    "```\n",
    "object.methodName(args)\n",
    "```\n",
    "For example, a couple of simple methods on **str** is to convert them to upper or lower case. Or to capitalize them. Try them out below. Note that you usually use methods on variables, but can apply them directly to a **str**."
   ]
  },
  {
   "cell_type": "code",
   "execution_count": null,
   "metadata": {},
   "outputs": [],
   "source": [
    "sent = \"This is a sentence.\"\n",
    "oe = \"Hwǣr is se feltūn, bidde?\"\n",
    "chinese = \"国家主席习近平就以色列前领导人佩雷斯不幸逝世向以色列总统里夫林致唁电\"\n",
    "print(sent.lower())\n",
    "print(oe.upper())\n",
    "print(chinese.upper())\n",
    "print(\"this is a sentence. what about the second?\".capitalize())"
   ]
  },
  {
   "cell_type": "markdown",
   "metadata": {},
   "source": [
    "Here's a method that you'll want to use a lot: **split()**. It splits a **str** into a list of **str** pieces. With no arguments, it splits on any substring of consecutive whitespace. With an argument, it splits on that **str** only. That can be useful for things like comma-separated data. Try it."
   ]
  },
  {
   "cell_type": "code",
   "execution_count": null,
   "metadata": {},
   "outputs": [],
   "source": [
    "print('41,2,13'.split())\n",
    "print('41,2,13'.split(','))\n",
    "print(mp1[0].split())\n",
    "print(mp1[1].split())\n",
    "print(mp1[3].split())"
   ]
  },
  {
   "cell_type": "markdown",
   "metadata": {},
   "source": [
    "As you'll note, our splitting into \"words\" is imperfect, as the punctuation is still stuck to the words. We'll have to do better later to really process language! But, for now, let's just declare as a word every space separated substring. We should now be able to make the last program fancier, so that it also counts words and works out an average word length.\n",
    "\n",
    "There's a link on the class syllabus page to the Python library manual page giving all the methods for **str**. It's a useful reference, but don't let yourself get confused by it! I think this notebook mentions the only functions you need for the assignment."
   ]
  },
  {
   "cell_type": "markdown",
   "metadata": {},
   "source": [
    "**Q7:** Write a program that also works out the number of words in each sentence of _Monty Python and the Holy Grail_ Scene 1 and the number of characters per word. Have it print output that looks like this:\n",
    "```\n",
    "Sentence 1 is <int> characters.\n",
    "Sentence 1 is <int> words long.\n",
    "This sentence has <float> characters per word.\n",
    "Sentence 2 is <int> characters.\n",
    "Sentence 2 is <int> words long.\n",
    "This sentence has <float> characters per word.\n",
    "...\n",
    "Scene 1 is <int> sentences long.\n",
    "Scene 1 is <int> characters long.\n",
    "The average sentence length in characters: <float>.\n",
    "The average word length in characters: <float>.\n",
    "```"
   ]
  },
  {
   "cell_type": "code",
   "execution_count": null,
   "metadata": {},
   "outputs": [],
   "source": [
    "# Here is my answer to Q7"
   ]
  },
  {
   "cell_type": "markdown",
   "metadata": {},
   "source": [
    "### Booleans\n",
    "One more data type that you need to know about is booleans. There are two booleans which have reserved names: **True** and **False**. If you ask a question about equality or comparison, Python will return a boolean. You can compare numbers with < or >, like in school. Equality and inequality can be used for all objects, but the notation is slightly trickier.  **Important!** We use == for equality (because = is already taken for assignment), and we use != for inequality, so we have something easy to type. You can also use >= and <= for greater than or less than or equal.  Try a few out."
   ]
  },
  {
   "cell_type": "code",
   "execution_count": null,
   "metadata": {},
   "outputs": [],
   "source": [
    "4 > 3"
   ]
  },
  {
   "cell_type": "code",
   "execution_count": null,
   "metadata": {},
   "outputs": [],
   "source": [
    "7 == 7"
   ]
  },
  {
   "cell_type": "code",
   "execution_count": null,
   "metadata": {},
   "outputs": [],
   "source": [
    "\"Sue\" == \"sue\""
   ]
  },
  {
   "cell_type": "code",
   "execution_count": null,
   "metadata": {},
   "outputs": [],
   "source": [
    "\"Sue\" != \"sue\""
   ]
  },
  {
   "cell_type": "code",
   "execution_count": null,
   "metadata": {},
   "outputs": [],
   "source": [
    "[1,3] == [3,1]"
   ]
  },
  {
   "cell_type": "markdown",
   "metadata": {},
   "source": [
    "### Functions\n",
    "There's one more *really* important thing to learn. As well as the built-in functions, we can define out *own* functions. It's pretty easy. You start them with the reserved word **def**, followed by its name and variables for its arguments, and then you put the contents in an indented block after that. Here's an example of a function that computes the mean (average) of a list of numbers. A function can return a value with the **return** reserved word."
   ]
  },
  {
   "cell_type": "code",
   "execution_count": null,
   "metadata": {},
   "outputs": [],
   "source": [
    "def mean(vals):\n",
    "    \"\"\"Return the mean of the values in the list vals.\n",
    "    vals is assume to be a list of numbers (float or int.\"\"\"            \n",
    "    total = 0.0\n",
    "    for x in vals:\n",
    "        total = total + x\n",
    "    return total / len(vals)"
   ]
  },
  {
   "cell_type": "markdown",
   "metadata": {},
   "source": [
    "You can then use it by calling it just like a built in function. Try these out:"
   ]
  },
  {
   "cell_type": "code",
   "execution_count": null,
   "metadata": {},
   "outputs": [],
   "source": [
    "mean([5,12,13])"
   ]
  },
  {
   "cell_type": "code",
   "execution_count": null,
   "metadata": {},
   "outputs": [],
   "source": [
    "lengths = []\n",
    "for sent in mp1:\n",
    "    lengths = lengths + [len(sent)]\n",
    "ave = mean(lengths)\n",
    "print(\"Average sentence length in chars: \" + str(ave))"
   ]
  },
  {
   "cell_type": "markdown",
   "metadata": {},
   "source": [
    "On the side, we've learned 2 things:\n",
    "\n",
    "- You can have multi-line **str** by enclosing them in **3** sets of quotes! This is often useful in text processing. It is also standardly used to document a method, right at the beginning if its body. This is called a **docstring**. There is special support for extracting docstrings and making web pages.\n",
    "- You can also concatenate to lists with **+**. But it has to be two lists. You can't concatenate a list and a number. Rather, there are methods on lists to append or insert an object. More later."
   ]
  },
  {
   "cell_type": "markdown",
   "metadata": {},
   "source": [
    "**Q8:** Convert what you did in **Q7** into a function below. Then you should be able to call it on any list of strings such as the example two below."
   ]
  },
  {
   "cell_type": "code",
   "execution_count": null,
   "metadata": {},
   "outputs": [],
   "source": [
    "# Write a function textinfo(list) that prints info on lengths"
   ]
  },
  {
   "cell_type": "code",
   "execution_count": null,
   "metadata": {},
   "outputs": [],
   "source": [
    "# You should be able to run it like this\n",
    "textinfo(mp1)"
   ]
  },
  {
   "cell_type": "code",
   "execution_count": null,
   "metadata": {},
   "outputs": [],
   "source": [
    "# Or like this\n",
    "textinfo(['This is a short one', 'And this', 'Yes'])"
   ]
  },
  {
   "cell_type": "markdown",
   "metadata": {},
   "source": [
    "### More questions!"
   ]
  },
  {
   "cell_type": "markdown",
   "metadata": {},
   "source": [
    "**Q9:** Complete the function palindrome_detector for identifying \n",
    "palindromes (words that are the same forward and backwards).  Your \n",
    "function should be case-insensitive (e.g., 'Wow' should count as a \n",
    "palindrome) and it should ignore spaces (e.g., 'race car' is a \n",
    "palindrome). \n",
    "\n",
    "Two useful things to know:\n",
    "\n",
    "- Another useful method for a **str** is **replace**. You can use it to change or to delete a letter:\n",
    "```\n",
    "ransom_note = \"You need to send cash!\".replace('e', 'E')\n",
    "no_e = \"You need to send cash!\".replace('e', '')\n",
    "```\n",
    "- Your method needs to return a boolean. You can do that simply by putting a condition in the return statement, e.g.:\n",
    "```\n",
    "return x > 23\n",
    "```\n",
    "\n",
    "To test your function, call **palindrome_detector_test()**, which will work with no modifications. (It has stuff in it that we haven't covered, so you don't need to understand it, you just have to be able to call it!)"
   ]
  },
  {
   "cell_type": "code",
   "execution_count": null,
   "metadata": {},
   "outputs": [],
   "source": [
    "def palindrome_detector(s):\n",
    "    \"\"\"The input is any str s. \n",
    "    The return value is True if s is a palindrome, else False.\"\"\"\n",
    "    # Delete the reserved word pass and fill in your function.\n",
    "    pass\n",
    "\n",
    "def palindrome_detector_test():\n",
    "    \"\"\"Simple unit test for palindrome_detector.\"\"\"\n",
    "    sample = (\n",
    "        ('deleveled', True),\n",
    "        ('Malayalam', True),\n",
    "        ('detartrated', True),\n",
    "        ('a', True),\n",
    "        ('repaper', True),\n",
    "        ('Al lets Della call Ed Stella', True),\n",
    "        ('Lisa Bonet ate no basil', True),\n",
    "        ('Linguistics', False),\n",
    "        ('Python', False),\n",
    "        ('palindrome', False),\n",
    "        ('an', False),\n",
    "        ('re-paper', False)\n",
    "        )\n",
    "    for s, val in sample:\n",
    "        try: \n",
    "            assert palindrome_detector(s) == val\n",
    "        except AssertionError:\n",
    "            print('palindrome_detector error for ' + s)    \n"
   ]
  },
  {
   "cell_type": "code",
   "execution_count": null,
   "metadata": {},
   "outputs": [],
   "source": []
  },
  {
   "cell_type": "markdown",
   "metadata": {},
   "source": [
    "**Q10:** Here is some data, like a text spreadsheet with subject IDs, their heights, and their occupations, all stored as one big multiline string this time, with commas between fields. Write a function that will take this string and return the average height of the subjects.\n",
    "\n",
    "You should be able to use some of the functions that we looked at and wrote earler.\n",
    "\n",
    "You will need to know about one more method on **str**. The method **splitlines()** is a like **split()** but splits on ends of lines not whitespace."
   ]
  },
  {
   "cell_type": "code",
   "execution_count": null,
   "metadata": {},
   "outputs": [],
   "source": [
    "myspreadsheet =\"\"\"Subject,Height,Occupation\n",
    "1,74.37000326528938,Psychologist\n",
    "2,67.49686206937491,Psychologist\n",
    "3,74.92356434760966,Psychologist\n",
    "4,64.62372198999978,Psychologist\n",
    "5,67.76787900026083,Linguist\n",
    "6,61.50397707923559,Psychologist\n",
    "7,62.73680961908566,Psychologist\n",
    "8,68.60803984763902,Linguist\n",
    "9,70.16090500135535,Psychologist\n",
    "10,76.81144438287173,Linguist\"\"\""
   ]
  },
  {
   "cell_type": "code",
   "execution_count": null,
   "metadata": {
    "tags": []
   },
   "outputs": [],
   "source": [
    "def mean_height(data):\n",
    "    \"\"\"Return the mean numerical value of column 1 (the second column!)\n",
    "    in a spreadsheet that is just a big string.\"\"\"\n",
    "    # Delete the reserved word pass and fill in your function.\n",
    "    pass\n"
   ]
  }
 ],
 "metadata": {
  "anaconda-cloud": {},
  "kernelspec": {
   "display_name": "Python 3 ",
   "language": "python",
   "name": "python3"
  },
  "language_info": {
   "codemirror_mode": {
    "name": "ipython",
    "version": 3
   },
   "file_extension": ".py",
   "mimetype": "text/x-python",
   "name": "python",
   "nbconvert_exporter": "python",
   "pygments_lexer": "ipython3",
   "version": "3.9.6"
  }
 },
 "nbformat": 4,
 "nbformat_minor": 4
}
