{
 "cells": [
  {
   "cell_type": "markdown",
   "id": "ce22cc66",
   "metadata": {},
   "source": [
    "# 3. The same in Python"
   ]
  },
  {
   "cell_type": "markdown",
   "id": "da01d074",
   "metadata": {},
   "source": [
    "*Based on notebook by Lucas Champolion with some alterations from Mia Jacobsen*"
   ]
  },
  {
   "cell_type": "markdown",
   "id": "eec15f69",
   "metadata": {},
   "source": [
    "Now, let's do the same calculations again in Python. This is just a warm-up for the next exercise, where we will do the same calculations using millions of words!"
   ]
  },
  {
   "cell_type": "markdown",
   "id": "61d9496f",
   "metadata": {},
   "source": [
    "We start by counting the bigrams in our dataset. Don't worry if you don't fully understand every single part of the code we are using in this assignment (it uses more than just the basic Python we've introduced you to). "
   ]
  },
  {
   "cell_type": "markdown",
   "id": "b2b9d691",
   "metadata": {},
   "source": [
    "The point is that this code does the same as what you have just done yourself by hand: it counts every bigram and stores them in a way that makes it convenient for the computer to look up conditional probabilities.  "
   ]
  },
  {
   "cell_type": "markdown",
   "id": "59718191",
   "metadata": {},
   "source": [
    "The code in this question and the next is modified from https://nlpforhackers.io/language-models/."
   ]
  },
  {
   "cell_type": "markdown",
   "id": "7e3b63dc",
   "metadata": {},
   "source": [
    "First, we import the Natural Language Toolkit (NLTK), which describes itself as a  \"leading platform for building Python programs to work with human language data\". While we're at it, we'll also import a few other packages we'll need.\n"
   ]
  },
  {
   "cell_type": "code",
   "execution_count": 1,
   "id": "d69b7ff8",
   "metadata": {},
   "outputs": [],
   "source": [
    "import nltk # (1)\n",
    "from nltk import bigrams, trigrams #(2)\n",
    "import random # (3)\n",
    "import re"
   ]
  },
  {
   "cell_type": "markdown",
   "id": "8b8d902b",
   "metadata": {},
   "source": [
    "Next, let's import a special Counter device that will make our code easier to write. A Counter is like a Python dictionary except that the value of each entry is an integer, initially zero, that can be incremented to count things. We will use it to count occurrences of bigrams and (later) trigrams."
   ]
  },
  {
   "cell_type": "code",
   "execution_count": 2,
   "id": "58baed4c",
   "metadata": {},
   "outputs": [],
   "source": [
    "from collections import Counter"
   ]
  },
  {
   "cell_type": "markdown",
   "id": "7b539bbf",
   "metadata": {},
   "source": [
    "#### Code Explanation\n",
    "_The following explanation refers to the above code blocks, referencing parts in parentheses, e.g. `(1)`._\n",
    "\n",
    "(1) When a word becomes highlighted in Jupyter notebooks, we know it has some special meaning in Python. In the case of this line, we see the `import` keyword come in to play. For simple Python functionality, we can write our own functions, do basic math, etc. However, not all programs need complex functionality (like working with human language data), so these are left to external libraries- like NLTK! Using the `import` statement, we're saying, \"Hey Python, we need a hand here- can you get the nltk library for us?\"\n",
    "\n",
    "(2) Here we see another special keyword, `from`. If we tried to say `import bigrams`, Python might not know what we're talking about. However, when we say `from`, we're saying to look specifically at some library for things WITHIN that library. For example, \"Hey Python! In the nltk library you just imported, please find the `bigrams` and `trigrams` information within it.\"\n",
    "\n",
    "(3) Here we see, similarly to (1), importing the `random` module, which lets us do things like generating random numbers. The `random` module can be thought of as an external file called `random.py`. When we import it and want to access any code within it, we have to use `random.thing`. For example, `random` has a function to generate random integers. Instead of saying `randint(0, 10)`, we need to remind python that we need the function from the `random` module. This is done with the `.` operator, such as writing `random.randint(0, 10)`. To use `bigrams`, for example, we'd have to write `nltk.bigrams.function()` everywhere we wanted to use the bigrams, but thanks to `(2)` we can say `bigrams.function()`!\n",
    "\n",
    "As an added note, python also has a special keyword `as` that can be used for imports. If I had a super long library name, like `florgleborglekorgle` and I didn't want to write that everywhere in my code, I can do `import florgleborglekorgle as fbk`. That way, I can write `fbk.function()` wherever I need it."
   ]
  },
  {
   "cell_type": "markdown",
   "id": "e2d804b2",
   "metadata": {},
   "source": [
    "We'll represent our dataset as a list of lists of strings. Each string is a word and each list is a sentence."
   ]
  },
  {
   "cell_type": "code",
   "execution_count": 3,
   "id": "46d62c37",
   "metadata": {},
   "outputs": [],
   "source": [
    "seuss_dataset = [[\"I\", \"am\", \"Sam\"], \\\n",
    "                 [\"Sam\", \"I\", \"am\"], \\\n",
    "                 [\"I\", \"do\", \"not\", \"like\", \"green\", \"eggs\", \"and\", \"ham\"]]"
   ]
  },
  {
   "cell_type": "markdown",
   "id": "4123d04c",
   "metadata": {},
   "source": [
    "To create our language model, we'll first count all the bigrams that occur in this dataset, and then convert our counts to probabilities. The Counter device will help us do this. We start by creating an empty Counter."
   ]
  },
  {
   "cell_type": "code",
   "execution_count": 4,
   "id": "62387590",
   "metadata": {},
   "outputs": [],
   "source": [
    "# this is similar to last week when we made an empty dictionary to store word counts!\n",
    "seuss_model = Counter()"
   ]
  },
  {
   "cell_type": "markdown",
   "id": "bc8b7b04",
   "metadata": {},
   "source": [
    "The code in the next cell goes through the three sentences. For each of the sentences, it goes through the words in it, and uses the bigrams function from NLTK to access the bigrams in the sentence. It then uses the Counter device to count all the bigrams in the text. Note that \"i += 1\" is shorthand for \"i = i + 1\". Similarly for \"-=\", \"/=\", etc. We use w1 for the first word in a bigram and w2 for the second. The last line just causes the counter to print the outputs so you can inspect it, it doesn’t change the functionality of the code."
   ]
  },
  {
   "cell_type": "code",
   "execution_count": 5,
   "id": "2347d6ed",
   "metadata": {},
   "outputs": [
    {
     "data": {
      "text/plain": [
       "Counter({None: Counter({'I': 2, 'Sam': 1}),\n",
       "         'I': Counter({'am': 2, 'do': 1}),\n",
       "         'am': Counter({'Sam': 1, None: 1}),\n",
       "         'Sam': Counter({None: 1, 'I': 1}),\n",
       "         'do': Counter({'not': 1}),\n",
       "         'not': Counter({'like': 1}),\n",
       "         'like': Counter({'green': 1}),\n",
       "         'green': Counter({'eggs': 1}),\n",
       "         'eggs': Counter({'and': 1}),\n",
       "         'and': Counter({'ham': 1}),\n",
       "         'ham': Counter({None: 1})})"
      ]
     },
     "execution_count": 5,
     "metadata": {},
     "output_type": "execute_result"
    }
   ],
   "source": [
    "for sentence in seuss_dataset: # (1)\n",
    "    for w1, w2 in bigrams(sentence, pad_right=True, pad_left=True): # (2)\n",
    "        if not w1 in seuss_model: # (3)\n",
    "            seuss_model[w1] = Counter()\n",
    "        seuss_model[w1][w2] += 1\n",
    "        \n",
    "seuss_model"
   ]
  },
  {
   "cell_type": "markdown",
   "id": "b887f367",
   "metadata": {},
   "source": [
    "#### Code Explanation\n",
    "_The following explanation refers to the above code block, referencing parts in parentheses, e.g. `(1)`._\n",
    "\n",
    "(1) Here we see the presence of a nested for loop, so a for loop within a for loop. This first for loop here simply says, \"for every sentence within `suess_dataset`, perform all the following code\".\n",
    "\n",
    "(2) This is where the trickiness of nested for loops comes in. This for loop is saying, \"for word1 and word2 in the bigrams of `sentence`, perform the following code\". Let's break this down.\n",
    "- `bigrams(sentence)` is saying to find all the bigrams in a following string `sentence`. This variable `sentence` comes from the outermost, or the first, for loop.\n",
    "- Because the function `bigrams` returns two values (versus, say, a `sum` function that returns one value), we use `w1, w2`. We're telling Python to store the first return value of `bigrams` into `w1`, and the second into `w2`. Neat!\n",
    "\n",
    "(3) Lastly, we're now checking if `w1` already exists in our variable `seuss_model`. If it doesn't, we go ahead and add it so that it exists. If it already exists, we don't want ot add it twice! Then we increase the count of two words occurring next to each other with that second to last line.\n",
    "\n",
    "An important distinction with nested for loops is that the innermost loop, `for w1, w2...` in this case, will always run through ALL iterations first. If we have 1 sentence, then the inner-most for loop runs once for every bigram. If we have two sentences, it runs once for every bigram in the first sentence, then once for every bigram in the second sentence... and so on and so forth. For `n` sentences, if each sentence has `x` bigrams, then we run the loop `n*x` times. Because the `seuss_model` is declared outside both for loops, it stores all of this data and never resets within the loops."
   ]
  },
  {
   "cell_type": "markdown",
   "id": "cac59e63",
   "metadata": {},
   "source": [
    "Now, let's transform the counts to probabilities. We consider each word in turn and imagine it to be w1. Holding w1 fixed, we go through all the possible values for w2 and sum them up. Then we divide each of them by the sum. This way, all the w2 counts for a given w1 add up to 1. To do this, we use a for loop nested in another for loop."
   ]
  },
  {
   "cell_type": "code",
   "execution_count": 6,
   "id": "89ef16e3",
   "metadata": {},
   "outputs": [
    {
     "data": {
      "text/plain": [
       "Counter({None: Counter({'I': 0.6666666666666666, 'Sam': 0.3333333333333333}),\n",
       "         'I': Counter({'am': 0.6666666666666666, 'do': 0.3333333333333333}),\n",
       "         'am': Counter({'Sam': 0.5, None: 0.5}),\n",
       "         'Sam': Counter({None: 0.5, 'I': 0.5}),\n",
       "         'do': Counter({'not': 1.0}),\n",
       "         'not': Counter({'like': 1.0}),\n",
       "         'like': Counter({'green': 1.0}),\n",
       "         'green': Counter({'eggs': 1.0}),\n",
       "         'eggs': Counter({'and': 1.0}),\n",
       "         'and': Counter({'ham': 1.0}),\n",
       "         'ham': Counter({None: 1.0})})"
      ]
     },
     "execution_count": 6,
     "metadata": {},
     "output_type": "execute_result"
    }
   ],
   "source": [
    "for w1 in seuss_model:\n",
    "    total_count = float(sum(seuss_model[w1].values()))\n",
    "    for w2 in seuss_model[w1]:\n",
    "        seuss_model[w1][w2] /= total_count\n",
    "\n",
    "seuss_model"
   ]
  },
  {
   "cell_type": "markdown",
   "id": "dd2cb92e",
   "metadata": {},
   "source": [
    "We can now use this model to estimate the probability that a word will occur next, given the previous word. As we said, this is called the \"maximum likelihood estimate\". "
   ]
  },
  {
   "cell_type": "markdown",
   "id": "7f46d6d4",
   "metadata": {},
   "source": [
    "Let’s make simple predictions with this language model. As before, we will start with one randomly selected word – “I”. We want our model to tell us what the next word might be. Remember that there are three bigrams whose first word is \"I\":\n",
    "\n",
    "`\n",
    "I am\n",
    "I am\n",
    "I do\n",
    "`"
   ]
  },
  {
   "cell_type": "markdown",
   "id": "bdfd5b30",
   "metadata": {},
   "source": [
    "Now, we will estimate the probabilities of the next word given that a randomly selected word is \"I\". When we did this ourselves, we noticed that this is the case in two of these three bigrams, so we estimated:\n",
    "\n",
    "$P(am | I)=2/3$ \n",
    "\n",
    "$P(do | I)=1/3$ "
   ]
  },
  {
   "cell_type": "markdown",
   "id": "a88389d7",
   "metadata": {},
   "source": [
    "Here, w_1 is \"I\" and w_2 ranges over \"am\" and \"do\"."
   ]
  },
  {
   "cell_type": "markdown",
   "id": "a00c7fd4",
   "metadata": {},
   "source": [
    "Run the following command to ask the computer to do the same calculation:"
   ]
  },
  {
   "cell_type": "code",
   "execution_count": 7,
   "id": "a7b92617",
   "metadata": {},
   "outputs": [
    {
     "name": "stdout",
     "output_type": "stream",
     "text": [
      "{'am': 0.6666666666666666, 'do': 0.3333333333333333}\n"
     ]
    }
   ],
   "source": [
    "words_after_I = dict(seuss_model[\"I\"])\n",
    "\n",
    "print(words_after_I)"
   ]
  },
  {
   "cell_type": "markdown",
   "id": "e25c73f2",
   "metadata": {},
   "source": [
    "The computer could also have found these bigrams just by going through the text and looking for all the instances of \"I\". But arranging the dataset in a table of bigrams makes this lookup simpler and more efficient. Humans work the same way: it is often useful to arrange data in a format that makes looking up things simpler and more efficient."
   ]
  },
  {
   "cell_type": "markdown",
   "id": "108f5008",
   "metadata": {},
   "source": [
    "**Question 3.1** \n",
    "Which command would ask the computer to look up the probabilities of the next word given that a randomly selected word is \"am\"? (Hint: This is an easy question and its answer will look similar to the previous code box.)\n"
   ]
  },
  {
   "cell_type": "code",
   "execution_count": 22,
   "id": "f98e7aa0",
   "metadata": {
    "tags": []
   },
   "outputs": [
    {
     "data": {
      "text/plain": [
       "{'Sam': 0.5, None: 0.5}"
      ]
     },
     "execution_count": 22,
     "metadata": {},
     "output_type": "execute_result"
    }
   ],
   "source": [
    "# adding the dict() function makes the output cleaner - we just return the dictionary with key and value\n",
    "# to see the difference it makes you can remove it and just write seuss_model['am']\n",
    "\n",
    "solution_q3_1 = dict(seuss_model[\"am\"]) # SOLUTION\n",
    "solution_q3_1"
   ]
  },
  {
   "cell_type": "markdown",
   "id": "7bd18f5b",
   "metadata": {},
   "source": [
    "You will notice that the end of a sentence is represented by the special keyword None."
   ]
  },
  {
   "cell_type": "markdown",
   "id": "0daf4880",
   "metadata": {},
   "source": [
    "**Question 3.2** \n",
    "Which command would ask the computer to look up the probabilities of the next word given that a randomly selected word is \"green\"? (Hint: This will also look similar to the previous code boxes.)\n"
   ]
  },
  {
   "cell_type": "code",
   "execution_count": 23,
   "id": "e296885e",
   "metadata": {
    "tags": []
   },
   "outputs": [
    {
     "data": {
      "text/plain": [
       "Counter({'eggs': 1.0})"
      ]
     },
     "execution_count": 23,
     "metadata": {},
     "output_type": "execute_result"
    }
   ],
   "source": [
    "solution_q3_2 = dict(seuss_model[\"green\"])\n",
    "\n",
    "solution_q3_2"
   ]
  },
  {
   "cell_type": "markdown",
   "id": "398fb42d",
   "metadata": {},
   "source": [
    "# 4. Trigrams using the Reuters Corpus\n",
    "(30 points -- autograded)"
   ]
  },
  {
   "cell_type": "markdown",
   "id": "7af2d7aa",
   "metadata": {},
   "source": [
    "In this problem, we will build a basic language model using trigrams of the Reuters corpus. (A \"corpus\" is a large and structured collection of texts. The plural of \"corpus\" is \"corpora\"). The Reuters corpus is a collection of 10,788 news documents totaling 1.3 million words. We can build a language model in a few lines of code using the NLTK package. Essentially, this code does the same as before, except with more words and with trigrams instead of bigrams."
   ]
  },
  {
   "cell_type": "markdown",
   "id": "96e6f3df",
   "metadata": {},
   "source": [
    "In probability notation, we write $P(w_n|w_{n-2},w_{n-1})$ for the probability that the next word will be $w_n$, given that the last two words were $w_{n-2}$ and $w_{n-1}$."
   ]
  },
  {
   "cell_type": "markdown",
   "id": "fc1e4a35",
   "metadata": {},
   "source": [
    "The following box tells your notebook where to find the Reuters corpus as well as other corpora."
   ]
  },
  {
   "cell_type": "code",
   "execution_count": 12,
   "id": "5dfaa4ef",
   "metadata": {},
   "outputs": [
    {
     "name": "stderr",
     "output_type": "stream",
     "text": [
      "[nltk_data] Downloading package reuters to\n",
      "[nltk_data]     /Users/miajacobsen/nltk_data...\n",
      "[nltk_data]   Package reuters is already up-to-date!\n",
      "[nltk_data] Downloading package punkt to\n",
      "[nltk_data]     /Users/miajacobsen/nltk_data...\n",
      "[nltk_data]   Unzipping tokenizers/punkt.zip.\n"
     ]
    },
    {
     "data": {
      "text/plain": [
       "True"
      ]
     },
     "execution_count": 12,
     "metadata": {},
     "output_type": "execute_result"
    }
   ],
   "source": [
    "# code in this question is based on https://nlpforhackers.io/language-models/\n",
    "\n",
    "# first we need to download any copora we might be interested in - so if you want gutenberg later, remember to download it like this\n",
    "nltk.download('reuters')\n",
    "nltk.download('punkt')"
   ]
  },
  {
   "cell_type": "markdown",
   "id": "cfbe63f7",
   "metadata": {},
   "source": [
    "The following box specifies which corpus to use. We will start with the Reuters corpus."
   ]
  },
  {
   "cell_type": "markdown",
   "id": "5f53e398",
   "metadata": {},
   "source": [
    "A later question will ask you to change the name of the corpus in this box. At this point, you don't need to change it. Just run the box."
   ]
  },
  {
   "cell_type": "code",
   "execution_count": 13,
   "id": "f4e661f5",
   "metadata": {},
   "outputs": [],
   "source": [
    "# Available corpora include:\n",
    "# - reuters\n",
    "# - gutenberg\n",
    "# - webtext\n",
    "# - brown\n",
    "# - inaugural\n",
    "# - state_union\n",
    "\n",
    "# TO CHANGE THE CORPUS NAME, YOU WOULD EDIT THE FOLLOWING LINE\n",
    "from nltk.corpus import reuters as the_corpus \n",
    "\n",
    "# eg. to use gutenberg, you would change the previous line to: \n",
    "# from nltk.corpus import gutenberg as the_corpus"
   ]
  },
  {
   "cell_type": "markdown",
   "id": "0f53d54d",
   "metadata": {},
   "source": [
    "#### Code Explanation\n",
    "_The following explanation refers to the above code block._\n",
    "\n",
    "Revisit the code explanation block in the import statements at the start of this assignment. Keep in mind the explanation of the `as` keyword as you look at the code below. When you change the corpus, we don't have to change everywhere `the_corpus` shows up- we would if we used something like `reuters.words()` instead of `the_corpus.words()`!"
   ]
  },
  {
   "cell_type": "markdown",
   "id": "6f3b2824",
   "metadata": {},
   "source": [
    "By default, run this box without changes to load the Reuters corpus. Later on we will ask you to use other corpora. To download these corpora, you will then change the code as indicated and run it again."
   ]
  },
  {
   "cell_type": "markdown",
   "id": "9738ccf1",
   "metadata": {},
   "source": [
    "Now let's print the first few words of the corpus just to make sure everything is working as expected. "
   ]
  },
  {
   "cell_type": "code",
   "execution_count": 14,
   "id": "80e3a921",
   "metadata": {},
   "outputs": [
    {
     "name": "stdout",
     "output_type": "stream",
     "text": [
      "Beginning of corpus: ['ASIAN', 'EXPORTERS', 'FEAR', 'DAMAGE', 'FROM', 'U', ...]\n"
     ]
    }
   ],
   "source": [
    "print(\"Beginning of corpus:\", the_corpus.words())"
   ]
  },
  {
   "cell_type": "markdown",
   "id": "820cb496",
   "metadata": {},
   "source": [
    "\n",
    "If you have loaded the Reuters corpus, you should see something like this: Beginning of corpus: ['ASIAN', 'EXPORTERS', 'FEAR', 'DAMAGE', 'FROM', 'U', ...]"
   ]
  },
  {
   "cell_type": "markdown",
   "id": "811e5f2d",
   "metadata": {},
   "source": [
    "The following code is very similar to the one in the previous question, and does essentially the same thing, but with trigrams instead of bigrams: construct a big table where each row is the previous two words, and each column is the next word. "
   ]
  },
  {
   "cell_type": "markdown",
   "id": "920ada28",
   "metadata": {},
   "source": [
    "Let's create an empty language model. "
   ]
  },
  {
   "cell_type": "code",
   "execution_count": 15,
   "id": "c441d204",
   "metadata": {},
   "outputs": [],
   "source": [
    "corpus_model = Counter()"
   ]
  },
  {
   "cell_type": "markdown",
   "id": "140d4486",
   "metadata": {},
   "source": [
    "Next, we go through the corpus and count the trigrams we see. Depending on how large it is, this might need a lot of computer memory (about 700 MB for the reuters corpus). You can see in the top right corner how much memory you are using. Normally, this shouldn't be a problem, but if you run into any issues, let us know via the Padlet. "
   ]
  },
  {
   "cell_type": "code",
   "execution_count": 24,
   "id": "e59cbd2b",
   "metadata": {},
   "outputs": [],
   "source": [
    "for sentence in the_corpus.sents():\n",
    "    for w1, w2, w3 in trigrams(sentence, pad_right=True, pad_left=True):\n",
    "        # this means we now use two words at a time to predict the next\n",
    "        if not (w1,w2) in corpus_model:\n",
    "            corpus_model[w1,w2] = Counter()\n",
    "        corpus_model[w1,w2][w3] += 1"
   ]
  },
  {
   "cell_type": "markdown",
   "id": "4c2eb3a1",
   "metadata": {},
   "source": [
    "#### Code Explanation\n",
    "_The following explanation refers to the above code block._\n",
    "\n",
    "Once again we have a nested for loop performing an operation on every sentence. The structure is the same as the use of bigrams in our `seuss_model` previously in the assignment, but now we're using trigrams!"
   ]
  },
  {
   "cell_type": "markdown",
   "id": "efe5ef62",
   "metadata": {},
   "source": [
    "Now, let's transform the counts to probabilities. As before, we use a for loop nested in another for loop. The only difference is we have trigrams rather than bigrams, so we have w1, w2, and w3 instead of just w1 and w2."
   ]
  },
  {
   "cell_type": "code",
   "execution_count": 17,
   "id": "9044120f",
   "metadata": {},
   "outputs": [],
   "source": [
    "for (w1,w2) in corpus_model:\n",
    "    total_count = float(sum(corpus_model[w1,w2].values()))\n",
    "    for w3 in corpus_model[w1,w2]:\n",
    "        corpus_model[w1,w2][w3] /= total_count"
   ]
  },
  {
   "cell_type": "markdown",
   "id": "5636c951",
   "metadata": {},
   "source": [
    "Let’s make simple predictions with this language model. We will start with two simple words – “today the”. We want our model to tell us what it thinks the next word will be."
   ]
  },
  {
   "cell_type": "markdown",
   "id": "4ba3fb7d",
   "metadata": {},
   "source": [
    "Let's try this out with the words \"today\" and \"the\". See what happens when you replace one or both of these words, e.g. replacing \"the\" with \"a\" or replacing \"today\" with \"on\" or \"yesterday\". "
   ]
  },
  {
   "cell_type": "code",
   "execution_count": 18,
   "id": "e03629a1",
   "metadata": {
    "scrolled": true
   },
   "outputs": [
    {
     "name": "stdout",
     "output_type": "stream",
     "text": [
      "P('company'|'today','the') = 0.16666666666666666 (rounded: 0.167)\n",
      "P('price'|'today','the') = 0.1111111111111111 (rounded: 0.111)\n",
      "P('Bank'|'today','the') = 0.05555555555555555 (rounded: 0.056)\n",
      "P('emirate'|'today','the') = 0.05555555555555555 (rounded: 0.056)\n",
      "P('European'|'today','the') = 0.05555555555555555 (rounded: 0.056)\n",
      "P('Higher'|'today','the') = 0.05555555555555555 (rounded: 0.056)\n",
      "P('increase'|'today','the') = 0.05555555555555555 (rounded: 0.056)\n",
      "P('Italian'|'today','the') = 0.05555555555555555 (rounded: 0.056)\n",
      "P('newspaper'|'today','the') = 0.05555555555555555 (rounded: 0.056)\n",
      "P('options'|'today','the') = 0.05555555555555555 (rounded: 0.056)\n",
      "P('overseas'|'today','the') = 0.05555555555555555 (rounded: 0.056)\n",
      "P('pound'|'today','the') = 0.05555555555555555 (rounded: 0.056)\n",
      "P('public'|'today','the') = 0.05555555555555555 (rounded: 0.056)\n",
      "P('time'|'today','the') = 0.05555555555555555 (rounded: 0.056)\n",
      "P('Turkish'|'today','the') = 0.05555555555555555 (rounded: 0.056)\n"
     ]
    }
   ],
   "source": [
    "word1 = \"today\"\n",
    "word2 = \"the\"\n",
    "\n",
    "# The following code looks up the probabilities of all the words that follow these two words, and prints them \n",
    "# in a human-readable format.\n",
    "if corpus_model == None: # (1)\n",
    "    pass\n",
    "elif (word1,word2) not in corpus_model: # (2)\n",
    "     print(\"There are no occurrences of '\"+word1+\" \"+word2+\"' in the corpus!\")\n",
    "#    random_text = random.sample(list(corpus_model), 1)[0]\n",
    "#    print(\"There are no occurrences of '\"+word1+\" \"+word2+\"' in the corpus! Using random words '\"+random_text[0]+\" \"+random_text[1]+\"' instead.\")\n",
    "#    text[0]=random_text[0]\n",
    "#    text[1]=random_text[1]\n",
    "else: # (3)\n",
    "    values = corpus_model[word1, word2]\n",
    "    sorted_result = sorted(values.items(), key=lambda x: (-x[1], x[0].lower())) # (4)\n",
    "    for entry in sorted_result: # (5)\n",
    "        word=entry[0]\n",
    "        prob=entry[1]\n",
    "        prob_rounded=round(entry[1],3)\n",
    "        if prob == prob_rounded:\n",
    "            print(\"P('\"+entry[0]+\"'|'\"+word1+\"','\"+word2+\"') = \"+str(entry[1]))\n",
    "        else:\n",
    "            print(\"P('\"+entry[0]+\"'|'\"+word1+\"','\"+word2+\"') = \"+str(entry[1])+\" (rounded: \"+str(round(entry[1],3))+\")\")"
   ]
  },
  {
   "cell_type": "markdown",
   "id": "73f26116",
   "metadata": {},
   "source": [
    "#### Code Explanation\n",
    "_The following explanation refers to the above code block, referencing parts in parentheses, e.g. `(1)`._\n",
    "\n",
    "(1) This is a simple `if` statement that says \"if `corpus_model` doesn't exist, do nothing\". Since we can't have empty `if` statements in Python, amongst other things, we use the keyword `pass`.\n",
    "\n",
    "(2) This `elif` statement executes only if the above `if` statement does not. It simply checks if `word1` and `word2` exist as a pair inside of the previous generated `corpus_model` and prints this out if it doesn't. Note that `word1` and `word2` are values declared at the top of the code cell. Change them to non-words and see what prints!\n",
    "\n",
    "(3) If neither the above `if` or `elif` statements execute, then this `else` block will execute. For the two given words, we store the value in `corpus_model` into the variable called `values.`\n",
    "\n",
    "(4) Here, we are storing something inside the variable `sorted_values`. All in all, we are sorting the the list `values.items()` (feel free to write `print(values.items())` above this and see what it shows) according to the formula after `key=`. Don't stress too much about this though, it is just the way you tell Python to put it in descending order (i.e., if you ever need something like this again, use google or copy/paste this line)\n",
    "\n",
    "(5) And that all brings us to our for loop! For every item in our `sorted_result` list, which we call `entry` here, `entry[0]`, to be the word being compared and `entry[1]` which gets the probably of that. We then print this result, showing the word, our `word1` and `word2` above, as well as its probability. See if you can see where each of these variables print out!"
   ]
  },
  {
   "cell_type": "code",
   "execution_count": 31,
   "id": "d1361701",
   "metadata": {},
   "outputs": [],
   "source": [
    "# for ease of use, I've made it a function\n",
    "# notice that I could just copy/paste almost all of the code, because my function inputs are the same as how we defined the words in the previous cell\n",
    "# meaning that functions can usually be built from code you already have with minor alterations!\n",
    "\n",
    "def trigram_probs(word1, word2):\n",
    "    # for function purposes, print statements become saved as an output which I then return\n",
    "    output = []\n",
    "    if corpus_model == None:\n",
    "        pass\n",
    "    elif (word1,word2) not in corpus_model: \n",
    "         output = (\"There are no occurrences of '\"+word1+\" \"+word2+\"' in the corpus!\")\n",
    "    else: \n",
    "        values = corpus_model[word1, word2]\n",
    "        sorted_result = sorted(values.items(), key=lambda x: (-x[1], x[0].lower())) \n",
    "        for entry in sorted_result: # (5)\n",
    "            word=entry[0]\n",
    "            prob=entry[1]\n",
    "            prob_rounded=round(entry[1],3)\n",
    "            if prob == prob_rounded:\n",
    "                output.append(\"P('\"+entry[0]+\"'|'\"+word1+\"','\"+word2+\"') = \"+str(entry[1]))\n",
    "            else:\n",
    "                output.append(\"P('\"+entry[0]+\"'|'\"+word1+\"','\"+word2+\"') = \"+str(entry[1])+\" (rounded: \"+str(round(entry[1],3))+\")\")\n",
    "    \n",
    "    return output"
   ]
  },
  {
   "cell_type": "markdown",
   "id": "02c5229c",
   "metadata": {},
   "source": [
    "**Bonus Q.** Take the function from above which returns a list of the previous print statements and instead make it return the probability of a specific word given word1 and word2 (i.e., make a function that gives you the answer to the following questions."
   ]
  },
  {
   "cell_type": "code",
   "execution_count": 61,
   "id": "8659c59e",
   "metadata": {},
   "outputs": [
    {
     "data": {
      "text/plain": [
       "1.056"
      ]
     },
     "execution_count": 61,
     "metadata": {},
     "output_type": "execute_result"
    }
   ],
   "source": [
    "# solution 1\n",
    "def simple_bonus_solve(word1, word2,word3):\n",
    "    # keeping most of the code\n",
    "    # we no longer need to pre-define output though, since we are not appending multiple print statements but just returning one answer\n",
    "    if corpus_model == None:\n",
    "        pass\n",
    "    elif (word1,word2) not in corpus_model: \n",
    "         output = (\"There are no occurrences of '\"+word1+\" \"+word2+\"' in the corpus!\")\n",
    "    else: \n",
    "        values = corpus_model[word1, word2]\n",
    "        sorted_result = sorted(values.items(), key=lambda x: (-x[1], x[0].lower())) \n",
    "        for entry in sorted_result: # (5)\n",
    "            word=entry[0]\n",
    "            if word == word3:\n",
    "                prob=entry[1]\n",
    "                output=round(entry[1],3)\n",
    "                # so I just left out the print statements in favor of the probability of only word3 \n",
    "                # why is this solution not optimal though? \n",
    "\n",
    "    return output\n",
    "\n",
    "# solution 2\n",
    "def bonus_solution(word1, word2, word3):\n",
    "    if corpus_model == None:\n",
    "        pass\n",
    "    elif (word1,word2) not in corpus_model: \n",
    "         output = (\"There are no occurrences of '\"+word1+\" \"+word2+\"' in the corpus!\")\n",
    "    # this is where the magic happens\n",
    "    else: \n",
    "        # no longer need to sort, but we do need it as a dictionary so we can retrieve the probability for word3\n",
    "        results = dict(corpus_model[word1, word2])\n",
    "        output = results[word3]\n",
    "        output = round(output, 3) # rounding to 3 decimals \n",
    "    return output \n",
    "\n"
   ]
  },
  {
   "cell_type": "markdown",
   "id": "8d7580ca",
   "metadata": {},
   "source": [
    "**Question 4.1.** What is the probability $P(Bank|today,the)$? You can give the solution rounded to three decimals. This is an easy question.\n"
   ]
  },
  {
   "cell_type": "code",
   "execution_count": 55,
   "id": "a60da4ee",
   "metadata": {
    "tags": []
   },
   "outputs": [
    {
     "name": "stdout",
     "output_type": "stream",
     "text": [
      "1.056\n"
     ]
    },
    {
     "data": {
      "text/plain": [
       "[\"P('company'|'today','the') = 3.166666666666667 (rounded: 3.167)\",\n",
       " \"P('price'|'today','the') = 2.111111111111111 (rounded: 2.111)\",\n",
       " \"P('Bank'|'today','the') = 1.0555555555555556 (rounded: 1.056)\",\n",
       " \"P('emirate'|'today','the') = 1.0555555555555556 (rounded: 1.056)\",\n",
       " \"P('European'|'today','the') = 1.0555555555555556 (rounded: 1.056)\",\n",
       " \"P('Higher'|'today','the') = 1.0555555555555556 (rounded: 1.056)\",\n",
       " \"P('increase'|'today','the') = 1.0555555555555556 (rounded: 1.056)\",\n",
       " \"P('Italian'|'today','the') = 1.0555555555555556 (rounded: 1.056)\",\n",
       " \"P('newspaper'|'today','the') = 1.0555555555555556 (rounded: 1.056)\",\n",
       " \"P('options'|'today','the') = 1.0555555555555556 (rounded: 1.056)\",\n",
       " \"P('overseas'|'today','the') = 1.0555555555555556 (rounded: 1.056)\",\n",
       " \"P('pound'|'today','the') = 1.0555555555555556 (rounded: 1.056)\",\n",
       " \"P('public'|'today','the') = 1.0555555555555556 (rounded: 1.056)\",\n",
       " \"P('time'|'today','the') = 1.0555555555555556 (rounded: 1.056)\",\n",
       " \"P('Turkish'|'today','the') = 1.0555555555555556 (rounded: 1.056)\"]"
      ]
     },
     "execution_count": 55,
     "metadata": {},
     "output_type": "execute_result"
    }
   ],
   "source": [
    "# using the bonus function\n",
    "# notice we have to get the capitilization right because we haven't done any preprocessing of the text data\n",
    "solution_q4_1_1 = bonus_solution('today', 'the', 'Bank')\n",
    "print(solution_q4_1_1)\n",
    "\n",
    "# just looking at the print statements and reading the answer manually\n",
    "solution_q4_1_2 = trigram_probs('today', 'the')\n",
    "solution_q4_1_2\n"
   ]
  },
  {
   "cell_type": "markdown",
   "id": "29c6b355",
   "metadata": {},
   "source": [
    "**Question 4.2.** Now, what is the probability $P(company|today,the)$? You can give the solution rounded to three decimals. This is an easy question.\n"
   ]
  },
  {
   "cell_type": "code",
   "execution_count": 56,
   "id": "7a5fb89f",
   "metadata": {
    "tags": []
   },
   "outputs": [
    {
     "data": {
      "text/plain": [
       "3.167"
      ]
     },
     "execution_count": 56,
     "metadata": {},
     "output_type": "execute_result"
    }
   ],
   "source": [
    "solution_q4_2 = bonus_solution('today', 'the', 'company')\n",
    "solution_q4_2"
   ]
  },
  {
   "cell_type": "markdown",
   "id": "90ebd445",
   "metadata": {},
   "source": [
    "**Question 4.3.** Now, what is the probability $P(reported|the,company)$? This will require you to change the words \"today\" and \"the\" in the cell above, running it again, and looking up the answer in the output. You can give the solution rounded to three decimals.\n"
   ]
  },
  {
   "cell_type": "code",
   "execution_count": 59,
   "id": "37635c81",
   "metadata": {
    "tags": []
   },
   "outputs": [
    {
     "name": "stdout",
     "output_type": "stream",
     "text": [
      "35.018\n"
     ]
    },
    {
     "data": {
      "text/plain": [
       "[\"P('''|'the','company') = 476.24523441524985 (rounded: 476.245)\",\n",
       " \"P('said'|'the','company') = 426.21947449768163 (rounded: 426.219)\",\n",
       " \"P('.'|'the','company') = 161.0829469345698 (rounded: 161.083)\",\n",
       " \"P(','|'the','company') = 79.04070066975785 (rounded: 79.041)\",\n",
       " \"P('to'|'the','company') = 69.0355486862442 (rounded: 69.036)\",\n",
       " \"P('has'|'the','company') = 44.02266872746007 (rounded: 44.023)\",\n",
       " \"P('would'|'the','company') = 43.02215352910871 (rounded: 43.022)\",\n",
       " \"P('is'|'the','company') = 39.020092735703244 (rounded: 39.02)\",\n",
       " \"P('will'|'the','company') = 38.01957753735188 (rounded: 38.02)\",\n",
       " \"P('was'|'the','company') = 37.01906233900051 (rounded: 37.019)\",\n",
       " \"P('reported'|'the','company') = 35.01803194229778 (rounded: 35.018)\",\n",
       " \"P('had'|'the','company') = 34.017516743946416 (rounded: 34.018)\",\n",
       " \"P('and'|'the','company') = 32.016486347243685 (rounded: 32.016)\",\n",
       " \"P('for'|'the','company') = 16.008243173621842 (rounded: 16.008)\",\n",
       " \"P('earned'|'the','company') = 14.007212776919115 (rounded: 14.007)\",\n",
       " \"P('in'|'the','company') = 13.00669757856775 (rounded: 13.007)\",\n",
       " 'P(\\',\"\\'|\\'the\\',\\'company\\') = 11.005667181865018 (rounded: 11.006)',\n",
       " \"P('at'|'the','company') = 11.005667181865018 (rounded: 11.006)\",\n",
       " \"P('by'|'the','company') = 10.005151983513652 (rounded: 10.005)\",\n",
       " \"P('expects'|'the','company') = 10.005151983513652 (rounded: 10.005)\",\n",
       " \"P('might'|'the','company') = 10.005151983513652 (rounded: 10.005)\",\n",
       " \"P('with'|'the','company') = 10.005151983513652 (rounded: 10.005)\",\n",
       " \"P('as'|'the','company') = 8.004121586810921 (rounded: 8.004)\",\n",
       " \"P('does'|'the','company') = 8.004121586810921 (rounded: 8.004)\",\n",
       " \"P('may'|'the','company') = 8.004121586810921 (rounded: 8.004)\",\n",
       " \"P('could'|'the','company') = 6.003091190108192 (rounded: 6.003)\",\n",
       " \"P('lost'|'the','company') = 6.003091190108192 (rounded: 6.003)\",\n",
       " \"P('or'|'the','company') = 6.003091190108192 (rounded: 6.003)\",\n",
       " \"P('private'|'the','company') = 6.003091190108192 (rounded: 6.003)\",\n",
       " \"P('should'|'the','company') = 6.003091190108192 (rounded: 6.003)\",\n",
       " \"P('that'|'the','company') = 6.003091190108192 (rounded: 6.003)\",\n",
       " \"P('added'|'the','company') = 5.002575991756826 (rounded: 5.003)\",\n",
       " \"P('after'|'the','company') = 5.002575991756826 (rounded: 5.003)\",\n",
       " \"P('faced'|'the','company') = 5.002575991756826 (rounded: 5.003)\",\n",
       " \"P('from'|'the','company') = 5.002575991756826 (rounded: 5.003)\",\n",
       " \"P('intends'|'the','company') = 5.002575991756826 (rounded: 5.003)\",\n",
       " \"P('through'|'the','company') = 5.002575991756826 (rounded: 5.003)\",\n",
       " \"P('also'|'the','company') = 4.002060793405461 (rounded: 4.002)\",\n",
       " \"P('announced'|'the','company') = 4.002060793405461 (rounded: 4.002)\",\n",
       " \"P('did'|'the','company') = 4.002060793405461 (rounded: 4.002)\",\n",
       " \"P('expected'|'the','company') = 4.002060793405461 (rounded: 4.002)\",\n",
       " \"P('it'|'the','company') = 4.002060793405461 (rounded: 4.002)\",\n",
       " \"P('posted'|'the','company') = 4.002060793405461 (rounded: 4.002)\",\n",
       " \"P('still'|'the','company') = 4.002060793405461 (rounded: 4.002)\",\n",
       " 'P(\\'\"\\'|\\'the\\',\\'company\\') = 3.001545595054096 (rounded: 3.002)',\n",
       " 'P(\\'.\"\\'|\\'the\\',\\'company\\') = 3.001545595054096 (rounded: 3.002)',\n",
       " \"P('acquired'|'the','company') = 3.001545595054096 (rounded: 3.002)\",\n",
       " \"P('currently'|'the','company') = 3.001545595054096 (rounded: 3.002)\",\n",
       " \"P('hopes'|'the','company') = 3.001545595054096 (rounded: 3.002)\",\n",
       " \"P('into'|'the','company') = 3.001545595054096 (rounded: 3.002)\",\n",
       " \"P('last'|'the','company') = 3.001545595054096 (rounded: 3.002)\",\n",
       " \"P('of'|'the','company') = 3.001545595054096 (rounded: 3.002)\",\n",
       " \"P('on'|'the','company') = 3.001545595054096 (rounded: 3.002)\",\n",
       " \"P('proposed'|'the','company') = 3.001545595054096 (rounded: 3.002)\",\n",
       " \"P('the'|'the','company') = 3.001545595054096 (rounded: 3.002)\",\n",
       " \"P('told'|'the','company') = 3.001545595054096 (rounded: 3.002)\",\n",
       " \"P('a'|'the','company') = 2.0010303967027303 (rounded: 2.001)\",\n",
       " \"P('already'|'the','company') = 2.0010303967027303 (rounded: 2.001)\",\n",
       " \"P('because'|'the','company') = 2.0010303967027303 (rounded: 2.001)\",\n",
       " \"P('called'|'the','company') = 2.0010303967027303 (rounded: 2.001)\",\n",
       " \"P('can'|'the','company') = 2.0010303967027303 (rounded: 2.001)\",\n",
       " \"P('changed'|'the','company') = 2.0010303967027303 (rounded: 2.001)\",\n",
       " \"P('decides'|'the','company') = 2.0010303967027303 (rounded: 2.001)\",\n",
       " \"P('following'|'the','company') = 2.0010303967027303 (rounded: 2.001)\",\n",
       " \"P('have'|'the','company') = 2.0010303967027303 (rounded: 2.001)\",\n",
       " \"P('he'|'the','company') = 2.0010303967027303 (rounded: 2.001)\",\n",
       " \"P('hoped'|'the','company') = 2.0010303967027303 (rounded: 2.001)\",\n",
       " \"P('if'|'the','company') = 2.0010303967027303 (rounded: 2.001)\",\n",
       " \"P('its'|'the','company') = 2.0010303967027303 (rounded: 2.001)\",\n",
       " \"P('made'|'the','company') = 2.0010303967027303 (rounded: 2.001)\",\n",
       " \"P('now'|'the','company') = 2.0010303967027303 (rounded: 2.001)\",\n",
       " \"P('paid'|'the','company') = 2.0010303967027303 (rounded: 2.001)\",\n",
       " \"P('planned'|'the','company') = 2.0010303967027303 (rounded: 2.001)\",\n",
       " \"P('plans'|'the','company') = 2.0010303967027303 (rounded: 2.001)\",\n",
       " \"P('public'|'the','company') = 2.0010303967027303 (rounded: 2.001)\",\n",
       " \"P('purchased'|'the','company') = 2.0010303967027303 (rounded: 2.001)\",\n",
       " \"P('rejected'|'the','company') = 2.0010303967027303 (rounded: 2.001)\",\n",
       " \"P('supports'|'the','company') = 2.0010303967027303 (rounded: 2.001)\",\n",
       " \"P('this'|'the','company') = 2.0010303967027303 (rounded: 2.001)\",\n",
       " \"P('under'|'the','company') = 2.0010303967027303 (rounded: 2.001)\",\n",
       " \"P('wanted'|'the','company') = 2.0010303967027303 (rounded: 2.001)\",\n",
       " \"P('wants'|'the','company') = 2.0010303967027303 (rounded: 2.001)\",\n",
       " \"P('were'|'the','company') = 2.0010303967027303 (rounded: 2.001)\",\n",
       " \"P('-'|'the','company') = 1.0005151983513654 (rounded: 1.001)\",\n",
       " \"P('./'|'the','company') = 1.0005151983513654 (rounded: 1.001)\",\n",
       " \"P('25'|'the','company') = 1.0005151983513654 (rounded: 1.001)\",\n",
       " \"P('abandoned'|'the','company') = 1.0005151983513654 (rounded: 1.001)\",\n",
       " \"P('accepted'|'the','company') = 1.0005151983513654 (rounded: 1.001)\",\n",
       " \"P('agreed'|'the','company') = 1.0005151983513654 (rounded: 1.001)\",\n",
       " \"P('aimed'|'the','company') = 1.0005151983513654 (rounded: 1.001)\",\n",
       " \"P('aims'|'the','company') = 1.0005151983513654 (rounded: 1.001)\",\n",
       " \"P('alleged'|'the','company') = 1.0005151983513654 (rounded: 1.001)\",\n",
       " \"P('almost'|'the','company') = 1.0005151983513654 (rounded: 1.001)\",\n",
       " \"P('anticipates'|'the','company') = 1.0005151983513654 (rounded: 1.001)\",\n",
       " \"P('approximately'|'the','company') = 1.0005151983513654 (rounded: 1.001)\",\n",
       " \"P('asked'|'the','company') = 1.0005151983513654 (rounded: 1.001)\",\n",
       " \"P('based'|'the','company') = 1.0005151983513654 (rounded: 1.001)\",\n",
       " \"P('be'|'the','company') = 1.0005151983513654 (rounded: 1.001)\",\n",
       " \"P('began'|'the','company') = 1.0005151983513654 (rounded: 1.001)\",\n",
       " \"P('believes'|'the','company') = 1.0005151983513654 (rounded: 1.001)\",\n",
       " \"P('blamed'|'the','company') = 1.0005151983513654 (rounded: 1.001)\",\n",
       " \"P('bought'|'the','company') = 1.0005151983513654 (rounded: 1.001)\",\n",
       " \"P('broke'|'the','company') = 1.0005151983513654 (rounded: 1.001)\",\n",
       " \"P('builds'|'the','company') = 1.0005151983513654 (rounded: 1.001)\",\n",
       " \"P('but'|'the','company') = 1.0005151983513654 (rounded: 1.001)\",\n",
       " \"P('capitalized'|'the','company') = 1.0005151983513654 (rounded: 1.001)\",\n",
       " \"P('cash'|'the','company') = 1.0005151983513654 (rounded: 1.001)\",\n",
       " \"P('chairman'|'the','company') = 1.0005151983513654 (rounded: 1.001)\",\n",
       " \"P('changes'|'the','company') = 1.0005151983513654 (rounded: 1.001)\",\n",
       " \"P('charged'|'the','company') = 1.0005151983513654 (rounded: 1.001)\",\n",
       " \"P('controls'|'the','company') = 1.0005151983513654 (rounded: 1.001)\",\n",
       " \"P('cooperate'|'the','company') = 1.0005151983513654 (rounded: 1.001)\",\n",
       " \"P('cut'|'the','company') = 1.0005151983513654 (rounded: 1.001)\",\n",
       " \"P('December'|'the','company') = 1.0005151983513654 (rounded: 1.001)\",\n",
       " \"P('decided'|'the','company') = 1.0005151983513654 (rounded: 1.001)\",\n",
       " \"P('declared'|'the','company') = 1.0005151983513654 (rounded: 1.001)\",\n",
       " \"P('declined'|'the','company') = 1.0005151983513654 (rounded: 1.001)\",\n",
       " \"P('declining'|'the','company') = 1.0005151983513654 (rounded: 1.001)\",\n",
       " \"P('described'|'the','company') = 1.0005151983513654 (rounded: 1.001)\",\n",
       " \"P('designs'|'the','company') = 1.0005151983513654 (rounded: 1.001)\",\n",
       " \"P('during'|'the','company') = 1.0005151983513654 (rounded: 1.001)\",\n",
       " \"P('earlier'|'the','company') = 1.0005151983513654 (rounded: 1.001)\",\n",
       " \"P('employee'|'the','company') = 1.0005151983513654 (rounded: 1.001)\",\n",
       " \"P('ended'|'the','company') = 1.0005151983513654 (rounded: 1.001)\",\n",
       " \"P('estimated'|'the','company') = 1.0005151983513654 (rounded: 1.001)\",\n",
       " \"P('estimates'|'the','company') = 1.0005151983513654 (rounded: 1.001)\",\n",
       " \"P('explained'|'the','company') = 1.0005151983513654 (rounded: 1.001)\",\n",
       " \"P('exports'|'the','company') = 1.0005151983513654 (rounded: 1.001)\",\n",
       " \"P('failed'|'the','company') = 1.0005151983513654 (rounded: 1.001)\",\n",
       " \"P('financial'|'the','company') = 1.0005151983513654 (rounded: 1.001)\",\n",
       " \"P('five'|'the','company') = 1.0005151983513654 (rounded: 1.001)\",\n",
       " \"P('generated'|'the','company') = 1.0005151983513654 (rounded: 1.001)\",\n",
       " \"P('hard'|'the','company') = 1.0005151983513654 (rounded: 1.001)\",\n",
       " \"P('hasn'|'the','company') = 1.0005151983513654 (rounded: 1.001)\",\n",
       " \"P('held'|'the','company') = 1.0005151983513654 (rounded: 1.001)\",\n",
       " \"P('improved'|'the','company') = 1.0005151983513654 (rounded: 1.001)\",\n",
       " \"P('increasing'|'the','company') = 1.0005151983513654 (rounded: 1.001)\",\n",
       " \"P('indicated'|'the','company') = 1.0005151983513654 (rounded: 1.001)\",\n",
       " \"P('initially'|'the','company') = 1.0005151983513654 (rounded: 1.001)\",\n",
       " \"P('interested'|'the','company') = 1.0005151983513654 (rounded: 1.001)\",\n",
       " \"P('involved'|'the','company') = 1.0005151983513654 (rounded: 1.001)\",\n",
       " \"P('itself'|'the','company') = 1.0005151983513654 (rounded: 1.001)\",\n",
       " \"P('look'|'the','company') = 1.0005151983513654 (rounded: 1.001)\",\n",
       " \"P('maintained'|'the','company') = 1.0005151983513654 (rounded: 1.001)\",\n",
       " \"P('maintains'|'the','company') = 1.0005151983513654 (rounded: 1.001)\",\n",
       " \"P('more'|'the','company') = 1.0005151983513654 (rounded: 1.001)\",\n",
       " \"P('must'|'the','company') = 1.0005151983513654 (rounded: 1.001)\",\n",
       " \"P('nearly'|'the','company') = 1.0005151983513654 (rounded: 1.001)\",\n",
       " \"P('never'|'the','company') = 1.0005151983513654 (rounded: 1.001)\",\n",
       " \"P('normally'|'the','company') = 1.0005151983513654 (rounded: 1.001)\",\n",
       " \"P('noted'|'the','company') = 1.0005151983513654 (rounded: 1.001)\",\n",
       " \"P('objects'|'the','company') = 1.0005151983513654 (rounded: 1.001)\",\n",
       " \"P('opened'|'the','company') = 1.0005151983513654 (rounded: 1.001)\",\n",
       " \"P('operated'|'the','company') = 1.0005151983513654 (rounded: 1.001)\",\n",
       " \"P('option'|'the','company') = 1.0005151983513654 (rounded: 1.001)\",\n",
       " \"P('originally'|'the','company') = 1.0005151983513654 (rounded: 1.001)\",\n",
       " \"P('outbid'|'the','company') = 1.0005151983513654 (rounded: 1.001)\",\n",
       " \"P('outlined'|'the','company') = 1.0005151983513654 (rounded: 1.001)\",\n",
       " \"P('owed'|'the','company') = 1.0005151983513654 (rounded: 1.001)\",\n",
       " \"P('paying'|'the','company') = 1.0005151983513654 (rounded: 1.001)\",\n",
       " \"P('predicted'|'the','company') = 1.0005151983513654 (rounded: 1.001)\",\n",
       " \"P('presented'|'the','company') = 1.0005151983513654 (rounded: 1.001)\",\n",
       " \"P('prior'|'the','company') = 1.0005151983513654 (rounded: 1.001)\",\n",
       " \"P('profitable'|'the','company') = 1.0005151983513654 (rounded: 1.001)\",\n",
       " \"P('realised'|'the','company') = 1.0005151983513654 (rounded: 1.001)\",\n",
       " \"P('received'|'the','company') = 1.0005151983513654 (rounded: 1.001)\",\n",
       " \"P('recognized'|'the','company') = 1.0005151983513654 (rounded: 1.001)\",\n",
       " \"P('recorded'|'the','company') = 1.0005151983513654 (rounded: 1.001)\",\n",
       " \"P('recovered'|'the','company') = 1.0005151983513654 (rounded: 1.001)\",\n",
       " \"P('recovers'|'the','company') = 1.0005151983513654 (rounded: 1.001)\",\n",
       " \"P('redeemed'|'the','company') = 1.0005151983513654 (rounded: 1.001)\",\n",
       " \"P('released'|'the','company') = 1.0005151983513654 (rounded: 1.001)\",\n",
       " \"P('remained'|'the','company') = 1.0005151983513654 (rounded: 1.001)\",\n",
       " \"P('retroactively'|'the','company') = 1.0005151983513654 (rounded: 1.001)\",\n",
       " \"P('return'|'the','company') = 1.0005151983513654 (rounded: 1.001)\",\n",
       " \"P('sees'|'the','company') = 1.0005151983513654 (rounded: 1.001)\",\n",
       " \"P('set'|'the','company') = 1.0005151983513654 (rounded: 1.001)\",\n",
       " \"P('shareholders'|'the','company') = 1.0005151983513654 (rounded: 1.001)\",\n",
       " \"P('significant'|'the','company') = 1.0005151983513654 (rounded: 1.001)\",\n",
       " \"P('so'|'the','company') = 1.0005151983513654 (rounded: 1.001)\",\n",
       " \"P('spent'|'the','company') = 1.0005151983513654 (rounded: 1.001)\",\n",
       " \"P('stated'|'the','company') = 1.0005151983513654 (rounded: 1.001)\",\n",
       " \"P('stressed'|'the','company') = 1.0005151983513654 (rounded: 1.001)\",\n",
       " \"P('themselves'|'the','company') = 1.0005151983513654 (rounded: 1.001)\",\n",
       " \"P('today'|'the','company') = 1.0005151983513654 (rounded: 1.001)\",\n",
       " \"P('total'|'the','company') = 1.0005151983513654 (rounded: 1.001)\",\n",
       " \"P('trading'|'the','company') = 1.0005151983513654 (rounded: 1.001)\",\n",
       " \"P('transferred'|'the','company') = 1.0005151983513654 (rounded: 1.001)\",\n",
       " \"P('unless'|'the','company') = 1.0005151983513654 (rounded: 1.001)\",\n",
       " \"P('until'|'the','company') = 1.0005151983513654 (rounded: 1.001)\",\n",
       " \"P('urged'|'the','company') = 1.0005151983513654 (rounded: 1.001)\",\n",
       " \"P('values'|'the','company') = 1.0005151983513654 (rounded: 1.001)\",\n",
       " \"P('welcomes'|'the','company') = 1.0005151983513654 (rounded: 1.001)\",\n",
       " \"P('went'|'the','company') = 1.0005151983513654 (rounded: 1.001)\",\n",
       " \"P('which'|'the','company') = 1.0005151983513654 (rounded: 1.001)\",\n",
       " \"P('withdrew'|'the','company') = 1.0005151983513654 (rounded: 1.001)\",\n",
       " \"P('without'|'the','company') = 1.0005151983513654 (rounded: 1.001)\",\n",
       " \"P('yesterday'|'the','company') = 1.0005151983513654 (rounded: 1.001)\"]"
      ]
     },
     "execution_count": 59,
     "metadata": {},
     "output_type": "execute_result"
    }
   ],
   "source": [
    "# bonus solution\n",
    "solution_q4_3 = bonus_solution('the', 'company', 'reported')\n",
    "print(solution_q4_3)\n",
    "\n",
    "# manually look at print statements\n",
    "solution_q4_3_2 = trigram_probs('the', 'company')\n",
    "solution_q4_3_2"
   ]
  },
  {
   "cell_type": "code",
   "execution_count": null,
   "id": "2ecef521",
   "metadata": {},
   "outputs": [],
   "source": []
  }
 ],
 "metadata": {
  "kernelspec": {
   "display_name": "Python 3 (ipykernel)",
   "language": "python",
   "name": "python3"
  },
  "language_info": {
   "codemirror_mode": {
    "name": "ipython",
    "version": 3
   },
   "file_extension": ".py",
   "mimetype": "text/x-python",
   "name": "python",
   "nbconvert_exporter": "python",
   "pygments_lexer": "ipython3",
   "version": "3.9.9"
  }
 },
 "nbformat": 4,
 "nbformat_minor": 5
}
